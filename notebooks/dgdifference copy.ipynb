{
 "cells": [
  {
   "cell_type": "code",
   "execution_count": 1,
   "metadata": {},
   "outputs": [],
   "source": [
    "%load_ext autoreload\n",
    "%autoreload 2"
   ]
  },
  {
   "cell_type": "code",
   "execution_count": 2,
   "metadata": {},
   "outputs": [],
   "source": [
    "import sys \n",
    "sys.path.append('..')\n",
    "import numpy as np \n",
    "import networkx as nx \n",
    "from hdna import * "
   ]
  },
  {
   "cell_type": "code",
   "execution_count": 3,
   "metadata": {},
   "outputs": [
    {
     "name": "stdout",
     "output_type": "stream",
     "text": [
      "..((......+..))......\n",
      "gm: 5.691e+09 dg: -1.907 por: 1.195e-03 cir: 7.522e-03 c/p: 1.589e-01 GGMM: 1.371250e-01 DPXD: 4.000000 fwd: 4.972e+05 rate: 6.818e+04\n",
      "((........+...)).....\n",
      "gm: 5.049e+09 dg: -2.049 por: 2.223e-04 cir: 5.922e-03 c/p: 3.753e-02 GGMM: 3.617272e-02 DPXD: 5.000000 fwd: 5.603e+05 rate: 2.027e+04\n",
      ".....((...+........))\n",
      "gm: 5.049e+09 dg: -2.049 por: 2.223e-04 cir: 5.922e-03 c/p: 3.753e-02 GGMM: 3.617272e-02 DPXD: -5.000000 fwd: 5.603e+05 rate: 2.027e+04\n",
      "......((..+......))..\n",
      "gm: 5.691e+09 dg: -1.907 por: 1.195e-03 cir: 7.522e-03 c/p: 1.589e-01 GGMM: 1.371250e-01 DPXD: -4.000000 fwd: 4.972e+05 rate: 6.818e+04\n"
     ]
    },
    {
     "name": "stderr",
     "output_type": "stream",
     "text": [
      "                                                                \r"
     ]
    },
    {
     "name": "stdout",
     "output_type": "stream",
     "text": [
      "281 simulations didn't produce a duplex.\n",
      "That's 14.05% of simulations\n",
      "mod: 8.004e+05\n",
      "exp: 1.146e+06\n",
      "\n",
      "((((((((..+))))))))..\n",
      "gm: 1.727e+06 dg: -12.209 por: 3.457e-02 cir: 2.232e-10 c/p: 1.549e+08 GGMM: 1.000000e+00 DPXD: 2.000000 fwd: 2.886e+09 rate: 2.886e+09\n",
      "((((((....+))))))....\n",
      "gm: 2.982e+07 dg: -8.823 por: 1.195e-03 cir: 6.658e-08 c/p: 1.795e+04 GGMM: 9.999443e-01 DPXD: 4.000000 fwd: 1.671e+08 rate: 1.671e+08\n",
      "((((......+))))......\n",
      "gm: 5.150e+08 dg: -5.436 por: 4.133e-05 cir: 1.986e-05 c/p: 2.081e+00 GGMM: 6.754512e-01 DPXD: 6.000000 fwd: 9.677e+06 rate: 6.536e+06\n",
      "((........+))........\n",
      "gm: 8.895e+09 dg: -2.049 por: 1.429e-06 cir: 5.922e-03 c/p: 2.413e-04 GGMM: 2.412056e-04 DPXD: 8.000000 fwd: 5.603e+05 rate: 1.352e+02\n",
      "........((+........))\n",
      "gm: 8.895e+09 dg: -2.049 por: 1.429e-06 cir: 5.922e-03 c/p: 2.413e-04 GGMM: 2.412056e-04 DPXD: -8.000000 fwd: 5.603e+05 rate: 1.352e+02\n",
      "......((((+......))))\n",
      "gm: 5.150e+08 dg: -5.436 por: 4.133e-05 cir: 1.986e-05 c/p: 2.081e+00 GGMM: 6.754512e-01 DPXD: -6.000000 fwd: 9.677e+06 rate: 6.536e+06\n",
      "....((((((+....))))))\n",
      "gm: 2.982e+07 dg: -8.823 por: 1.195e-03 cir: 6.658e-08 c/p: 1.795e+04 GGMM: 9.999443e-01 DPXD: -4.000000 fwd: 1.671e+08 rate: 1.671e+08\n",
      "..((((((((+..))))))))\n",
      "gm: 1.727e+06 dg: -12.209 por: 3.457e-02 cir: 2.232e-10 c/p: 1.549e+08 GGMM: 1.000000e+00 DPXD: -2.000000 fwd: 2.886e+09 rate: 2.886e+09\n"
     ]
    },
    {
     "name": "stderr",
     "output_type": "stream",
     "text": [
      "                                                                \r"
     ]
    },
    {
     "name": "stdout",
     "output_type": "stream",
     "text": [
      "110 simulations didn't produce a duplex.\n",
      "That's 5.5% of simulations\n",
      "mod: 9.463e+05\n",
      "exp: 4.818e+06\n",
      "\n",
      "..(((.....+...)))....\n",
      "gm: 1.691e+09 dg: -3.623 por: 3.457e-02 cir: 4.194e-04 c/p: 8.244e+01 GGMM: 9.880150e-01 DPXD: 2.000000 fwd: 2.106e+06 rate: 2.080e+06\n",
      "((........+.....))...\n",
      "gm: 6.285e+09 dg: -2.062 por: 6.429e-03 cir: 5.792e-03 c/p: 1.110e+00 GGMM: 5.260418e-01 DPXD: 3.000000 fwd: 5.666e+05 rate: 2.981e+05\n",
      "....((....+.)).......\n",
      "gm: 6.356e+09 dg: -2.049 por: 6.429e-03 cir: 5.922e-03 c/p: 1.086e+00 GGMM: 5.205055e-01 DPXD: 3.000000 fwd: 5.603e+05 rate: 2.917e+05\n",
      "((((......+.)))).....\n",
      "gm: 4.800e+08 dg: -5.120 por: 2.223e-04 cir: 3.378e-05 c/p: 6.579e+00 GGMM: 8.680556e-01 DPXD: 5.000000 fwd: 7.419e+06 rate: 6.440e+06\n",
      ".....((((.+......))))\n",
      "gm: 4.800e+08 dg: -5.120 por: 2.223e-04 cir: 3.378e-05 c/p: 6.579e+00 GGMM: 8.680556e-01 DPXD: -5.000000 fwd: 7.419e+06 rate: 6.440e+06\n",
      "...((.....+........))\n",
      "gm: 6.285e+09 dg: -2.062 por: 6.429e-03 cir: 5.792e-03 c/p: 1.110e+00 GGMM: 5.260418e-01 DPXD: -3.000000 fwd: 5.666e+05 rate: 2.981e+05\n",
      ".......((.+....))....\n",
      "gm: 6.356e+09 dg: -2.049 por: 6.429e-03 cir: 5.922e-03 c/p: 1.086e+00 GGMM: 5.205055e-01 DPXD: -3.000000 fwd: 5.603e+05 rate: 2.917e+05\n",
      "....(((...+.....)))..\n",
      "gm: 1.691e+09 dg: -3.623 por: 3.457e-02 cir: 4.194e-04 c/p: 8.244e+01 GGMM: 9.880150e-01 DPXD: -2.000000 fwd: 2.106e+06 rate: 2.080e+06\n"
     ]
    },
    {
     "name": "stderr",
     "output_type": "stream",
     "text": [
      "                                                                \r"
     ]
    },
    {
     "name": "stdout",
     "output_type": "stream",
     "text": [
      "125 simulations didn't produce a duplex.\n",
      "That's 6.25% of simulations\n",
      "mod: 9.045e+05\n",
      "exp: 2.696e+06\n",
      "\n",
      ".....((.......+...)).........\n",
      "gm: 1.264e+12 dg: -1.907 por: 1.195e-03 cir: 7.522e-03 c/p: 1.589e-01 GGMM: 1.371250e-01 DPXD: 4.000000 fwd: 3.551e+05 rate: 4.870e+04\n",
      "...((.........+....))........\n",
      "gm: 1.122e+12 dg: -2.049 por: 2.223e-04 cir: 5.922e-03 c/p: 3.753e-02 GGMM: 3.617272e-02 DPXD: 5.000000 fwd: 4.002e+05 rate: 1.448e+04\n",
      ".((...........+..))..........\n",
      "gm: 1.300e+12 dg: -1.873 por: 2.657e-07 cir: 7.957e-03 c/p: 3.339e-05 GGMM: 3.338453e-05 DPXD: 9.000000 fwd: 3.453e+05 rate: 1.153e+01\n",
      "..........((..+...........)).\n",
      "gm: 1.300e+12 dg: -1.873 por: 2.657e-07 cir: 7.957e-03 c/p: 3.339e-05 GGMM: 3.338453e-05 DPXD: -9.000000 fwd: 3.453e+05 rate: 1.153e+01\n",
      "........((....+.........))...\n",
      "gm: 1.122e+12 dg: -2.049 por: 2.223e-04 cir: 5.922e-03 c/p: 3.753e-02 GGMM: 3.617272e-02 DPXD: -5.000000 fwd: 4.002e+05 rate: 1.448e+04\n",
      ".........((...+.......)).....\n",
      "gm: 1.264e+12 dg: -1.907 por: 1.195e-03 cir: 7.522e-03 c/p: 1.589e-01 GGMM: 1.371250e-01 DPXD: -4.000000 fwd: 3.551e+05 rate: 4.870e+04\n"
     ]
    },
    {
     "name": "stderr",
     "output_type": "stream",
     "text": [
      "                                                               \r"
     ]
    },
    {
     "ename": "KeyboardInterrupt",
     "evalue": "",
     "output_type": "error",
     "traceback": [
      "\u001b[0;31m---------------------------------------------------------------------------\u001b[0m",
      "\u001b[0;31mKeyboardInterrupt\u001b[0m                         Traceback (most recent call last)",
      "Cell \u001b[0;32mIn[3], line 32\u001b[0m\n\u001b[1;32m     30\u001b[0m \u001b[39mprint\u001b[39m()\n\u001b[1;32m     31\u001b[0m SA2 \u001b[39m=\u001b[39m Simulator(M, a2, a2\u001b[39m.\u001b[39mcomplementary(), OPT)\n\u001b[0;32m---> 32\u001b[0m _, ma2 \u001b[39m=\u001b[39m SA2\u001b[39m.\u001b[39;49mdirectsimulation()\n\u001b[1;32m     33\u001b[0m \u001b[39mprint\u001b[39m(\u001b[39m'\u001b[39m\u001b[39mmod:\u001b[39m\u001b[39m'\u001b[39m,\u001b[39m'\u001b[39m\u001b[39m{:.3e}\u001b[39;00m\u001b[39m'\u001b[39m\u001b[39m.\u001b[39mformat(ma2))\n\u001b[1;32m     34\u001b[0m \u001b[39mprint\u001b[39m(\u001b[39m'\u001b[39m\u001b[39mexp:\u001b[39m\u001b[39m'\u001b[39m,\u001b[39m'\u001b[39m\u001b[39m{:.3e}\u001b[39;00m\u001b[39m'\u001b[39m\u001b[39m.\u001b[39mformat(\u001b[39m1042172.8\u001b[39m))\n",
      "File \u001b[0;32m~/Desktop/hDNA/notebooks/../hdna/simulator.py:131\u001b[0m, in \u001b[0;36mSimulator.directsimulation\u001b[0;34m(self)\u001b[0m\n\u001b[1;32m    129\u001b[0m traj \u001b[39m=\u001b[39m \u001b[39mself\u001b[39m\u001b[39m.\u001b[39mget_trajectory(sim, weightlift\u001b[39m=\u001b[39m\u001b[39mTrue\u001b[39;00m, savetraj\u001b[39m=\u001b[39m\u001b[39mTrue\u001b[39;00m)\n\u001b[1;32m    130\u001b[0m kcoll \u001b[39m=\u001b[39m \u001b[39mself\u001b[39m\u001b[39m.\u001b[39mkinet\u001b[39m.\u001b[39mkinetics\u001b[39m.\u001b[39mdlrate \u001b[39m*\u001b[39m \u001b[39mself\u001b[39m\u001b[39m.\u001b[39mkinet\u001b[39m.\u001b[39mkinetics\u001b[39m.\u001b[39mgeonuc()\n\u001b[0;32m--> 131\u001b[0m collisiontime \u001b[39m=\u001b[39m expon(scale\u001b[39m=\u001b[39;49m\u001b[39m1\u001b[39;49m\u001b[39m/\u001b[39;49mkcoll)\u001b[39m.\u001b[39;49mrvs()\n\u001b[1;32m    132\u001b[0m \u001b[39m# print(collisiontime)\u001b[39;00m\n\u001b[1;32m    133\u001b[0m \u001b[39mtry\u001b[39;00m: \n",
      "File \u001b[0;32m~/miniconda3/envs/hdna/lib/python3.10/site-packages/scipy/stats/_distn_infrastructure.py:468\u001b[0m, in \u001b[0;36mrv_frozen.rvs\u001b[0;34m(self, size, random_state)\u001b[0m\n\u001b[1;32m    466\u001b[0m kwds \u001b[39m=\u001b[39m \u001b[39mself\u001b[39m\u001b[39m.\u001b[39mkwds\u001b[39m.\u001b[39mcopy()\n\u001b[1;32m    467\u001b[0m kwds\u001b[39m.\u001b[39mupdate({\u001b[39m'\u001b[39m\u001b[39msize\u001b[39m\u001b[39m'\u001b[39m: size, \u001b[39m'\u001b[39m\u001b[39mrandom_state\u001b[39m\u001b[39m'\u001b[39m: random_state})\n\u001b[0;32m--> 468\u001b[0m \u001b[39mreturn\u001b[39;00m \u001b[39mself\u001b[39;49m\u001b[39m.\u001b[39;49mdist\u001b[39m.\u001b[39;49mrvs(\u001b[39m*\u001b[39;49m\u001b[39mself\u001b[39;49m\u001b[39m.\u001b[39;49margs, \u001b[39m*\u001b[39;49m\u001b[39m*\u001b[39;49mkwds)\n",
      "File \u001b[0;32m~/miniconda3/envs/hdna/lib/python3.10/site-packages/scipy/stats/_distn_infrastructure.py:1048\u001b[0m, in \u001b[0;36mrv_generic.rvs\u001b[0;34m(self, *args, **kwds)\u001b[0m\n\u001b[1;32m   1045\u001b[0m \u001b[39melse\u001b[39;00m:\n\u001b[1;32m   1046\u001b[0m     random_state \u001b[39m=\u001b[39m \u001b[39mself\u001b[39m\u001b[39m.\u001b[39m_random_state\n\u001b[0;32m-> 1048\u001b[0m vals \u001b[39m=\u001b[39m \u001b[39mself\u001b[39;49m\u001b[39m.\u001b[39;49m_rvs(\u001b[39m*\u001b[39;49margs, size\u001b[39m=\u001b[39;49msize, random_state\u001b[39m=\u001b[39;49mrandom_state)\n\u001b[1;32m   1050\u001b[0m vals \u001b[39m=\u001b[39m vals \u001b[39m*\u001b[39m scale \u001b[39m+\u001b[39m loc\n\u001b[1;32m   1052\u001b[0m \u001b[39m# do not forget to restore the _random_state\u001b[39;00m\n",
      "File \u001b[0;32m~/miniconda3/envs/hdna/lib/python3.10/site-packages/scipy/stats/_continuous_distns.py:1647\u001b[0m, in \u001b[0;36mexpon_gen._rvs\u001b[0;34m(self, size, random_state)\u001b[0m\n\u001b[1;32m   1646\u001b[0m \u001b[39mdef\u001b[39;00m \u001b[39m_rvs\u001b[39m(\u001b[39mself\u001b[39m, size\u001b[39m=\u001b[39m\u001b[39mNone\u001b[39;00m, random_state\u001b[39m=\u001b[39m\u001b[39mNone\u001b[39;00m):\n\u001b[0;32m-> 1647\u001b[0m     \u001b[39mreturn\u001b[39;00m random_state\u001b[39m.\u001b[39;49mstandard_exponential(size)\n",
      "\u001b[0;31mKeyboardInterrupt\u001b[0m: "
     ]
    }
   ],
   "source": [
    "M = Model(standard=True, space_dimensionality='3D', min_nucleation=1)\n",
    "M.setparams(zipping=8.5e7, sliding=1e6)\n",
    "M.alpha = 1\n",
    "M.gamma = 0\n",
    "M.kappa = 1/2\n",
    "\n",
    "a1 = Strand(M, 'GTTCGGTCTA')\n",
    "n1 = Strand(M, 'CAACACAACC')\n",
    "b1 = Strand(M, 'ACACACACAC')\n",
    "a2 = Strand(M, 'GCTGTTCGGTCTAT')\n",
    "n2 = Strand(M, 'AACCAACACCACCA')\n",
    "b2 = Strand(M, 'CACACACACACACA')\n",
    "\n",
    "OPT = Options(Nsim=2000)\n",
    "\n",
    "SA1 = Simulator(M, a1, a1.complementary(), OPT)\n",
    "_, ma1 = SA1.directsimulation()\n",
    "print('mod:','{:.3e}'.format(ma1))\n",
    "print('exp:','{:.3e}'.format(1145949.98))\n",
    "print()\n",
    "SB1 = Simulator(M, b1, b1.complementary(), OPT)\n",
    "_, mb1 = SB1.directsimulation()\n",
    "print('mod:','{:.3e}'.format(mb1))\n",
    "print('exp:','{:.3e}'.format(4818114.36)) \n",
    "print()\n",
    "SN1 = Simulator(M, n1, n1.complementary(), OPT)\n",
    "_, mn1 = SB1.directsimulation()\n",
    "print('mod:','{:.3e}'.format(mn1))\n",
    "print('exp:','{:.3e}'.format(2.695608e+06)) \n",
    "print()\n",
    "SA2 = Simulator(M, a2, a2.complementary(), OPT)\n",
    "_, ma2 = SA2.directsimulation()\n",
    "print('mod:','{:.3e}'.format(ma2))\n",
    "print('exp:','{:.3e}'.format(1042172.8))\n",
    "print()\n",
    "SN2 = Simulator(M, n2, n2.complementary(), OPT)\n",
    "_, mn2 = SA2.directsimulation()\n",
    "print('mod:','{:.3e}'.format(mn2))\n",
    "print('exp:','{:.3e}'.format(3629903.36))\n",
    "print()\n",
    "SB2 = Simulator(M, b2, b2.complementary(), OPT)\n",
    "_, mb2 = SB2.directsimulation()\n",
    "print('mod:','{:.3e}'.format(mb2))\n",
    "print('exp:','{:.3e}'.format(4818114.36))"
   ]
  },
  {
   "cell_type": "code",
   "execution_count": null,
   "metadata": {},
   "outputs": [
    {
     "name": "stdout",
     "output_type": "stream",
     "text": [
      "..((......+..))...... fwd: 2.983e+05 gm: 2.133e+06 dg: -1.907 por: 20244121.29339029\n",
      "((........+...))..... fwd: 3.362e+05 gm: 1.892e+06 dg: -2.049 por: 1357918369.6855812\n",
      ".....((...+........)) fwd: 3.362e+05 gm: 1.892e+06 dg: -2.049 por: 7.364212918273906e-10\n",
      "......((..+......)).. fwd: 2.983e+05 gm: 2.133e+06 dg: -1.907 por: 4.939705633588059e-08\n"
     ]
    },
    {
     "name": "stderr",
     "output_type": "stream",
     "text": [
      "                                                                \r"
     ]
    },
    {
     "ename": "KeyboardInterrupt",
     "evalue": "",
     "output_type": "error",
     "traceback": [
      "\u001b[0;31m---------------------------------------------------------------------------\u001b[0m",
      "\u001b[0;31mKeyboardInterrupt\u001b[0m                         Traceback (most recent call last)",
      "Cell \u001b[0;32mIn[11], line 15\u001b[0m\n\u001b[1;32m     12\u001b[0m OPT \u001b[39m=\u001b[39m Options(Nsim\u001b[39m=\u001b[39m\u001b[39m2000\u001b[39m)\n\u001b[1;32m     14\u001b[0m SA1 \u001b[39m=\u001b[39m Simulator(M, a1, a1\u001b[39m.\u001b[39mcomplementary(), OPT)\n\u001b[0;32m---> 15\u001b[0m _, ma1 \u001b[39m=\u001b[39m SA1\u001b[39m.\u001b[39;49mdirectsimulation()\n\u001b[1;32m     16\u001b[0m \u001b[39mprint\u001b[39m(\u001b[39m'\u001b[39m\u001b[39mmod:\u001b[39m\u001b[39m'\u001b[39m,\u001b[39m'\u001b[39m\u001b[39m{:.3e}\u001b[39;00m\u001b[39m'\u001b[39m\u001b[39m.\u001b[39mformat(ma1))\n\u001b[1;32m     17\u001b[0m \u001b[39mprint\u001b[39m(\u001b[39m'\u001b[39m\u001b[39mexp:\u001b[39m\u001b[39m'\u001b[39m,\u001b[39m'\u001b[39m\u001b[39m{:.3e}\u001b[39;00m\u001b[39m'\u001b[39m\u001b[39m.\u001b[39mformat(\u001b[39m1145949.98\u001b[39m))\n",
      "File \u001b[0;32m~/Desktop/hDNA/notebooks/../hdna/simulator.py:131\u001b[0m, in \u001b[0;36mSimulator.directsimulation\u001b[0;34m(self)\u001b[0m\n\u001b[1;32m    129\u001b[0m traj \u001b[39m=\u001b[39m \u001b[39mself\u001b[39m\u001b[39m.\u001b[39mget_trajectory(sim, weightlift\u001b[39m=\u001b[39m\u001b[39mTrue\u001b[39;00m, savetraj\u001b[39m=\u001b[39m\u001b[39mTrue\u001b[39;00m)\n\u001b[1;32m    130\u001b[0m kcoll \u001b[39m=\u001b[39m \u001b[39mself\u001b[39m\u001b[39m.\u001b[39mkinet\u001b[39m.\u001b[39mkinetics\u001b[39m.\u001b[39mdlrate \u001b[39m*\u001b[39m \u001b[39mself\u001b[39m\u001b[39m.\u001b[39mkinet\u001b[39m.\u001b[39mkinetics\u001b[39m.\u001b[39mgeonuc()\n\u001b[0;32m--> 131\u001b[0m collisiontime \u001b[39m=\u001b[39m expon(scale\u001b[39m=\u001b[39;49m\u001b[39m1\u001b[39;49m\u001b[39m/\u001b[39;49mkcoll)\u001b[39m.\u001b[39;49mrvs()\n\u001b[1;32m    132\u001b[0m \u001b[39m# print(collisiontime)\u001b[39;00m\n\u001b[1;32m    133\u001b[0m \u001b[39mtry\u001b[39;00m: \n",
      "File \u001b[0;32m~/miniconda3/envs/hdna/lib/python3.10/site-packages/scipy/stats/_distn_infrastructure.py:468\u001b[0m, in \u001b[0;36mrv_frozen.rvs\u001b[0;34m(self, size, random_state)\u001b[0m\n\u001b[1;32m    466\u001b[0m kwds \u001b[39m=\u001b[39m \u001b[39mself\u001b[39m\u001b[39m.\u001b[39mkwds\u001b[39m.\u001b[39mcopy()\n\u001b[1;32m    467\u001b[0m kwds\u001b[39m.\u001b[39mupdate({\u001b[39m'\u001b[39m\u001b[39msize\u001b[39m\u001b[39m'\u001b[39m: size, \u001b[39m'\u001b[39m\u001b[39mrandom_state\u001b[39m\u001b[39m'\u001b[39m: random_state})\n\u001b[0;32m--> 468\u001b[0m \u001b[39mreturn\u001b[39;00m \u001b[39mself\u001b[39;49m\u001b[39m.\u001b[39;49mdist\u001b[39m.\u001b[39;49mrvs(\u001b[39m*\u001b[39;49m\u001b[39mself\u001b[39;49m\u001b[39m.\u001b[39;49margs, \u001b[39m*\u001b[39;49m\u001b[39m*\u001b[39;49mkwds)\n",
      "File \u001b[0;32m~/miniconda3/envs/hdna/lib/python3.10/site-packages/scipy/stats/_distn_infrastructure.py:1048\u001b[0m, in \u001b[0;36mrv_generic.rvs\u001b[0;34m(self, *args, **kwds)\u001b[0m\n\u001b[1;32m   1045\u001b[0m \u001b[39melse\u001b[39;00m:\n\u001b[1;32m   1046\u001b[0m     random_state \u001b[39m=\u001b[39m \u001b[39mself\u001b[39m\u001b[39m.\u001b[39m_random_state\n\u001b[0;32m-> 1048\u001b[0m vals \u001b[39m=\u001b[39m \u001b[39mself\u001b[39;49m\u001b[39m.\u001b[39;49m_rvs(\u001b[39m*\u001b[39;49margs, size\u001b[39m=\u001b[39;49msize, random_state\u001b[39m=\u001b[39;49mrandom_state)\n\u001b[1;32m   1050\u001b[0m vals \u001b[39m=\u001b[39m vals \u001b[39m*\u001b[39m scale \u001b[39m+\u001b[39m loc\n\u001b[1;32m   1052\u001b[0m \u001b[39m# do not forget to restore the _random_state\u001b[39;00m\n",
      "File \u001b[0;32m~/miniconda3/envs/hdna/lib/python3.10/site-packages/scipy/stats/_continuous_distns.py:1647\u001b[0m, in \u001b[0;36mexpon_gen._rvs\u001b[0;34m(self, size, random_state)\u001b[0m\n\u001b[1;32m   1646\u001b[0m \u001b[39mdef\u001b[39;00m \u001b[39m_rvs\u001b[39m(\u001b[39mself\u001b[39m, size\u001b[39m=\u001b[39m\u001b[39mNone\u001b[39;00m, random_state\u001b[39m=\u001b[39m\u001b[39mNone\u001b[39;00m):\n\u001b[0;32m-> 1647\u001b[0m     \u001b[39mreturn\u001b[39;00m random_state\u001b[39m.\u001b[39;49mstandard_exponential(size)\n",
      "\u001b[0;31mKeyboardInterrupt\u001b[0m: "
     ]
    }
   ],
   "source": [
    "M = Model(standard=True, space_dimensionality='3D', min_nucleation=1)\n",
    "M.setparams(zipping=1e8, sliding=6e5)\n",
    "M.alpha = 0\n",
    "M.gamma = 0\n",
    "M.kappa = 1\n",
    "a1 = Strand(M, 'GTTCGGTCTA')\n",
    "b1 = Strand(M, 'ACACACACAC')\n",
    "n1 = Strand(M, 'CAACACAACC')\n",
    "a2 = Strand(M, 'GCTGTTCGGTCTAT')\n",
    "n2 = Strand(M, 'AACCAACACCACCA')\n",
    "b2 = Strand(M, 'CACACACACACACA')\n",
    "OPT = Options(Nsim=2000)\n",
    "\n",
    "SA1 = Simulator(M, a1, a1.complementary(), OPT)\n",
    "_, ma1 = SA1.directsimulation()\n",
    "print('mod:','{:.3e}'.format(ma1))\n",
    "print('exp:','{:.3e}'.format(1145949.98))\n",
    "print()\n",
    "SB1 = Simulator(M, b1, b1.complementary(), OPT)\n",
    "_, mb1 = SB1.directsimulation()\n",
    "print('mod:','{:.3e}'.format(mb1))\n",
    "print('exp:','{:.3e}'.format(4818114.36)) \n",
    "print()\n",
    "SN1 = Simulator(M, n1, n1.complementary(), OPT)\n",
    "_, mn1 = SB1.directsimulation()\n",
    "print('mod:','{:.3e}'.format(mn1))\n",
    "print('exp:','{:.3e}'.format(2.695608e+06)) \n",
    "print()\n",
    "SA2 = Simulator(M, a2, a2.complementary(), OPT)\n",
    "_, ma2 = SA2.directsimulation()\n",
    "print('mod:','{:.3e}'.format(ma2))\n",
    "print('exp:','{:.3e}'.format(1042172.8))\n",
    "print()\n",
    "SN2 = Simulator(M, n2, n2.complementary(), OPT)\n",
    "_, mn2 = SA2.directsimulation()\n",
    "print('mod:','{:.3e}'.format(mn2))\n",
    "print('exp:','{:.3e}'.format(3629903.36))\n",
    "print()\n",
    "SB2 = Simulator(M, b2, b2.complementary(), OPT)\n",
    "_, mb2 = SB2.directsimulation()\n",
    "print('mod:','{:.3e}'.format(mb2))\n",
    "print('exp:','{:.3e}'.format(4818114.36))"
   ]
  }
 ],
 "metadata": {
  "kernelspec": {
   "display_name": "hdna",
   "language": "python",
   "name": "python3"
  },
  "language_info": {
   "codemirror_mode": {
    "name": "ipython",
    "version": 3
   },
   "file_extension": ".py",
   "mimetype": "text/x-python",
   "name": "python",
   "nbconvert_exporter": "python",
   "pygments_lexer": "ipython3",
   "version": "3.10.9"
  },
  "orig_nbformat": 4,
  "vscode": {
   "interpreter": {
    "hash": "13f02c433cbffcd00bbcbbfeff349f4b7c28e9023d8fb9f65ab93bb104997abd"
   }
  }
 },
 "nbformat": 4,
 "nbformat_minor": 2
}
