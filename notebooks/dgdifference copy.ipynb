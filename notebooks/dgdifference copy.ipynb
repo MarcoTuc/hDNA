{
 "cells": [
  {
   "cell_type": "code",
   "execution_count": 1,
   "metadata": {},
   "outputs": [],
   "source": [
    "%load_ext autoreload\n",
    "%autoreload 2"
   ]
  },
  {
   "cell_type": "code",
   "execution_count": 2,
   "metadata": {},
   "outputs": [],
   "source": [
    "import sys \n",
    "sys.path.append('..')\n",
    "import numpy as np \n",
    "import networkx as nx \n",
    "from hdna import * "
   ]
  },
  {
   "cell_type": "code",
   "execution_count": 17,
   "metadata": {},
   "outputs": [
    {
     "name": "stdout",
     "output_type": "stream",
     "text": [
      "..((......+..))...... fwd: 2.486e+06 gm: 2.845e+10 dg: -1.907\n",
      "((........+...))..... fwd: 2.802e+06 gm: 2.525e+10 dg: -2.049\n",
      ".....((...+........)) fwd: 2.802e+06 gm: 2.525e+10 dg: -2.049\n",
      "......((..+......)).. fwd: 2.486e+06 gm: 2.845e+10 dg: -1.907\n"
     ]
    },
    {
     "name": "stderr",
     "output_type": "stream",
     "text": [
      "                                                                \r"
     ]
    },
    {
     "name": "stdout",
     "output_type": "stream",
     "text": [
      "0 simulations didn't produce a duplex.\n",
      "That's 0.0% of simulations\n",
      "mod: 5.335e+06\n",
      "exp: 1.146e+06\n",
      "\n",
      "((((((((..+)))))))).. fwd: 1.443e+10 gm: 8.635e+06 dg: -12.209\n",
      "((((((....+)))))).... fwd: 8.356e+08 gm: 1.491e+08 dg: -8.823\n",
      "((((......+))))...... fwd: 4.838e+07 gm: 2.575e+09 dg: -5.436\n",
      "((........+))........ fwd: 2.802e+06 gm: 4.447e+10 dg: -2.049\n",
      "........((+........)) fwd: 2.802e+06 gm: 4.447e+10 dg: -2.049\n",
      "......((((+......)))) fwd: 4.838e+07 gm: 2.575e+09 dg: -5.436\n",
      "....((((((+....)))))) fwd: 8.356e+08 gm: 1.491e+08 dg: -8.823\n",
      "..((((((((+..)))))))) fwd: 1.443e+10 gm: 8.635e+06 dg: -12.209\n"
     ]
    },
    {
     "name": "stderr",
     "output_type": "stream",
     "text": [
      "                                                                \r"
     ]
    },
    {
     "name": "stdout",
     "output_type": "stream",
     "text": [
      "0 simulations didn't produce a duplex.\n",
      "That's 0.0% of simulations\n",
      "mod: 1.644e+07\n",
      "exp: 4.818e+06\n",
      "\n",
      "..(((.....+...))).... fwd: 1.053e+07 gm: 8.457e+09 dg: -3.623\n",
      "((........+.....))... fwd: 2.833e+06 gm: 3.143e+10 dg: -2.062\n",
      "....((....+.))....... fwd: 2.802e+06 gm: 3.178e+10 dg: -2.049\n",
      "((((......+.))))..... fwd: 3.709e+07 gm: 2.400e+09 dg: -5.120\n",
      ".....((((.+......)))) fwd: 3.709e+07 gm: 2.400e+09 dg: -5.120\n",
      "...((.....+........)) fwd: 2.833e+06 gm: 3.143e+10 dg: -2.062\n",
      ".......((.+....)).... fwd: 2.802e+06 gm: 3.178e+10 dg: -2.049\n",
      "....(((...+.....))).. fwd: 1.053e+07 gm: 8.457e+09 dg: -3.623\n"
     ]
    },
    {
     "name": "stderr",
     "output_type": "stream",
     "text": [
      "                                                                \r"
     ]
    },
    {
     "name": "stdout",
     "output_type": "stream",
     "text": [
      "0 simulations didn't produce a duplex.\n",
      "That's 0.0% of simulations\n",
      "mod: 1.599e+07\n",
      "exp: 2.696e+06\n",
      "\n",
      ".....((.......+...))......... fwd: 1.776e+06 gm: 6.321e+12 dg: -1.907\n",
      "...((.........+....))........ fwd: 2.001e+06 gm: 5.608e+12 dg: -2.049\n",
      ".((...........+..)).......... fwd: 1.726e+06 gm: 6.501e+12 dg: -1.873\n",
      "..........((..+...........)). fwd: 1.726e+06 gm: 6.501e+12 dg: -1.873\n",
      "........((....+.........))... fwd: 2.001e+06 gm: 5.608e+12 dg: -2.049\n",
      ".........((...+.......))..... fwd: 1.776e+06 gm: 6.321e+12 dg: -1.907\n"
     ]
    },
    {
     "name": "stderr",
     "output_type": "stream",
     "text": [
      "                                                                \r"
     ]
    },
    {
     "name": "stdout",
     "output_type": "stream",
     "text": [
      "1 simulations didn't produce a duplex.\n",
      "That's 0.05% of simulations\n",
      "mod: 2.690e+06\n",
      "exp: 1.042e+06\n",
      "\n",
      ".....((.......+.....))....... fwd: 2.001e+06 gm: 1.012e+13 dg: -2.049\n",
      "...((.........+......))...... fwd: 2.024e+06 gm: 1.000e+13 dg: -2.062\n",
      "......(((((...+)))))......... fwd: 1.974e+08 gm: 1.025e+11 dg: -7.507\n",
      "(((...........+.......))).... fwd: 5.702e+06 gm: 3.551e+12 dg: -3.294\n",
      ".....((.......+..)).......... fwd: 2.001e+06 gm: 1.012e+13 dg: -2.049\n",
      ".((((.........+...))))....... fwd: 4.248e+07 gm: 4.765e+11 dg: -5.681\n",
      "......((......+))............ fwd: 2.024e+06 gm: 1.000e+13 dg: -2.062\n",
      ".((((.........+)))).......... fwd: 4.248e+07 gm: 4.765e+11 dg: -5.681\n",
      "..........((((+.........)))). fwd: 4.248e+07 gm: 4.765e+11 dg: -5.681\n",
      ".......((((...+.........)))). fwd: 4.248e+07 gm: 4.765e+11 dg: -5.681\n",
      "............((+......))...... fwd: 2.024e+06 gm: 1.000e+13 dg: -2.062\n",
      "..........((..+.......))..... fwd: 2.001e+06 gm: 1.012e+13 dg: -2.049\n",
      "....(((.......+...........))) fwd: 5.702e+06 gm: 3.551e+12 dg: -3.294\n",
      "......((......+.........))... fwd: 2.024e+06 gm: 1.000e+13 dg: -2.062\n",
      ".........(((((+...)))))...... fwd: 1.974e+08 gm: 1.025e+11 dg: -7.507\n",
      ".......((.....+.......))..... fwd: 2.001e+06 gm: 1.012e+13 dg: -2.049\n"
     ]
    },
    {
     "name": "stderr",
     "output_type": "stream",
     "text": [
      "                                                                \r"
     ]
    },
    {
     "name": "stdout",
     "output_type": "stream",
     "text": [
      "2 simulations didn't produce a duplex.\n",
      "That's 0.1% of simulations\n",
      "mod: 2.772e+06\n",
      "exp: 3.630e+06\n",
      "\n",
      "((((((((((((..+)))))))))))).. fwd: 3.108e+12 gm: 6.168e+06 dg: -18.996\n",
      "((((((((((....+)))))))))).... fwd: 1.800e+11 gm: 1.065e+08 dg: -15.610\n",
      "((((((((......+))))))))...... fwd: 1.042e+10 gm: 1.839e+09 dg: -12.223\n",
      "((((((........+))))))........ fwd: 6.035e+08 gm: 3.177e+10 dg: -8.836\n",
      "((((..........+)))).......... fwd: 3.495e+07 gm: 5.486e+11 dg: -5.449\n",
      "((............+))............ fwd: 2.024e+06 gm: 9.474e+12 dg: -2.062\n",
      "............((+............)) fwd: 2.024e+06 gm: 9.474e+12 dg: -2.062\n",
      "..........((((+..........)))) fwd: 3.495e+07 gm: 5.486e+11 dg: -5.449\n",
      "........((((((+........)))))) fwd: 6.035e+08 gm: 3.177e+10 dg: -8.836\n",
      "......((((((((+......)))))))) fwd: 1.042e+10 gm: 1.839e+09 dg: -12.223\n",
      "....((((((((((+....)))))))))) fwd: 1.800e+11 gm: 1.065e+08 dg: -15.610\n",
      "..((((((((((((+..)))))))))))) fwd: 3.108e+12 gm: 6.168e+06 dg: -18.996\n"
     ]
    },
    {
     "name": "stderr",
     "output_type": "stream",
     "text": [
      "                                                                "
     ]
    },
    {
     "name": "stdout",
     "output_type": "stream",
     "text": [
      "0 simulations didn't produce a duplex.\n",
      "That's 0.0% of simulations\n",
      "mod: 1.358e+07\n",
      "exp: 4.818e+06\n"
     ]
    },
    {
     "name": "stderr",
     "output_type": "stream",
     "text": [
      "\r"
     ]
    }
   ],
   "source": [
    "M = Model(standard=True, space_dimensionality='3D', min_nucleation=1)\n",
    "M.setparams(zipping=8.5e7, sliding=5e6)\n",
    "M.alpha = 1\n",
    "M.gamma = 0\n",
    "M.kappa = 1/2\n",
    "\n",
    "a1 = Strand(M, 'GTTCGGTCTA')\n",
    "n1 = Strand(M, 'CAACACAACC')\n",
    "b1 = Strand(M, 'ACACACACAC')\n",
    "a2 = Strand(M, 'GCTGTTCGGTCTAT')\n",
    "n2 = Strand(M, 'AACCAACACCACCA')\n",
    "b2 = Strand(M, 'CACACACACACACA')\n",
    "\n",
    "OPT = Options(Nsim=2000)\n",
    "\n",
    "SA1 = Simulator(M, a1, a1.complementary(), OPT)\n",
    "_, ma1 = SA1.directsimulation()\n",
    "print('mod:','{:.3e}'.format(ma1))\n",
    "print('exp:','{:.3e}'.format(1145949.98))\n",
    "print()\n",
    "SB1 = Simulator(M, b1, b1.complementary(), OPT)\n",
    "_, mb1 = SB1.directsimulation()\n",
    "print('mod:','{:.3e}'.format(mb1))\n",
    "print('exp:','{:.3e}'.format(4818114.36)) \n",
    "print()\n",
    "SN1 = Simulator(M, n1, n1.complementary(), OPT)\n",
    "_, mn1 = SB1.directsimulation()\n",
    "print('mod:','{:.3e}'.format(mn1))\n",
    "print('exp:','{:.3e}'.format(2.695608e+06)) \n",
    "print()\n",
    "SA2 = Simulator(M, a2, a2.complementary(), OPT)\n",
    "_, ma2 = SA2.directsimulation()\n",
    "print('mod:','{:.3e}'.format(ma2))\n",
    "print('exp:','{:.3e}'.format(1042172.8))\n",
    "print()\n",
    "SN2 = Simulator(M, n2, n2.complementary(), OPT)\n",
    "_, mn2 = SA2.directsimulation()\n",
    "print('mod:','{:.3e}'.format(mn2))\n",
    "print('exp:','{:.3e}'.format(3629903.36))\n",
    "print()\n",
    "SB2 = Simulator(M, b2, b2.complementary(), OPT)\n",
    "_, mb2 = SB2.directsimulation()\n",
    "print('mod:','{:.3e}'.format(mb2))\n",
    "print('exp:','{:.3e}'.format(4818114.36))"
   ]
  },
  {
   "cell_type": "code",
   "execution_count": 23,
   "metadata": {},
   "outputs": [
    {
     "name": "stdout",
     "output_type": "stream",
     "text": [
      "..((......+..))...... fwd: 2.983e+05 gm: 2.133e+06 dg: -1.907\n",
      "2132522.4176323344\n",
      "((........+...))..... fwd: 3.362e+05 gm: 1.892e+06 dg: -2.049\n",
      "1892222.148560867\n",
      ".....((...+........)) fwd: 3.362e+05 gm: 1.892e+06 dg: -2.049\n",
      "1892222.148560867\n",
      "......((..+......)).. fwd: 2.983e+05 gm: 2.133e+06 dg: -1.907\n",
      "2132522.4176323344\n"
     ]
    },
    {
     "name": "stderr",
     "output_type": "stream",
     "text": [
      "                                                                \r"
     ]
    },
    {
     "name": "stdout",
     "output_type": "stream",
     "text": [
      "113 simulations didn't produce a duplex.\n",
      "That's 5.65% of simulations\n",
      "mod: 1.096e+06\n",
      "exp: 1.146e+06\n",
      "\n",
      "((((((((..+)))))))).. fwd: 1.732e+09 gm: 5.214e+01 dg: -12.209\n",
      "52.14258905902819\n",
      "((((((....+)))))).... fwd: 1.003e+08 gm: 1.201e+03 dg: -8.823\n",
      "1200.6387527244967\n",
      "((((......+))))...... fwd: 5.806e+06 gm: 3.110e+04 dg: -5.436\n",
      "31101.736999018885\n",
      "((........+))........ fwd: 3.362e+05 gm: 1.074e+06 dg: -2.049\n",
      "1074226.0230632436\n",
      "........((+........)) fwd: 3.362e+05 gm: 1.074e+06 dg: -2.049\n",
      "1074226.0230632436\n",
      "......((((+......)))) fwd: 5.806e+06 gm: 3.110e+04 dg: -5.436\n",
      "31101.736999018885\n",
      "....((((((+....)))))) fwd: 1.003e+08 gm: 1.201e+03 dg: -8.823\n",
      "1200.6387527244967\n",
      "..((((((((+..)))))))) fwd: 1.732e+09 gm: 5.214e+01 dg: -12.209\n",
      "52.14258905902819\n"
     ]
    },
    {
     "name": "stderr",
     "output_type": "stream",
     "text": [
      "                                                                \r"
     ]
    },
    {
     "name": "stdout",
     "output_type": "stream",
     "text": [
      "10 simulations didn't produce a duplex.\n",
      "That's 0.5% of simulations\n",
      "mod: 6.246e+06\n",
      "exp: 4.818e+06\n",
      "\n",
      "..(((.....+...))).... fwd: 1.263e+06 gm: 2.667e+05 dg: -3.623\n",
      "266713.30779744266\n",
      "((........+.....))... fwd: 3.400e+05 gm: 1.487e+06 dg: -2.062\n",
      "1486772.6978601727\n",
      "....((....+.))....... fwd: 3.362e+05 gm: 1.503e+06 dg: -2.049\n",
      "1503362.848282561\n",
      "((((......+.))))..... fwd: 4.451e+06 gm: 5.677e+04 dg: -5.120\n",
      "56773.60781510134\n",
      ".....((((.+......)))) fwd: 4.451e+06 gm: 5.677e+04 dg: -5.120\n",
      "56773.60781510134\n",
      "...((.....+........)) fwd: 3.400e+05 gm: 1.487e+06 dg: -2.062\n",
      "1486772.6978601727\n",
      ".......((.+....)).... fwd: 3.362e+05 gm: 1.503e+06 dg: -2.049\n",
      "1503362.848282561\n",
      "....(((...+.....))).. fwd: 1.263e+06 gm: 2.667e+05 dg: -3.623\n",
      "266713.30779744266\n"
     ]
    },
    {
     "name": "stderr",
     "output_type": "stream",
     "text": [
      "                                                                \r"
     ]
    },
    {
     "name": "stdout",
     "output_type": "stream",
     "text": [
      "6 simulations didn't produce a duplex.\n",
      "That's 0.3% of simulations\n",
      "mod: 7.742e+06\n",
      "exp: 2.696e+06\n",
      "\n",
      ".....((.......+...))......... fwd: 2.131e+05 gm: 4.898e+03 dg: -1.907\n",
      "4897.976328807325\n",
      "...((.........+....))........ fwd: 2.401e+05 gm: 4.346e+03 dg: -2.049\n",
      "4346.0548015181275\n",
      ".((...........+..)).......... fwd: 2.072e+05 gm: 5.038e+03 dg: -1.873\n",
      "5037.864218355441\n",
      "..........((..+...........)). fwd: 2.072e+05 gm: 5.038e+03 dg: -1.873\n",
      "5037.864218355441\n",
      "........((....+.........))... fwd: 2.401e+05 gm: 4.346e+03 dg: -2.049\n",
      "4346.0548015181275\n",
      ".........((...+.......))..... fwd: 2.131e+05 gm: 4.898e+03 dg: -1.907\n",
      "4897.976328807325\n"
     ]
    },
    {
     "name": "stderr",
     "output_type": "stream",
     "text": [
      "                                                                \r"
     ]
    },
    {
     "name": "stdout",
     "output_type": "stream",
     "text": [
      "212 simulations didn't produce a duplex.\n",
      "That's 10.6% of simulations\n",
      "mod: 7.991e+05\n",
      "exp: 1.042e+06\n",
      "\n",
      ".....((.......+.....))....... fwd: 2.401e+05 gm: 2.409e+03 dg: -2.049\n",
      "2409.439118772255\n",
      "...((.........+......))...... fwd: 2.428e+05 gm: 2.383e+03 dg: -2.062\n",
      "2382.850090408484\n",
      "......(((((...+)))))......... fwd: 2.369e+07 gm: 9.770e+00 dg: -7.507\n",
      "9.769762899453303\n",
      "(((...........+.......))).... fwd: 6.842e+05 gm: 5.638e+02 dg: -3.294\n",
      "563.7801352039954\n",
      ".....((.......+..)).......... fwd: 2.401e+05 gm: 2.409e+03 dg: -2.049\n",
      "2409.439118772255\n",
      ".((((.........+...))))....... fwd: 5.098e+06 gm: 5.675e+01 dg: -5.681\n",
      "56.75007410267373\n",
      "......((......+))............ fwd: 2.428e+05 gm: 2.383e+03 dg: -2.062\n",
      "2382.850090408484\n",
      ".((((.........+)))).......... fwd: 5.098e+06 gm: 5.675e+01 dg: -5.681\n",
      "56.75007410267373\n",
      "..........((((+.........)))). fwd: 5.098e+06 gm: 5.675e+01 dg: -5.681\n",
      "56.75007410267373\n",
      ".......((((...+.........)))). fwd: 5.098e+06 gm: 5.675e+01 dg: -5.681\n",
      "56.75007410267373\n",
      "............((+......))...... fwd: 2.428e+05 gm: 2.383e+03 dg: -2.062\n",
      "2382.850090408484\n",
      "..........((..+.......))..... fwd: 2.401e+05 gm: 2.409e+03 dg: -2.049\n",
      "2409.439118772255\n",
      "....(((.......+...........))) fwd: 6.842e+05 gm: 5.638e+02 dg: -3.294\n",
      "563.7801352039954\n",
      "......((......+.........))... fwd: 2.428e+05 gm: 2.383e+03 dg: -2.062\n",
      "2382.850090408484\n",
      ".........(((((+...)))))...... fwd: 2.369e+07 gm: 9.770e+00 dg: -7.507\n",
      "9.769762899453303\n",
      ".......((.....+.......))..... fwd: 2.401e+05 gm: 2.409e+03 dg: -2.049\n",
      "2409.439118772255\n"
     ]
    },
    {
     "name": "stderr",
     "output_type": "stream",
     "text": [
      "                                                                \r"
     ]
    },
    {
     "name": "stdout",
     "output_type": "stream",
     "text": [
      "191 simulations didn't produce a duplex.\n",
      "That's 9.55% of simulations\n",
      "mod: 8.257e+05\n",
      "exp: 3.630e+06\n",
      "\n",
      "((((((((((((..+)))))))))))).. fwd: 3.730e+11 gm: 2.730e-04 dg: -18.996\n",
      "0.00027303021419020567\n",
      "((((((((((....+)))))))))).... fwd: 2.160e+10 gm: 5.658e-03 dg: -15.610\n",
      "0.005658130820955178\n",
      "((((((((......+))))))))...... fwd: 1.251e+09 gm: 1.221e-01 dg: -12.223\n",
      "0.12214171852278712\n",
      "((((((........+))))))........ fwd: 7.242e+07 gm: 2.812e+00 dg: -8.836\n",
      "2.8124434023943885\n",
      "((((..........+)))).......... fwd: 4.193e+06 gm: 7.285e+01 dg: -5.449\n",
      "72.8544492066442\n",
      "((............+))............ fwd: 2.428e+05 gm: 2.516e+03 dg: -2.062\n",
      "2516.327150351299\n",
      "............((+............)) fwd: 2.428e+05 gm: 2.516e+03 dg: -2.062\n",
      "2516.327150351299\n",
      "..........((((+..........)))) fwd: 4.193e+06 gm: 7.285e+01 dg: -5.449\n",
      "72.8544492066442\n",
      "........((((((+........)))))) fwd: 7.242e+07 gm: 2.812e+00 dg: -8.836\n",
      "2.8124434023943885\n",
      "......((((((((+......)))))))) fwd: 1.251e+09 gm: 1.221e-01 dg: -12.223\n",
      "0.12214171852278712\n",
      "....((((((((((+....)))))))))) fwd: 2.160e+10 gm: 5.658e-03 dg: -15.610\n",
      "0.005658130820955178\n",
      "..((((((((((((+..)))))))))))) fwd: 3.730e+11 gm: 2.730e-04 dg: -18.996\n",
      "0.00027303021419020567\n"
     ]
    },
    {
     "name": "stderr",
     "output_type": "stream",
     "text": [
      "                                                                "
     ]
    },
    {
     "name": "stdout",
     "output_type": "stream",
     "text": [
      "3 simulations didn't produce a duplex.\n",
      "That's 0.15% of simulations\n",
      "mod: 1.150e+07\n",
      "exp: 4.818e+06\n"
     ]
    },
    {
     "name": "stderr",
     "output_type": "stream",
     "text": [
      "\r"
     ]
    }
   ],
   "source": [
    "M = Model(standard=True, space_dimensionality='3D', min_nucleation=1)\n",
    "M.setparams(zipping=1e8, sliding=6e5)\n",
    "M.alpha = 0\n",
    "M.gamma = 0\n",
    "M.kappa = 1\n",
    "a1 = Strand(M, 'GTTCGGTCTA')\n",
    "b1 = Strand(M, 'ACACACACAC')\n",
    "n1 = Strand(M, 'CAACACAACC')\n",
    "a2 = Strand(M, 'GCTGTTCGGTCTAT')\n",
    "n2 = Strand(M, 'AACCAACACCACCA')\n",
    "b2 = Strand(M, 'CACACACACACACA')\n",
    "OPT = Options(Nsim=2000)\n",
    "\n",
    "SA1 = Simulator(M, a1, a1.complementary(), OPT)\n",
    "_, ma1 = SA1.directsimulation()\n",
    "print('mod:','{:.3e}'.format(ma1))\n",
    "print('exp:','{:.3e}'.format(1145949.98))\n",
    "print()\n",
    "SB1 = Simulator(M, b1, b1.complementary(), OPT)\n",
    "_, mb1 = SB1.directsimulation()\n",
    "print('mod:','{:.3e}'.format(mb1))\n",
    "print('exp:','{:.3e}'.format(4818114.36)) \n",
    "print()\n",
    "SN1 = Simulator(M, n1, n1.complementary(), OPT)\n",
    "_, mn1 = SB1.directsimulation()\n",
    "print('mod:','{:.3e}'.format(mn1))\n",
    "print('exp:','{:.3e}'.format(2.695608e+06)) \n",
    "print()\n",
    "SA2 = Simulator(M, a2, a2.complementary(), OPT)\n",
    "_, ma2 = SA2.directsimulation()\n",
    "print('mod:','{:.3e}'.format(ma2))\n",
    "print('exp:','{:.3e}'.format(1042172.8))\n",
    "print()\n",
    "SN2 = Simulator(M, n2, n2.complementary(), OPT)\n",
    "_, mn2 = SA2.directsimulation()\n",
    "print('mod:','{:.3e}'.format(mn2))\n",
    "print('exp:','{:.3e}'.format(3629903.36))\n",
    "print()\n",
    "SB2 = Simulator(M, b2, b2.complementary(), OPT)\n",
    "_, mb2 = SB2.directsimulation()\n",
    "print('mod:','{:.3e}'.format(mb2))\n",
    "print('exp:','{:.3e}'.format(4818114.36))"
   ]
  }
 ],
 "metadata": {
  "kernelspec": {
   "display_name": "hdna",
   "language": "python",
   "name": "python3"
  },
  "language_info": {
   "codemirror_mode": {
    "name": "ipython",
    "version": 3
   },
   "file_extension": ".py",
   "mimetype": "text/x-python",
   "name": "python",
   "nbconvert_exporter": "python",
   "pygments_lexer": "ipython3",
   "version": "3.10.9"
  },
  "orig_nbformat": 4,
  "vscode": {
   "interpreter": {
    "hash": "13f02c433cbffcd00bbcbbfeff349f4b7c28e9023d8fb9f65ab93bb104997abd"
   }
  }
 },
 "nbformat": 4,
 "nbformat_minor": 2
}
