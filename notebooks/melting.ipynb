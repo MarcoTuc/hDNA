{
 "cells": [
  {
   "cell_type": "code",
   "execution_count": 455,
   "metadata": {},
   "outputs": [],
   "source": [
    "import sys\n",
    "sys.path.append('..')\n",
    "import nupack as nu\n",
    "import numpy as np \n",
    "from hdna import * "
   ]
  },
  {
   "cell_type": "code",
   "execution_count": 456,
   "metadata": {},
   "outputs": [
    {
     "data": {
      "text/plain": [
       "'CGCTAATCGTGC'"
      ]
     },
     "execution_count": 456,
     "metadata": {},
     "output_type": "execute_result"
    }
   ],
   "source": [
    "'CGTGCTAATCGC'[::-1]"
   ]
  },
  {
   "cell_type": "code",
   "execution_count": 457,
   "metadata": {},
   "outputs": [],
   "source": [
    "T = np.linspace(20,80,150)\n",
    "f = []\n",
    "for temp in T:\n",
    "    M = nu.Model(ensemble='stacking', material='dna', celsius=temp)\n",
    "    A = nu.Strand('GCACGATTAGCG', 'A')\n",
    "    B = nu.Strand('CGTGCTAATCGC'[::-1], 'B')\n",
    "    simplexstruct = nu.Structure('.'*A.__len__()+'+'+'.'*B.__len__())\n",
    "    duplexstruct  = nu.Structure('('*A.__len__()+'+'+')'*B.__len__())\n",
    "    C = nu.Complex([A,B], name='C')\n",
    "    ca0 = 1e-6\n",
    "    cb0 = 1e-6\n",
    "    tube = nu.Tube(strands={A: ca0, B: cb0}, complexes=nu.SetSpec(max_size=2), name='tube1')\n",
    "    tube_res = nu.tube_analysis(tubes=[tube], model=M, compute=['pairs'])\n",
    "    simplex = ['B', 'A']\n",
    "    duplex  = ['B+A', 'A+B']\n",
    "\n",
    "    for q in [simplex, duplex]:\n",
    "        for i, name in enumerate(q):\n",
    "            q[i] = '('+name+')'\n",
    "    simp = []\n",
    "    dupl = []\n",
    "    for complex in tube_res.tubes[tube].complex_concentrations.items():\n",
    "        if complex[0].name in simplex:\n",
    "            simp.append(complex)\n",
    "        elif complex[0].name in duplex:\n",
    "            dupl.append(complex)        \n",
    "\n",
    "    sx = min(list(dict(simp).values()))\n",
    "    dx = np.prod(list(dict(dupl).values()))\n",
    "    f.append(tube_res.tubes[tube].fraction_bases_unpaired)"
   ]
  },
  {
   "cell_type": "code",
   "execution_count": 466,
   "metadata": {},
   "outputs": [
    {
     "data": {
      "application/vnd.plotly.v1+json": {
       "config": {
        "plotlyServerURL": "https://plot.ly"
       },
       "data": [
        {
         "hovertemplate": "x=%{x}<br>y=%{y}<extra></extra>",
         "legendgroup": "",
         "line": {
          "color": "#636efa",
          "dash": "solid"
         },
         "marker": {
          "symbol": "circle"
         },
         "mode": "lines",
         "name": "",
         "orientation": "v",
         "showlegend": false,
         "type": "scatter",
         "x": [
          20,
          20.40268456375839,
          20.80536912751678,
          21.20805369127517,
          21.610738255033556,
          22.013422818791945,
          22.416107382550337,
          22.818791946308725,
          23.221476510067113,
          23.624161073825505,
          24.026845637583893,
          24.42953020134228,
          24.832214765100673,
          25.23489932885906,
          25.63758389261745,
          26.040268456375838,
          26.442953020134226,
          26.845637583892618,
          27.248322147651006,
          27.651006711409394,
          28.053691275167786,
          28.456375838926174,
          28.859060402684563,
          29.261744966442954,
          29.664429530201343,
          30.06711409395973,
          30.469798657718123,
          30.872483221476507,
          31.2751677852349,
          31.677852348993287,
          32.080536912751676,
          32.48322147651007,
          32.88590604026845,
          33.288590604026844,
          33.691275167785236,
          34.09395973154362,
          34.49664429530201,
          34.899328859060404,
          35.30201342281879,
          35.70469798657718,
          36.10738255033557,
          36.51006711409396,
          36.91275167785235,
          37.31543624161074,
          37.718120805369125,
          38.12080536912752,
          38.52348993288591,
          38.92617449664429,
          39.328859060402685,
          39.73154362416108,
          40.13422818791946,
          40.536912751677846,
          40.939597315436245,
          41.34228187919463,
          41.744966442953015,
          42.147651006711406,
          42.5503355704698,
          42.95302013422818,
          43.355704697986575,
          43.758389261744966,
          44.16107382550335,
          44.56375838926174,
          44.966442953020135,
          45.36912751677852,
          45.77181208053691,
          46.1744966442953,
          46.57718120805369,
          46.97986577181208,
          47.38255033557047,
          47.785234899328856,
          48.18791946308725,
          48.59060402684564,
          48.993288590604024,
          49.395973154362416,
          49.79865771812081,
          50.20134228187919,
          50.60402684563758,
          51.006711409395976,
          51.40939597315436,
          51.812080536912745,
          52.21476510067114,
          52.61744966442953,
          53.02013422818792,
          53.422818791946305,
          53.8255033557047,
          54.22818791946308,
          54.630872483221474,
          55.033557046979865,
          55.43624161073825,
          55.83892617449664,
          56.241610738255034,
          56.64429530201342,
          57.04697986577181,
          57.4496644295302,
          57.85234899328859,
          58.25503355704698,
          58.65771812080537,
          59.060402684563755,
          59.46308724832215,
          59.86577181208053,
          60.26845637583892,
          60.671140939597315,
          61.0738255033557,
          61.47651006711409,
          61.87919463087248,
          62.28187919463087,
          62.68456375838926,
          63.08724832214765,
          63.489932885906036,
          63.89261744966443,
          64.29530201342281,
          64.69798657718121,
          65.1006711409396,
          65.50335570469798,
          65.90604026845637,
          66.30872483221476,
          66.71140939597315,
          67.11409395973155,
          67.51677852348993,
          67.91946308724832,
          68.3221476510067,
          68.7248322147651,
          69.12751677852349,
          69.53020134228188,
          69.93288590604027,
          70.33557046979865,
          70.73825503355704,
          71.14093959731542,
          71.54362416107382,
          71.94630872483222,
          72.3489932885906,
          72.75167785234899,
          73.15436241610738,
          73.55704697986576,
          73.95973154362416,
          74.36241610738254,
          74.76510067114094,
          75.16778523489933,
          75.57046979865771,
          75.9731543624161,
          76.3758389261745,
          76.77852348993288,
          77.18120805369128,
          77.58389261744966,
          77.98657718120805,
          78.38926174496643,
          78.79194630872483,
          79.19463087248322,
          79.59731543624162,
          80
         ],
         "xaxis": "x",
         "y": [
          0.021003684776321505,
          0.021340470116515742,
          0.021685624991081367,
          0.02203953469110732,
          0.022402609092562347,
          0.02277528442927189,
          0.02315802520023473,
          0.023551326221278965,
          0.023955714829292072,
          0.024371753270261802,
          0.02480004122730268,
          0.02524121859027641,
          0.025695968401039868,
          0.02616502003089702,
          0.026649152596432073,
          0.027149198631709337,
          0.027666048034760617,
          0.02820065230908848,
          0.028754029115960374,
          0.029327267187276455,
          0.029921531544569623,
          0.030538069170142276,
          0.031178215045760925,
          0.0318433986429895,
          0.032535150879905085,
          0.033255111574423506,
          0.034005037425465685,
          0.03478681053280939,
          0.03560244763235599,
          0.03645410967139676,
          0.037344112396115924,
          0.03827493741139016,
          0.03924924403313304,
          0.040269881921272295,
          0.041339904498777405,
          0.04246258321227923,
          0.04364142266276287,
          0.044880176598777306,
          0.04618286503541587,
          0.04755379175497857,
          0.048997563626078405,
          0.05051911009610636,
          0.052123704089707165,
          0.0538169837179324,
          0.05560497493474927,
          0.057494115077199925,
          0.05949127722880857,
          0.061603795270399615,
          0.06383948986247699,
          0.06620669420792251,
          0.06871428099362446,
          0.07137168886637568,
          0.07418894890512989,
          0.0771767105955519,
          0.08034626692924143,
          0.08370957817593185,
          0.0872792937959124,
          0.09106877178115025,
          0.09509209530250906,
          0.09936408410137325,
          0.10390030237914927,
          0.10871705961388557,
          0.11383140434770267,
          0.1192611092274292,
          0.1250246457638954,
          0.1311411470590539,
          0.13763035659164166,
          0.14451256070299187,
          0.15180850423643494,
          0.15953928195866476,
          0.16772621081751798,
          0.1763906734483744,
          0.1855539336411203,
          0.19523692016773914,
          0.2054599763132563,
          0.21624257262509836,
          0.2276029807370266,
          0.23955790664569696,
          0.25212208229542105,
          0.26530781736613773,
          0.27912450757045715,
          0.29357811060726907,
          0.30867058746134035,
          0.32439932051174175,
          0.34075651790912204,
          0.3577286179992211,
          0.375295711154433,
          0.3934310002326155,
          0.4121003247981684,
          0.4312617773535475,
          0.45086544758558916,
          0.4708533174199424,
          0.4911593590756992,
          0.5117098537326131,
          0.5324239674097293,
          0.5532146035969902,
          0.5739895427880927,
          0.5946528642567014,
          0.6151066274385778,
          0.6352527701454986,
          0.6549951601569824,
          0.6742417176653069,
          0.6929065110899043,
          0.7109117204214634,
          0.7281893625435008,
          0.7446826831657658,
          0.7603471385670802,
          0.7751509214197634,
          0.7890750110954935,
          0.8021127698581269,
          0.8142691323673139,
          0.8255594624810827,
          0.8360081668985689,
          0.8456471614959576,
          0.8545142832893139,
          0.862651730457723,
          0.8701045985707561,
          0.8769195593143133,
          0.8831437171051435,
          0.8888236541540199,
          0.8940046665872684,
          0.8987301814270297,
          0.9030413375385586,
          0.9069767095127238,
          0.9105721517743558,
          0.9138607403877611,
          0.9168727914885779,
          0.919635937504174,
          0.9221752449337178,
          0.9245133601502646,
          0.9266706722623014,
          0.9286654844105031,
          0.9305141869161473,
          0.9322314274221419,
          0.9338302745851186,
          0.9353223730135681,
          0.9367180880367036,
          0.9380266395686606,
          0.9392562248390373,
          0.9404141301264497,
          0.9415068318862673,
          0.9425400878314619,
          0.9435190186273074,
          0.9444481809131864,
          0.9453316323813087,
          0.9461729896332389,
          0.9469754795087881,
          0.9477419845442597,
          0.948475083172752,
          0.9491770852316455
         ],
         "yaxis": "y"
        }
       ],
       "layout": {
        "legend": {
         "tracegroupgap": 0
        },
        "margin": {
         "t": 60
        },
        "template": {
         "data": {
          "bar": [
           {
            "error_x": {
             "color": "#2a3f5f"
            },
            "error_y": {
             "color": "#2a3f5f"
            },
            "marker": {
             "line": {
              "color": "#E5ECF6",
              "width": 0.5
             },
             "pattern": {
              "fillmode": "overlay",
              "size": 10,
              "solidity": 0.2
             }
            },
            "type": "bar"
           }
          ],
          "barpolar": [
           {
            "marker": {
             "line": {
              "color": "#E5ECF6",
              "width": 0.5
             },
             "pattern": {
              "fillmode": "overlay",
              "size": 10,
              "solidity": 0.2
             }
            },
            "type": "barpolar"
           }
          ],
          "carpet": [
           {
            "aaxis": {
             "endlinecolor": "#2a3f5f",
             "gridcolor": "white",
             "linecolor": "white",
             "minorgridcolor": "white",
             "startlinecolor": "#2a3f5f"
            },
            "baxis": {
             "endlinecolor": "#2a3f5f",
             "gridcolor": "white",
             "linecolor": "white",
             "minorgridcolor": "white",
             "startlinecolor": "#2a3f5f"
            },
            "type": "carpet"
           }
          ],
          "choropleth": [
           {
            "colorbar": {
             "outlinewidth": 0,
             "ticks": ""
            },
            "type": "choropleth"
           }
          ],
          "contour": [
           {
            "colorbar": {
             "outlinewidth": 0,
             "ticks": ""
            },
            "colorscale": [
             [
              0,
              "#0d0887"
             ],
             [
              0.1111111111111111,
              "#46039f"
             ],
             [
              0.2222222222222222,
              "#7201a8"
             ],
             [
              0.3333333333333333,
              "#9c179e"
             ],
             [
              0.4444444444444444,
              "#bd3786"
             ],
             [
              0.5555555555555556,
              "#d8576b"
             ],
             [
              0.6666666666666666,
              "#ed7953"
             ],
             [
              0.7777777777777778,
              "#fb9f3a"
             ],
             [
              0.8888888888888888,
              "#fdca26"
             ],
             [
              1,
              "#f0f921"
             ]
            ],
            "type": "contour"
           }
          ],
          "contourcarpet": [
           {
            "colorbar": {
             "outlinewidth": 0,
             "ticks": ""
            },
            "type": "contourcarpet"
           }
          ],
          "heatmap": [
           {
            "colorbar": {
             "outlinewidth": 0,
             "ticks": ""
            },
            "colorscale": [
             [
              0,
              "#0d0887"
             ],
             [
              0.1111111111111111,
              "#46039f"
             ],
             [
              0.2222222222222222,
              "#7201a8"
             ],
             [
              0.3333333333333333,
              "#9c179e"
             ],
             [
              0.4444444444444444,
              "#bd3786"
             ],
             [
              0.5555555555555556,
              "#d8576b"
             ],
             [
              0.6666666666666666,
              "#ed7953"
             ],
             [
              0.7777777777777778,
              "#fb9f3a"
             ],
             [
              0.8888888888888888,
              "#fdca26"
             ],
             [
              1,
              "#f0f921"
             ]
            ],
            "type": "heatmap"
           }
          ],
          "heatmapgl": [
           {
            "colorbar": {
             "outlinewidth": 0,
             "ticks": ""
            },
            "colorscale": [
             [
              0,
              "#0d0887"
             ],
             [
              0.1111111111111111,
              "#46039f"
             ],
             [
              0.2222222222222222,
              "#7201a8"
             ],
             [
              0.3333333333333333,
              "#9c179e"
             ],
             [
              0.4444444444444444,
              "#bd3786"
             ],
             [
              0.5555555555555556,
              "#d8576b"
             ],
             [
              0.6666666666666666,
              "#ed7953"
             ],
             [
              0.7777777777777778,
              "#fb9f3a"
             ],
             [
              0.8888888888888888,
              "#fdca26"
             ],
             [
              1,
              "#f0f921"
             ]
            ],
            "type": "heatmapgl"
           }
          ],
          "histogram": [
           {
            "marker": {
             "pattern": {
              "fillmode": "overlay",
              "size": 10,
              "solidity": 0.2
             }
            },
            "type": "histogram"
           }
          ],
          "histogram2d": [
           {
            "colorbar": {
             "outlinewidth": 0,
             "ticks": ""
            },
            "colorscale": [
             [
              0,
              "#0d0887"
             ],
             [
              0.1111111111111111,
              "#46039f"
             ],
             [
              0.2222222222222222,
              "#7201a8"
             ],
             [
              0.3333333333333333,
              "#9c179e"
             ],
             [
              0.4444444444444444,
              "#bd3786"
             ],
             [
              0.5555555555555556,
              "#d8576b"
             ],
             [
              0.6666666666666666,
              "#ed7953"
             ],
             [
              0.7777777777777778,
              "#fb9f3a"
             ],
             [
              0.8888888888888888,
              "#fdca26"
             ],
             [
              1,
              "#f0f921"
             ]
            ],
            "type": "histogram2d"
           }
          ],
          "histogram2dcontour": [
           {
            "colorbar": {
             "outlinewidth": 0,
             "ticks": ""
            },
            "colorscale": [
             [
              0,
              "#0d0887"
             ],
             [
              0.1111111111111111,
              "#46039f"
             ],
             [
              0.2222222222222222,
              "#7201a8"
             ],
             [
              0.3333333333333333,
              "#9c179e"
             ],
             [
              0.4444444444444444,
              "#bd3786"
             ],
             [
              0.5555555555555556,
              "#d8576b"
             ],
             [
              0.6666666666666666,
              "#ed7953"
             ],
             [
              0.7777777777777778,
              "#fb9f3a"
             ],
             [
              0.8888888888888888,
              "#fdca26"
             ],
             [
              1,
              "#f0f921"
             ]
            ],
            "type": "histogram2dcontour"
           }
          ],
          "mesh3d": [
           {
            "colorbar": {
             "outlinewidth": 0,
             "ticks": ""
            },
            "type": "mesh3d"
           }
          ],
          "parcoords": [
           {
            "line": {
             "colorbar": {
              "outlinewidth": 0,
              "ticks": ""
             }
            },
            "type": "parcoords"
           }
          ],
          "pie": [
           {
            "automargin": true,
            "type": "pie"
           }
          ],
          "scatter": [
           {
            "fillpattern": {
             "fillmode": "overlay",
             "size": 10,
             "solidity": 0.2
            },
            "type": "scatter"
           }
          ],
          "scatter3d": [
           {
            "line": {
             "colorbar": {
              "outlinewidth": 0,
              "ticks": ""
             }
            },
            "marker": {
             "colorbar": {
              "outlinewidth": 0,
              "ticks": ""
             }
            },
            "type": "scatter3d"
           }
          ],
          "scattercarpet": [
           {
            "marker": {
             "colorbar": {
              "outlinewidth": 0,
              "ticks": ""
             }
            },
            "type": "scattercarpet"
           }
          ],
          "scattergeo": [
           {
            "marker": {
             "colorbar": {
              "outlinewidth": 0,
              "ticks": ""
             }
            },
            "type": "scattergeo"
           }
          ],
          "scattergl": [
           {
            "marker": {
             "colorbar": {
              "outlinewidth": 0,
              "ticks": ""
             }
            },
            "type": "scattergl"
           }
          ],
          "scattermapbox": [
           {
            "marker": {
             "colorbar": {
              "outlinewidth": 0,
              "ticks": ""
             }
            },
            "type": "scattermapbox"
           }
          ],
          "scatterpolar": [
           {
            "marker": {
             "colorbar": {
              "outlinewidth": 0,
              "ticks": ""
             }
            },
            "type": "scatterpolar"
           }
          ],
          "scatterpolargl": [
           {
            "marker": {
             "colorbar": {
              "outlinewidth": 0,
              "ticks": ""
             }
            },
            "type": "scatterpolargl"
           }
          ],
          "scatterternary": [
           {
            "marker": {
             "colorbar": {
              "outlinewidth": 0,
              "ticks": ""
             }
            },
            "type": "scatterternary"
           }
          ],
          "surface": [
           {
            "colorbar": {
             "outlinewidth": 0,
             "ticks": ""
            },
            "colorscale": [
             [
              0,
              "#0d0887"
             ],
             [
              0.1111111111111111,
              "#46039f"
             ],
             [
              0.2222222222222222,
              "#7201a8"
             ],
             [
              0.3333333333333333,
              "#9c179e"
             ],
             [
              0.4444444444444444,
              "#bd3786"
             ],
             [
              0.5555555555555556,
              "#d8576b"
             ],
             [
              0.6666666666666666,
              "#ed7953"
             ],
             [
              0.7777777777777778,
              "#fb9f3a"
             ],
             [
              0.8888888888888888,
              "#fdca26"
             ],
             [
              1,
              "#f0f921"
             ]
            ],
            "type": "surface"
           }
          ],
          "table": [
           {
            "cells": {
             "fill": {
              "color": "#EBF0F8"
             },
             "line": {
              "color": "white"
             }
            },
            "header": {
             "fill": {
              "color": "#C8D4E3"
             },
             "line": {
              "color": "white"
             }
            },
            "type": "table"
           }
          ]
         },
         "layout": {
          "annotationdefaults": {
           "arrowcolor": "#2a3f5f",
           "arrowhead": 0,
           "arrowwidth": 1
          },
          "autotypenumbers": "strict",
          "coloraxis": {
           "colorbar": {
            "outlinewidth": 0,
            "ticks": ""
           }
          },
          "colorscale": {
           "diverging": [
            [
             0,
             "#8e0152"
            ],
            [
             0.1,
             "#c51b7d"
            ],
            [
             0.2,
             "#de77ae"
            ],
            [
             0.3,
             "#f1b6da"
            ],
            [
             0.4,
             "#fde0ef"
            ],
            [
             0.5,
             "#f7f7f7"
            ],
            [
             0.6,
             "#e6f5d0"
            ],
            [
             0.7,
             "#b8e186"
            ],
            [
             0.8,
             "#7fbc41"
            ],
            [
             0.9,
             "#4d9221"
            ],
            [
             1,
             "#276419"
            ]
           ],
           "sequential": [
            [
             0,
             "#0d0887"
            ],
            [
             0.1111111111111111,
             "#46039f"
            ],
            [
             0.2222222222222222,
             "#7201a8"
            ],
            [
             0.3333333333333333,
             "#9c179e"
            ],
            [
             0.4444444444444444,
             "#bd3786"
            ],
            [
             0.5555555555555556,
             "#d8576b"
            ],
            [
             0.6666666666666666,
             "#ed7953"
            ],
            [
             0.7777777777777778,
             "#fb9f3a"
            ],
            [
             0.8888888888888888,
             "#fdca26"
            ],
            [
             1,
             "#f0f921"
            ]
           ],
           "sequentialminus": [
            [
             0,
             "#0d0887"
            ],
            [
             0.1111111111111111,
             "#46039f"
            ],
            [
             0.2222222222222222,
             "#7201a8"
            ],
            [
             0.3333333333333333,
             "#9c179e"
            ],
            [
             0.4444444444444444,
             "#bd3786"
            ],
            [
             0.5555555555555556,
             "#d8576b"
            ],
            [
             0.6666666666666666,
             "#ed7953"
            ],
            [
             0.7777777777777778,
             "#fb9f3a"
            ],
            [
             0.8888888888888888,
             "#fdca26"
            ],
            [
             1,
             "#f0f921"
            ]
           ]
          },
          "colorway": [
           "#636efa",
           "#EF553B",
           "#00cc96",
           "#ab63fa",
           "#FFA15A",
           "#19d3f3",
           "#FF6692",
           "#B6E880",
           "#FF97FF",
           "#FECB52"
          ],
          "font": {
           "color": "#2a3f5f"
          },
          "geo": {
           "bgcolor": "white",
           "lakecolor": "white",
           "landcolor": "#E5ECF6",
           "showlakes": true,
           "showland": true,
           "subunitcolor": "white"
          },
          "hoverlabel": {
           "align": "left"
          },
          "hovermode": "closest",
          "mapbox": {
           "style": "light"
          },
          "paper_bgcolor": "white",
          "plot_bgcolor": "#E5ECF6",
          "polar": {
           "angularaxis": {
            "gridcolor": "white",
            "linecolor": "white",
            "ticks": ""
           },
           "bgcolor": "#E5ECF6",
           "radialaxis": {
            "gridcolor": "white",
            "linecolor": "white",
            "ticks": ""
           }
          },
          "scene": {
           "xaxis": {
            "backgroundcolor": "#E5ECF6",
            "gridcolor": "white",
            "gridwidth": 2,
            "linecolor": "white",
            "showbackground": true,
            "ticks": "",
            "zerolinecolor": "white"
           },
           "yaxis": {
            "backgroundcolor": "#E5ECF6",
            "gridcolor": "white",
            "gridwidth": 2,
            "linecolor": "white",
            "showbackground": true,
            "ticks": "",
            "zerolinecolor": "white"
           },
           "zaxis": {
            "backgroundcolor": "#E5ECF6",
            "gridcolor": "white",
            "gridwidth": 2,
            "linecolor": "white",
            "showbackground": true,
            "ticks": "",
            "zerolinecolor": "white"
           }
          },
          "shapedefaults": {
           "line": {
            "color": "#2a3f5f"
           }
          },
          "ternary": {
           "aaxis": {
            "gridcolor": "white",
            "linecolor": "white",
            "ticks": ""
           },
           "baxis": {
            "gridcolor": "white",
            "linecolor": "white",
            "ticks": ""
           },
           "bgcolor": "#E5ECF6",
           "caxis": {
            "gridcolor": "white",
            "linecolor": "white",
            "ticks": ""
           }
          },
          "title": {
           "x": 0.05
          },
          "xaxis": {
           "automargin": true,
           "gridcolor": "white",
           "linecolor": "white",
           "ticks": "",
           "title": {
            "standoff": 15
           },
           "zerolinecolor": "white",
           "zerolinewidth": 2
          },
          "yaxis": {
           "automargin": true,
           "gridcolor": "white",
           "linecolor": "white",
           "ticks": "",
           "title": {
            "standoff": 15
           },
           "zerolinecolor": "white",
           "zerolinewidth": 2
          }
         }
        },
        "xaxis": {
         "anchor": "y",
         "domain": [
          0,
          1
         ],
         "title": {
          "text": "x"
         }
        },
        "yaxis": {
         "anchor": "x",
         "domain": [
          0,
          1
         ],
         "title": {
          "text": "y"
         }
        }
       }
      }
     },
     "metadata": {},
     "output_type": "display_data"
    }
   ],
   "source": [
    "import plotly.express as px\n",
    "px.line(x=T,y=f)"
   ]
  },
  {
   "cell_type": "code",
   "execution_count": 459,
   "metadata": {},
   "outputs": [
    {
     "data": {
      "text/plain": [
       "5.577626572637506e-06"
      ]
     },
     "execution_count": 459,
     "metadata": {},
     "output_type": "execute_result"
    }
   ],
   "source": [
    "nu.structure_probability(strands=[A,B],structure=simplexstruct,model=M)"
   ]
  },
  {
   "cell_type": "code",
   "execution_count": 460,
   "metadata": {},
   "outputs": [
    {
     "data": {
      "text/plain": [
       "0.04792757477831032"
      ]
     },
     "execution_count": 460,
     "metadata": {},
     "output_type": "execute_result"
    }
   ],
   "source": [
    "nu.structure_probability(strands=[A,B],structure=duplexstruct,model=M)"
   ]
  },
  {
   "cell_type": "code",
   "execution_count": 461,
   "metadata": {},
   "outputs": [],
   "source": [
    "dg = nu.structure_energy(strands=[A,B], structure=duplexstruct,model=M)\n",
    "ke = np.exp(-dg/(CONST.R*M.temperature))\n",
    "alpha = ke*(ca0+cb0)/2"
   ]
  },
  {
   "cell_type": "code",
   "execution_count": 462,
   "metadata": {},
   "outputs": [],
   "source": [
    "f1 = (0.5+np.sqrt(1+4*alpha))/(2*alpha)\n",
    "f2 = (0.5-np.sqrt(1+4*ke))/(2*alpha)"
   ]
  },
  {
   "cell_type": "code",
   "execution_count": 463,
   "metadata": {},
   "outputs": [],
   "source": [
    "f1 = 1 - dx/(2*sx+dx)"
   ]
  },
  {
   "cell_type": "code",
   "execution_count": 464,
   "metadata": {},
   "outputs": [
    {
     "data": {
      "text/plain": [
       "0.9990084648074343"
      ]
     },
     "execution_count": 464,
     "metadata": {},
     "output_type": "execute_result"
    }
   ],
   "source": [
    "f1"
   ]
  },
  {
   "cell_type": "code",
   "execution_count": null,
   "metadata": {},
   "outputs": [],
   "source": []
  }
 ],
 "metadata": {
  "kernelspec": {
   "display_name": "hdna",
   "language": "python",
   "name": "python3"
  },
  "language_info": {
   "codemirror_mode": {
    "name": "ipython",
    "version": 3
   },
   "file_extension": ".py",
   "mimetype": "text/x-python",
   "name": "python",
   "nbconvert_exporter": "python",
   "pygments_lexer": "ipython3",
   "version": "3.10.9 (main, Jan 11 2023, 15:21:40) [GCC 11.2.0]"
  },
  "orig_nbformat": 4,
  "vscode": {
   "interpreter": {
    "hash": "13f02c433cbffcd00bbcbbfeff349f4b7c28e9023d8fb9f65ab93bb104997abd"
   }
  }
 },
 "nbformat": 4,
 "nbformat_minor": 2
}
