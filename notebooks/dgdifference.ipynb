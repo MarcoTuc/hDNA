{
 "cells": [
  {
   "cell_type": "code",
   "execution_count": 1,
   "metadata": {},
   "outputs": [],
   "source": [
    "%load_ext autoreload\n",
    "%autoreload 2"
   ]
  },
  {
   "cell_type": "code",
   "execution_count": 2,
   "metadata": {},
   "outputs": [],
   "source": [
    "import sys \n",
    "sys.path.append('..')\n",
    "import numpy as np \n",
    "import networkx as nx \n",
    "from hdna import * "
   ]
  },
  {
   "cell_type": "code",
   "execution_count": 17,
   "metadata": {},
   "outputs": [
    {
     "name": "stdout",
     "output_type": "stream",
     "text": [
      "..((......+..))...... fwd: 2.486e+06 gm: 6.199e+05 dg: -1.907 ddg: 0.128\n",
      "((........+...))..... fwd: 2.802e+06 gm: 6.299e+05 dg: -2.049 ddg: 0.137\n",
      ".....((...+........)) fwd: 2.802e+06 gm: 6.299e+05 dg: -2.049 ddg: 0.137\n",
      "......((..+......)).. fwd: 2.486e+06 gm: 6.199e+05 dg: -1.907 ddg: 0.128\n"
     ]
    },
    {
     "name": "stderr",
     "output_type": "stream",
     "text": [
      "                                                                \r"
     ]
    },
    {
     "name": "stdout",
     "output_type": "stream",
     "text": [
      "51 simulations didn't produce a duplex.\n",
      "That's 2.55% of simulations\n",
      "mod: 1.308e+06\n",
      "exp: 1.146e+06\n",
      "\n",
      "((((((((..+)))))))).. fwd: 1.443e+10 gm: 1.866e+06 dg: -12.209 ddg: 0.783\n",
      "((((((....+)))))).... fwd: 8.356e+08 gm: 1.295e+06 dg: -8.823 ddg: 0.566\n",
      "((((......+))))...... fwd: 4.838e+07 gm: 8.987e+05 dg: -5.436 ddg: 0.349\n",
      "((........+))........ fwd: 2.802e+06 gm: 6.237e+05 dg: -2.049 ddg: 0.131\n",
      "........((+........)) fwd: 2.802e+06 gm: 6.237e+05 dg: -2.049 ddg: 0.131\n",
      "......((((+......)))) fwd: 4.838e+07 gm: 8.987e+05 dg: -5.436 ddg: 0.349\n",
      "....((((((+....)))))) fwd: 8.356e+08 gm: 1.295e+06 dg: -8.823 ddg: 0.566\n",
      "..((((((((+..)))))))) fwd: 1.443e+10 gm: 1.866e+06 dg: -12.209 ddg: 0.783\n"
     ]
    },
    {
     "name": "stderr",
     "output_type": "stream",
     "text": [
      "                                                                \r"
     ]
    },
    {
     "name": "stdout",
     "output_type": "stream",
     "text": [
      "28 simulations didn't produce a duplex.\n",
      "That's 1.4% of simulations\n",
      "mod: 1.423e+06\n",
      "exp: 4.818e+06\n",
      "\n",
      "..(((.....+...))).... fwd: 1.053e+07 gm: 7.467e+05 dg: -3.623 ddg: 0.238\n",
      "((........+.....))... fwd: 2.833e+06 gm: 6.282e+05 dg: -2.062 ddg: 0.136\n",
      "....((....+.))....... fwd: 2.802e+06 gm: 6.273e+05 dg: -2.049 ddg: 0.135\n",
      "((((......+.))))..... fwd: 3.709e+07 gm: 8.813e+05 dg: -5.120 ddg: 0.337\n",
      ".....((((.+......)))) fwd: 3.709e+07 gm: 8.813e+05 dg: -5.120 ddg: 0.337\n",
      "...((.....+........)) fwd: 2.833e+06 gm: 6.282e+05 dg: -2.062 ddg: 0.136\n",
      ".......((.+....)).... fwd: 2.802e+06 gm: 6.273e+05 dg: -2.049 ddg: 0.135\n",
      "....(((...+.....))).. fwd: 1.053e+07 gm: 7.467e+05 dg: -3.623 ddg: 0.238\n"
     ]
    },
    {
     "name": "stderr",
     "output_type": "stream",
     "text": [
      "                                                                \r"
     ]
    },
    {
     "name": "stdout",
     "output_type": "stream",
     "text": [
      "24 simulations didn't produce a duplex.\n",
      "That's 1.2% of simulations\n",
      "mod: 1.402e+06\n",
      "exp: 2.696e+06\n",
      "\n",
      ".....((.......+...))......... fwd: 1.776e+06 gm: 4.139e+05 dg: -1.907 ddg: 0.088\n",
      "...((.........+....))........ fwd: 2.001e+06 gm: 4.185e+05 dg: -2.049 ddg: 0.094\n",
      ".((...........+..)).......... fwd: 1.726e+06 gm: 4.128e+05 dg: -1.873 ddg: 0.086\n",
      "..........((..+...........)). fwd: 1.726e+06 gm: 4.128e+05 dg: -1.873 ddg: 0.086\n",
      "........((....+.........))... fwd: 2.001e+06 gm: 4.185e+05 dg: -2.049 ddg: 0.094\n",
      ".........((...+.......))..... fwd: 1.776e+06 gm: 4.139e+05 dg: -1.907 ddg: 0.088\n"
     ]
    },
    {
     "name": "stderr",
     "output_type": "stream",
     "text": [
      "                                                                \r"
     ]
    },
    {
     "name": "stdout",
     "output_type": "stream",
     "text": [
      "140 simulations didn't produce a duplex.\n",
      "That's 7.0% of simulations\n",
      "mod: 9.137e+05\n",
      "exp: 1.042e+06\n",
      "\n",
      ".....((.......+.....))....... fwd: 2.001e+06 gm: 4.164e+05 dg: -2.049 ddg: 0.091\n",
      "...((.........+......))...... fwd: 2.024e+06 gm: 4.168e+05 dg: -2.062 ddg: 0.092\n",
      "......(((((...+)))))......... fwd: 1.974e+08 gm: 6.269e+05 dg: -7.507 ddg: 0.334\n",
      "(((...........+.......))).... fwd: 5.702e+06 gm: 4.571e+05 dg: -3.294 ddg: 0.147\n",
      ".....((.......+..)).......... fwd: 2.001e+06 gm: 4.164e+05 dg: -2.049 ddg: 0.091\n",
      ".((((.........+...))))....... fwd: 4.248e+07 gm: 5.467e+05 dg: -5.681 ddg: 0.253\n",
      "......((......+))............ fwd: 2.024e+06 gm: 4.168e+05 dg: -2.062 ddg: 0.092\n",
      ".((((.........+)))).......... fwd: 4.248e+07 gm: 5.467e+05 dg: -5.681 ddg: 0.253\n",
      "..........((((+.........)))). fwd: 4.248e+07 gm: 5.467e+05 dg: -5.681 ddg: 0.253\n",
      ".......((((...+.........)))). fwd: 4.248e+07 gm: 5.467e+05 dg: -5.681 ddg: 0.253\n",
      "............((+......))...... fwd: 2.024e+06 gm: 4.168e+05 dg: -2.062 ddg: 0.092\n",
      "..........((..+.......))..... fwd: 2.001e+06 gm: 4.164e+05 dg: -2.049 ddg: 0.091\n",
      "....(((.......+...........))) fwd: 5.702e+06 gm: 4.571e+05 dg: -3.294 ddg: 0.147\n",
      "......((......+.........))... fwd: 2.024e+06 gm: 4.168e+05 dg: -2.062 ddg: 0.092\n",
      ".........(((((+...)))))...... fwd: 1.974e+08 gm: 6.269e+05 dg: -7.507 ddg: 0.334\n",
      ".......((.....+.......))..... fwd: 2.001e+06 gm: 4.164e+05 dg: -2.049 ddg: 0.091\n"
     ]
    },
    {
     "name": "stderr",
     "output_type": "stream",
     "text": [
      "                                                                \r"
     ]
    },
    {
     "name": "stdout",
     "output_type": "stream",
     "text": [
      "130 simulations didn't produce a duplex.\n",
      "That's 6.5% of simulations\n",
      "mod: 8.861e+05\n",
      "exp: 3.630e+06\n",
      "\n",
      "((((((((((((..+)))))))))))).. fwd: 3.108e+12 gm: 1.489e+06 dg: -18.996 ddg: 0.849\n",
      "((((((((((....+)))))))))).... fwd: 1.800e+11 gm: 1.154e+06 dg: -15.610 ddg: 0.697\n",
      "((((((((......+))))))))...... fwd: 1.042e+10 gm: 8.950e+05 dg: -12.223 ddg: 0.546\n",
      "((((((........+))))))........ fwd: 6.035e+08 gm: 6.938e+05 dg: -8.836 ddg: 0.395\n",
      "((((..........+)))).......... fwd: 3.495e+07 gm: 5.379e+05 dg: -5.449 ddg: 0.243\n",
      "((............+))............ fwd: 2.024e+06 gm: 4.170e+05 dg: -2.062 ddg: 0.092\n",
      "............((+............)) fwd: 2.024e+06 gm: 4.170e+05 dg: -2.062 ddg: 0.092\n",
      "..........((((+..........)))) fwd: 3.495e+07 gm: 5.379e+05 dg: -5.449 ddg: 0.243\n",
      "........((((((+........)))))) fwd: 6.035e+08 gm: 6.938e+05 dg: -8.836 ddg: 0.395\n",
      "......((((((((+......)))))))) fwd: 1.042e+10 gm: 8.950e+05 dg: -12.223 ddg: 0.546\n",
      "....((((((((((+....)))))))))) fwd: 1.800e+11 gm: 1.154e+06 dg: -15.610 ddg: 0.697\n",
      "..((((((((((((+..)))))))))))) fwd: 3.108e+12 gm: 1.489e+06 dg: -18.996 ddg: 0.849\n"
     ]
    },
    {
     "name": "stderr",
     "output_type": "stream",
     "text": [
      "                                                                "
     ]
    },
    {
     "name": "stdout",
     "output_type": "stream",
     "text": [
      "67 simulations didn't produce a duplex.\n",
      "That's 3.35% of simulations\n",
      "mod: 1.026e+06\n",
      "exp: 4.818e+06\n"
     ]
    },
    {
     "name": "stderr",
     "output_type": "stream",
     "text": [
      "\r"
     ]
    }
   ],
   "source": [
    "M = Model(standard=True, space_dimensionality='3D', min_nucleation=1)\n",
    "M.setparams(zipping=8.5e7, sliding=5e6)\n",
    "M.alpha = 0\n",
    "M.gamma = 0\n",
    "M.kappa = 1\n",
    "\n",
    "a1 = Strand(M, 'GTTCGGTCTA')\n",
    "n1 = Strand(M, 'CAACACAACC')\n",
    "b1 = Strand(M, 'ACACACACAC')\n",
    "a2 = Strand(M, 'GCTGTTCGGTCTAT')\n",
    "n2 = Strand(M, 'AACCAACACCACCA')\n",
    "b2 = Strand(M, 'CACACACACACACA')\n",
    "\n",
    "OPT = Options(Nsim=2000)\n",
    "\n",
    "SA1 = Simulator(M, a1, a1.complementary(), OPT)\n",
    "_, ma1 = SA1.directsimulation()\n",
    "print('mod:','{:.3e}'.format(ma1))\n",
    "print('exp:','{:.3e}'.format(1145949.98))\n",
    "print()\n",
    "SB1 = Simulator(M, b1, b1.complementary(), OPT)\n",
    "_, mb1 = SB1.directsimulation()\n",
    "print('mod:','{:.3e}'.format(mb1))\n",
    "print('exp:','{:.3e}'.format(4818114.36)) \n",
    "print()\n",
    "SN1 = Simulator(M, n1, n1.complementary(), OPT)\n",
    "_, mn1 = SB1.directsimulation()\n",
    "print('mod:','{:.3e}'.format(mn1))\n",
    "print('exp:','{:.3e}'.format(2.695608e+06)) \n",
    "print()\n",
    "SA2 = Simulator(M, a2, a2.complementary(), OPT)\n",
    "_, ma2 = SA2.directsimulation()\n",
    "print('mod:','{:.3e}'.format(ma2))\n",
    "print('exp:','{:.3e}'.format(1042172.8))\n",
    "print()\n",
    "SN2 = Simulator(M, n2, n2.complementary(), OPT)\n",
    "_, mn2 = SA2.directsimulation()\n",
    "print('mod:','{:.3e}'.format(mn2))\n",
    "print('exp:','{:.3e}'.format(3629903.36))\n",
    "print()\n",
    "SB2 = Simulator(M, b2, b2.complementary(), OPT)\n",
    "_, mb2 = SB2.directsimulation()\n",
    "print('mod:','{:.3e}'.format(mb2))\n",
    "print('exp:','{:.3e}'.format(4818114.36))"
   ]
  },
  {
   "cell_type": "code",
   "execution_count": 29,
   "metadata": {},
   "outputs": [
    {
     "name": "stdout",
     "output_type": "stream",
     "text": [
      "..((......+..))...... fwd: 2.983e+06 gm: 1.282e+05 dg: -1.907 ddg: 0.093\n",
      "((........+...))..... fwd: 3.362e+06 gm: 5.617e+04 dg: -2.049 ddg: 0.451\n",
      ".....((...+........)) fwd: 3.362e+06 gm: 5.617e+04 dg: -2.049 ddg: 0.451\n",
      "......((..+......)).. fwd: 2.983e+06 gm: 1.282e+05 dg: -1.907 ddg: 0.093\n"
     ]
    },
    {
     "name": "stderr",
     "output_type": "stream",
     "text": [
      "                                                                \r"
     ]
    },
    {
     "name": "stdout",
     "output_type": "stream",
     "text": [
      "265 simulations didn't produce a duplex.\n",
      "That's 13.25% of simulations\n",
      "mod: 8.497e+05\n",
      "exp: 1.146e+06\n",
      "\n",
      "((((((((..+)))))))).. fwd: 1.732e+10 gm: 4.646e+13 dg: -12.209 ddg: -11.209\n",
      "((((((....+)))))).... fwd: 1.003e+09 gm: 1.448e+10 dg: -8.823 ddg: -6.823\n",
      "((((......+))))...... fwd: 5.806e+07 gm: 6.020e+06 dg: -5.436 ddg: -2.436\n",
      "((........+))........ fwd: 3.362e+06 gm: 2.815e+03 dg: -2.049 ddg: 1.951\n",
      "........((+........)) fwd: 3.362e+06 gm: 2.815e+03 dg: -2.049 ddg: 1.951\n",
      "......((((+......)))) fwd: 5.806e+07 gm: 6.020e+06 dg: -5.436 ddg: -2.436\n",
      "....((((((+....)))))) fwd: 1.003e+09 gm: 1.448e+10 dg: -8.823 ddg: -6.823\n",
      "..((((((((+..)))))))) fwd: 1.732e+10 gm: 4.646e+13 dg: -12.209 ddg: -11.209\n"
     ]
    },
    {
     "name": "stderr",
     "output_type": "stream",
     "text": [
      "                                                               \r"
     ]
    },
    {
     "ename": "KeyboardInterrupt",
     "evalue": "",
     "output_type": "error",
     "traceback": [
      "\u001b[0;31m---------------------------------------------------------------------------\u001b[0m",
      "\u001b[0;31mKeyboardInterrupt\u001b[0m                         Traceback (most recent call last)",
      "Cell \u001b[0;32mIn[29], line 20\u001b[0m\n\u001b[1;32m     18\u001b[0m \u001b[39mprint\u001b[39m()\n\u001b[1;32m     19\u001b[0m SB1 \u001b[39m=\u001b[39m Simulator(M, b1, b1\u001b[39m.\u001b[39mcomplementary(), OPT)\n\u001b[0;32m---> 20\u001b[0m _, mb1 \u001b[39m=\u001b[39m SB1\u001b[39m.\u001b[39;49mdirectsimulation()\n\u001b[1;32m     21\u001b[0m \u001b[39mprint\u001b[39m(\u001b[39m'\u001b[39m\u001b[39mmod:\u001b[39m\u001b[39m'\u001b[39m,\u001b[39m'\u001b[39m\u001b[39m{:.3e}\u001b[39;00m\u001b[39m'\u001b[39m\u001b[39m.\u001b[39mformat(mb1))\n\u001b[1;32m     22\u001b[0m \u001b[39mprint\u001b[39m(\u001b[39m'\u001b[39m\u001b[39mexp:\u001b[39m\u001b[39m'\u001b[39m,\u001b[39m'\u001b[39m\u001b[39m{:.3e}\u001b[39;00m\u001b[39m'\u001b[39m\u001b[39m.\u001b[39mformat(\u001b[39m4818114.36\u001b[39m)) \n",
      "File \u001b[0;32m~/Desktop/hDNA/notebooks/../hdna/simulator.py:131\u001b[0m, in \u001b[0;36mSimulator.directsimulation\u001b[0;34m(self)\u001b[0m\n\u001b[1;32m    129\u001b[0m traj \u001b[39m=\u001b[39m \u001b[39mself\u001b[39m\u001b[39m.\u001b[39mget_trajectory(sim, weightlift\u001b[39m=\u001b[39m\u001b[39mTrue\u001b[39;00m, savetraj\u001b[39m=\u001b[39m\u001b[39mTrue\u001b[39;00m)\n\u001b[1;32m    130\u001b[0m kcoll \u001b[39m=\u001b[39m \u001b[39mself\u001b[39m\u001b[39m.\u001b[39mkinet\u001b[39m.\u001b[39mkinetics\u001b[39m.\u001b[39mdlrate \u001b[39m*\u001b[39m \u001b[39mself\u001b[39m\u001b[39m.\u001b[39mkinet\u001b[39m.\u001b[39mkinetics\u001b[39m.\u001b[39mgeonuc()\n\u001b[0;32m--> 131\u001b[0m collisiontime \u001b[39m=\u001b[39m expon(scale\u001b[39m=\u001b[39;49m\u001b[39m1\u001b[39;49m\u001b[39m/\u001b[39;49mkcoll)\u001b[39m.\u001b[39;49mrvs()\n\u001b[1;32m    132\u001b[0m \u001b[39m# print(collisiontime)\u001b[39;00m\n\u001b[1;32m    133\u001b[0m \u001b[39mtry\u001b[39;00m: \n",
      "File \u001b[0;32m~/miniconda3/envs/hdna/lib/python3.10/site-packages/scipy/stats/_distn_infrastructure.py:468\u001b[0m, in \u001b[0;36mrv_frozen.rvs\u001b[0;34m(self, size, random_state)\u001b[0m\n\u001b[1;32m    466\u001b[0m kwds \u001b[39m=\u001b[39m \u001b[39mself\u001b[39m\u001b[39m.\u001b[39mkwds\u001b[39m.\u001b[39mcopy()\n\u001b[1;32m    467\u001b[0m kwds\u001b[39m.\u001b[39mupdate({\u001b[39m'\u001b[39m\u001b[39msize\u001b[39m\u001b[39m'\u001b[39m: size, \u001b[39m'\u001b[39m\u001b[39mrandom_state\u001b[39m\u001b[39m'\u001b[39m: random_state})\n\u001b[0;32m--> 468\u001b[0m \u001b[39mreturn\u001b[39;00m \u001b[39mself\u001b[39;49m\u001b[39m.\u001b[39;49mdist\u001b[39m.\u001b[39;49mrvs(\u001b[39m*\u001b[39;49m\u001b[39mself\u001b[39;49m\u001b[39m.\u001b[39;49margs, \u001b[39m*\u001b[39;49m\u001b[39m*\u001b[39;49mkwds)\n",
      "File \u001b[0;32m~/miniconda3/envs/hdna/lib/python3.10/site-packages/scipy/stats/_distn_infrastructure.py:1048\u001b[0m, in \u001b[0;36mrv_generic.rvs\u001b[0;34m(self, *args, **kwds)\u001b[0m\n\u001b[1;32m   1045\u001b[0m \u001b[39melse\u001b[39;00m:\n\u001b[1;32m   1046\u001b[0m     random_state \u001b[39m=\u001b[39m \u001b[39mself\u001b[39m\u001b[39m.\u001b[39m_random_state\n\u001b[0;32m-> 1048\u001b[0m vals \u001b[39m=\u001b[39m \u001b[39mself\u001b[39;49m\u001b[39m.\u001b[39;49m_rvs(\u001b[39m*\u001b[39;49margs, size\u001b[39m=\u001b[39;49msize, random_state\u001b[39m=\u001b[39;49mrandom_state)\n\u001b[1;32m   1050\u001b[0m vals \u001b[39m=\u001b[39m vals \u001b[39m*\u001b[39m scale \u001b[39m+\u001b[39m loc\n\u001b[1;32m   1052\u001b[0m \u001b[39m# do not forget to restore the _random_state\u001b[39;00m\n",
      "File \u001b[0;32m~/miniconda3/envs/hdna/lib/python3.10/site-packages/scipy/stats/_continuous_distns.py:1647\u001b[0m, in \u001b[0;36mexpon_gen._rvs\u001b[0;34m(self, size, random_state)\u001b[0m\n\u001b[1;32m   1646\u001b[0m \u001b[39mdef\u001b[39;00m \u001b[39m_rvs\u001b[39m(\u001b[39mself\u001b[39m, size\u001b[39m=\u001b[39m\u001b[39mNone\u001b[39;00m, random_state\u001b[39m=\u001b[39m\u001b[39mNone\u001b[39;00m):\n\u001b[0;32m-> 1647\u001b[0m     \u001b[39mreturn\u001b[39;00m random_state\u001b[39m.\u001b[39;49mstandard_exponential(size)\n",
      "\u001b[0;31mKeyboardInterrupt\u001b[0m: "
     ]
    }
   ],
   "source": [
    "M = Model(standard=True, space_dimensionality='3D', min_nucleation=1)\n",
    "M.setparams(zipping=1e8, sliding=6e5)\n",
    "M.alpha = 0\n",
    "M.gamma = 0\n",
    "M.kappa = 1\n",
    "a1 = Strand(M, 'GTTCGGTCTA')\n",
    "b1 = Strand(M, 'ACACACACAC')\n",
    "n1 = Strand(M, 'CAACACAACC')\n",
    "a2 = Strand(M, 'GCTGTTCGGTCTAT')\n",
    "n2 = Strand(M, 'AACCAACACCACCA')\n",
    "b2 = Strand(M, 'CACACACACACACA')\n",
    "OPT = Options(Nsim=2000)\n",
    "\n",
    "SA1 = Simulator(M, a1, a1.complementary(), OPT)\n",
    "_, ma1 = SA1.directsimulation()\n",
    "print('mod:','{:.3e}'.format(ma1))\n",
    "print('exp:','{:.3e}'.format(1145949.98))\n",
    "print()\n",
    "SB1 = Simulator(M, b1, b1.complementary(), OPT)\n",
    "_, mb1 = SB1.directsimulation()\n",
    "print('mod:','{:.3e}'.format(mb1))\n",
    "print('exp:','{:.3e}'.format(4818114.36)) \n",
    "print()\n",
    "SN1 = Simulator(M, n1, n1.complementary(), OPT)\n",
    "_, mn1 = SB1.directsimulation()\n",
    "print('mod:','{:.3e}'.format(mn1))\n",
    "print('exp:','{:.3e}'.format(2.695608e+06)) \n",
    "print()\n",
    "SA2 = Simulator(M, a2, a2.complementary(), OPT)\n",
    "_, ma2 = SA2.directsimulation()\n",
    "print('mod:','{:.3e}'.format(ma2))\n",
    "print('exp:','{:.3e}'.format(1042172.8))\n",
    "print()\n",
    "SN2 = Simulator(M, n2, n2.complementary(), OPT)\n",
    "_, mn2 = SA2.directsimulation()\n",
    "print('mod:','{:.3e}'.format(mn2))\n",
    "print('exp:','{:.3e}'.format(3629903.36))\n",
    "print()\n",
    "SB2 = Simulator(M, b2, b2.complementary(), OPT)\n",
    "_, mb2 = SB2.directsimulation()\n",
    "print('mod:','{:.3e}'.format(mb2))\n",
    "print('exp:','{:.3e}'.format(4818114.36))"
   ]
  }
 ],
 "metadata": {
  "kernelspec": {
   "display_name": "hdna",
   "language": "python",
   "name": "python3"
  },
  "language_info": {
   "codemirror_mode": {
    "name": "ipython",
    "version": 3
   },
   "file_extension": ".py",
   "mimetype": "text/x-python",
   "name": "python",
   "nbconvert_exporter": "python",
   "pygments_lexer": "ipython3",
   "version": "3.10.9"
  },
  "orig_nbformat": 4,
  "vscode": {
   "interpreter": {
    "hash": "13f02c433cbffcd00bbcbbfeff349f4b7c28e9023d8fb9f65ab93bb104997abd"
   }
  }
 },
 "nbformat": 4,
 "nbformat_minor": 2
}
