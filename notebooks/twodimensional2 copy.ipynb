{
 "cells": [
  {
   "cell_type": "code",
   "execution_count": 31,
   "metadata": {},
   "outputs": [
    {
     "name": "stdout",
     "output_type": "stream",
     "text": [
      "The autoreload extension is already loaded. To reload it, use:\n",
      "  %reload_ext autoreload\n"
     ]
    }
   ],
   "source": [
    "%load_ext autoreload\n",
    "%autoreload 2"
   ]
  },
  {
   "cell_type": "code",
   "execution_count": 32,
   "metadata": {},
   "outputs": [],
   "source": [
    "import sys \n",
    "sys.path.append('..')\n",
    "import numpy as np \n",
    "import networkx as nx \n",
    "from hdna import * "
   ]
  },
  {
   "cell_type": "code",
   "execution_count": 112,
   "metadata": {},
   "outputs": [
    {
     "name": "stdout",
     "output_type": "stream",
     "text": [
      "((((((((..+)))))))).. fwd: 2.772e+00 gm: 4.147e+07 dg: -12.209\n",
      "((((((....+)))))).... fwd: 4.787e+01 gm: 1.390e+05 dg: -8.823\n",
      "((((......+))))...... fwd: 8.267e+02 gm: 4.662e+02 dg: -5.436\n",
      "((........+))........ fwd: 1.428e+04 gm: 1.563e+00 dg: -2.049\n",
      "........((+........)) fwd: 1.428e+04 gm: 1.563e+00 dg: -2.049\n",
      "......((((+......)))) fwd: 8.267e+02 gm: 4.662e+02 dg: -5.436\n",
      "....((((((+....)))))) fwd: 4.787e+01 gm: 1.390e+05 dg: -8.823\n",
      "..((((((((+..)))))))) fwd: 2.772e+00 gm: 4.147e+07 dg: -12.209\n"
     ]
    }
   ],
   "source": [
    "M = Model(standard=True, space_dimensionality='3D', min_nucleation=1)\n",
    "M.setparams(zipping=8e7, sliding=8e4)\n",
    "M.alpha = 1\n",
    "M.gamma = -3 \n",
    "M.kappa = 1\n",
    "# s1 = Strand(M, 'GTTCGGTCTA')\n",
    "s1 = Strand(M, 'ACACACACAC')\n",
    "s2 = s1.complementary()\n",
    "# N = Kinetwork(M, s1, s2)\n",
    "OPT = Options(Nsim=50)\n",
    "S = Simulator(M, s1, s2, OPT)"
   ]
  },
  {
   "cell_type": "code",
   "execution_count": 101,
   "metadata": {},
   "outputs": [
    {
     "data": {
      "text/plain": [
       "2500000.0"
      ]
     },
     "execution_count": 101,
     "metadata": {},
     "output_type": "execute_result"
    }
   ],
   "source": [
    "zr = S.kinet.kinetics.zippingrate\n",
    "sh = S.kinet.kinetics.bulksteric()\n",
    "zr*sh"
   ]
  },
  {
   "cell_type": "code",
   "execution_count": 37,
   "metadata": {},
   "outputs": [
    {
     "name": "stderr",
     "output_type": "stream",
     "text": [
      "                                                  "
     ]
    },
    {
     "name": "stdout",
     "output_type": "stream",
     "text": [
      "1 simulations didn't produce a duplex.\n",
      "That's 2.0% of simulations\n"
     ]
    },
    {
     "name": "stderr",
     "output_type": "stream",
     "text": [
      "\r"
     ]
    },
    {
     "data": {
      "text/plain": [
       "([7.888684828764391e-08,\n",
       "  4.000031686044653e-06,\n",
       "  4.919126539074225e-08,\n",
       "  5.489851758943659e-07,\n",
       "  3.912104962952065e-08,\n",
       "  1.7847171821523742e-07,\n",
       "  6.474557384275582e-07,\n",
       "  1.22554143621346e-07,\n",
       "  4.640517344342712e-08,\n",
       "  8.136697152594983e-07,\n",
       "  5.890657198516307e-07,\n",
       "  3.2369262340415104e-08,\n",
       "  7.353981767266872e-07,\n",
       "  4.1811352911125044e-07,\n",
       "  6.668069846327198e-09,\n",
       "  9.183965484358733e-08,\n",
       "  7.991449265083072e-07,\n",
       "  1.9777549329102656e-08,\n",
       "  5.413181234969045e-07,\n",
       "  2.673103527374195e-07,\n",
       "  1.5490547044100844e-06,\n",
       "  3.0062326183518025e-08,\n",
       "  1.015456617492753e-06,\n",
       "  1.5030256003334962e-08,\n",
       "  1.9943602464501594e-08,\n",
       "  8.514965778255899e-08,\n",
       "  4.579249029417409e-08,\n",
       "  9.127282828611621e-08,\n",
       "  7.855321988838859e-09,\n",
       "  3.66233616949528e-08,\n",
       "  5.119635570717996e-08,\n",
       "  2.598965969666739e-07,\n",
       "  6.429359961627646e-08,\n",
       "  4.7519382600955e-08,\n",
       "  6.957441480857113e-08,\n",
       "  1.1053299316569959e-07,\n",
       "  7.257555616007777e-08,\n",
       "  5.0188680673224563e-08,\n",
       "  5.5610858878725554e-08,\n",
       "  5.395668632528519e-08,\n",
       "  8.141604298129217e-07,\n",
       "  4.288725957486579e-08,\n",
       "  4.34998727147585e-07,\n",
       "  3.834299419032857e-06,\n",
       "  2.8377383886142794e-08,\n",
       "  5.486403054999434e-07,\n",
       "  2.2059885722954737e-08,\n",
       "  4.4297769853353814e-07,\n",
       "  1.7025521008083023e-06,\n",
       "  3.288554273458158e-08],\n",
       " 2308274.3916453053)"
      ]
     },
     "execution_count": 37,
     "metadata": {},
     "output_type": "execute_result"
    }
   ],
   "source": [
    "S.directsimulation()"
   ]
  },
  {
   "cell_type": "code",
   "execution_count": 38,
   "metadata": {},
   "outputs": [],
   "source": [
    "from scipy.stats import expon"
   ]
  },
  {
   "cell_type": "code",
   "execution_count": 39,
   "metadata": {},
   "outputs": [
    {
     "name": "stdout",
     "output_type": "stream",
     "text": [
      "1.311641905234556e-10\n"
     ]
    },
    {
     "data": {
      "text/plain": [
       "'1.260e-10'"
      ]
     },
     "execution_count": 39,
     "metadata": {},
     "output_type": "execute_result"
    }
   ],
   "source": [
    "print(1/N.kinetics.dlrate)\n",
    "'{:.3e}'.format(expon(scale=1/N.kinetics.dlrate).rvs())"
   ]
  },
  {
   "cell_type": "code",
   "execution_count": 99,
   "metadata": {},
   "outputs": [
    {
     "name": "stdout",
     "output_type": "stream",
     "text": [
      "(((........+)))........ -3.6225690107880473 1578.6357569508923\n",
      "........(((+........))) -3.6225690107880473 1578.6357569508923\n",
      "(((((......+)))))...... -7.009457613077263 0.18300379339335252\n",
      "......(((((+......))))) -7.009457613077263 0.18300379339335252\n",
      "(((((((....+))))))).... -10.39634621536648 2.1214766135186817e-05\n",
      "....(((((((+....))))))) -10.39634621536648 2.1214766135186817e-05\n",
      "(((((((((..+))))))))).. -13.783234817655696 2.4593277211652495e-09\n",
      "..(((((((((+..))))))))) -13.783234817655696 2.4593277211652495e-09\n"
     ]
    }
   ],
   "source": [
    "dgduplex = N.DG.nodes[N.duplex]['fre']\n",
    "slidings = N.filternodes('state', lambda x: x == 'sliding', N.DG)\n",
    "for slide in slidings:\n",
    "    nhop = N.kinetics.slidingcircles(N.DG.nodes[slide]['fre'],-abs(N.DG.nodes[slide]['dpxdist']))\n",
    "    print(slide, N.DG.nodes[slide]['fre'], nhop)\n",
    "\n",
    "# -abs(N.DG.nodes[slide]['dpxdist']"
   ]
  },
  {
   "cell_type": "code",
   "execution_count": null,
   "metadata": {},
   "outputs": [
    {
     "data": {
      "text/plain": [
       "0.20451313537483032"
      ]
     },
     "execution_count": 29,
     "metadata": {},
     "output_type": "execute_result"
    }
   ],
   "source": [
    "S.kinet.kinetics.excluded_volume()"
   ]
  },
  {
   "cell_type": "code",
   "execution_count": null,
   "metadata": {},
   "outputs": [
    {
     "name": "stdout",
     "output_type": "stream",
     "text": [
      "1559214710.6512125\n",
      "7624032108.223729\n"
     ]
    }
   ],
   "source": [
    "print(S.kinet.kinetics.bulkcollisionrate())\n",
    "print(S.kinet.kinetics.dlrate)"
   ]
  }
 ],
 "metadata": {
  "kernelspec": {
   "display_name": "hdna",
   "language": "python",
   "name": "python3"
  },
  "language_info": {
   "codemirror_mode": {
    "name": "ipython",
    "version": 3
   },
   "file_extension": ".py",
   "mimetype": "text/x-python",
   "name": "python",
   "nbconvert_exporter": "python",
   "pygments_lexer": "ipython3",
   "version": "3.10.9"
  },
  "orig_nbformat": 4,
  "vscode": {
   "interpreter": {
    "hash": "13f02c433cbffcd00bbcbbfeff349f4b7c28e9023d8fb9f65ab93bb104997abd"
   }
  }
 },
 "nbformat": 4,
 "nbformat_minor": 2
}
