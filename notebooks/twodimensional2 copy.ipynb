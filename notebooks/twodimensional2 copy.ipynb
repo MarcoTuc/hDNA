{
 "cells": [
  {
   "cell_type": "code",
   "execution_count": 2,
   "metadata": {},
   "outputs": [],
   "source": [
    "%load_ext autoreload\n",
    "%autoreload 2"
   ]
  },
  {
   "cell_type": "code",
   "execution_count": 3,
   "metadata": {},
   "outputs": [],
   "source": [
    "import sys \n",
    "sys.path.append('..')\n",
    "import numpy as np \n",
    "import networkx as nx \n",
    "from hdna import * "
   ]
  },
  {
   "cell_type": "code",
   "execution_count": 4,
   "metadata": {},
   "outputs": [
    {
     "name": "stdout",
     "output_type": "stream",
     "text": [
      "..((......+..))...... fwd: 0.000e+00 gm: 0.000e+00 dg: -1.907\n",
      "((........+...))..... fwd: 0.000e+00 gm: 0.000e+00 dg: -2.049\n",
      ".....((...+........)) fwd: 0.000e+00 gm: 0.000e+00 dg: -2.049\n",
      "......((..+......)).. fwd: 0.000e+00 gm: 0.000e+00 dg: -1.907\n"
     ]
    },
    {
     "ename": "KeyboardInterrupt",
     "evalue": "",
     "output_type": "error",
     "traceback": [
      "\u001b[0;31m---------------------------------------------------------------------------\u001b[0m",
      "\u001b[0;31mKeyboardInterrupt\u001b[0m                         Traceback (most recent call last)",
      "Cell \u001b[0;32mIn[4], line 12\u001b[0m\n\u001b[1;32m      9\u001b[0m b2 \u001b[39m=\u001b[39m Strand(M, \u001b[39m'\u001b[39m\u001b[39mCACACACACACACA\u001b[39m\u001b[39m'\u001b[39m)\n\u001b[1;32m     10\u001b[0m OPT \u001b[39m=\u001b[39m Options(Nsim\u001b[39m=\u001b[39m\u001b[39m5000\u001b[39m)\n\u001b[0;32m---> 12\u001b[0m SA1 \u001b[39m=\u001b[39m Simulator(M, a1, a1\u001b[39m.\u001b[39;49mcomplementary(), OPT)\n\u001b[1;32m     13\u001b[0m _, ma1 \u001b[39m=\u001b[39m SA1\u001b[39m.\u001b[39mdirectsimulation()\n\u001b[1;32m     14\u001b[0m \u001b[39mprint\u001b[39m(\u001b[39m'\u001b[39m\u001b[39m{:.3e}\u001b[39;00m\u001b[39m'\u001b[39m\u001b[39m.\u001b[39mformat(\u001b[39m'\u001b[39m\u001b[39mmod:\u001b[39m\u001b[39m'\u001b[39m,ma1))\n",
      "File \u001b[0;32m~/Desktop/hDNA/notebooks/../hdna/simulator.py:44\u001b[0m, in \u001b[0;36mSimulator.__init__\u001b[0;34m(self, model, s1, s2, options, clean)\u001b[0m\n\u001b[1;32m     42\u001b[0m \u001b[39mif\u001b[39;00m \u001b[39mnot\u001b[39;00m clean:\n\u001b[1;32m     43\u001b[0m     \u001b[39mself\u001b[39m\u001b[39m.\u001b[39madd_species()\n\u001b[0;32m---> 44\u001b[0m     \u001b[39mself\u001b[39;49m\u001b[39m.\u001b[39;49madd_reactions()\n\u001b[1;32m     45\u001b[0m     \u001b[39mself\u001b[39m\u001b[39m.\u001b[39mBSGraph()\n\u001b[1;32m     47\u001b[0m     \u001b[39mself\u001b[39m\u001b[39m.\u001b[39mduplexindex \u001b[39m=\u001b[39m np\u001b[39m.\u001b[39mwhere(np\u001b[39m.\u001b[39marray([\u001b[39mself\u001b[39m\u001b[39m.\u001b[39mlt(\u001b[39mstr\u001b[39m(e)) \u001b[39mfor\u001b[39;00m e \u001b[39min\u001b[39;00m \u001b[39mlist\u001b[39m(\u001b[39mself\u001b[39m\u001b[39m.\u001b[39mbiosim\u001b[39m.\u001b[39mspecies_list)]) \u001b[39m==\u001b[39m \u001b[39mself\u001b[39m\u001b[39m.\u001b[39mkinet\u001b[39m.\u001b[39mduplex)[\u001b[39m0\u001b[39m][\u001b[39m0\u001b[39m]\n",
      "File \u001b[0;32m~/Desktop/hDNA/notebooks/../hdna/simulator.py:74\u001b[0m, in \u001b[0;36mSimulator.add_reactions\u001b[0;34m(self, verbose)\u001b[0m\n\u001b[1;32m     72\u001b[0m     rule \u001b[39m=\u001b[39m \u001b[39mf\u001b[39m\u001b[39m\"\u001b[39m\u001b[39m{\u001b[39;00metl1\u001b[39m}\u001b[39;00m\u001b[39m + \u001b[39m\u001b[39m{\u001b[39;00metl1\u001b[39m}\u001b[39;00m\u001b[39m --> \u001b[39m\u001b[39m{\u001b[39;00metl2\u001b[39m}\u001b[39;00m\u001b[39m\"\u001b[39m\n\u001b[1;32m     73\u001b[0m     \u001b[39mif\u001b[39;00m verbose: \u001b[39mprint\u001b[39m(rule)\n\u001b[0;32m---> 74\u001b[0m     \u001b[39mself\u001b[39m\u001b[39m.\u001b[39mbiosim \u001b[39m<\u001b[39m\u001b[39m=\u001b[39m jl\u001b[39m.\u001b[39;49mReaction(\u001b[39mstr\u001b[39;49m(name), \u001b[39mfloat\u001b[39;49m(rate), \u001b[39mstr\u001b[39;49m(rule))\n\u001b[1;32m     75\u001b[0m \u001b[39melif\u001b[39;00m e2 \u001b[39m==\u001b[39m \u001b[39mself\u001b[39m\u001b[39m.\u001b[39msss:\n\u001b[1;32m     76\u001b[0m     rule \u001b[39m=\u001b[39m \u001b[39mf\u001b[39m\u001b[39m\"\u001b[39m\u001b[39m{\u001b[39;00metl1\u001b[39m}\u001b[39;00m\u001b[39m --> \u001b[39m\u001b[39m{\u001b[39;00metl2\u001b[39m}\u001b[39;00m\u001b[39m + \u001b[39m\u001b[39m{\u001b[39;00metl2\u001b[39m}\u001b[39;00m\u001b[39m\"\u001b[39m\n",
      "File \u001b[0;32m~/.julia/packages/PythonCall/3GRYN/src/jlwrap/any.jl:202\u001b[0m, in \u001b[0;36m__call__\u001b[0;34m(self, *args, **kwargs)\u001b[0m\n\u001b[1;32m    200\u001b[0m     return ValueBase.__dir__(self) + self._jl_callmethod($(pyjl_methodnum(pyjlany_dir)))\n\u001b[1;32m    201\u001b[0m def __call__(self, *args, **kwargs):\n\u001b[0;32m--> 202\u001b[0m     return self._jl_callmethod($(pyjl_methodnum(pyjlany_call)), args, kwargs)\n\u001b[1;32m    203\u001b[0m def __len__(self):\n\u001b[1;32m    204\u001b[0m     return self._jl_callmethod($(pyjl_methodnum(pyjlany_op(length))))\n",
      "File \u001b[0;32m~/miniconda3/envs/hdna/lib/python3.10/abc.py:121\u001b[0m, in \u001b[0;36mABCMeta.__subclasscheck__\u001b[0;34m(cls, subclass)\u001b[0m\n\u001b[1;32m    118\u001b[0m \u001b[39m    \u001b[39m\u001b[39m\"\"\"Override for isinstance(instance, cls).\"\"\"\u001b[39;00m\n\u001b[1;32m    119\u001b[0m     \u001b[39mreturn\u001b[39;00m _abc_instancecheck(\u001b[39mcls\u001b[39m, instance)\n\u001b[0;32m--> 121\u001b[0m \u001b[39mdef\u001b[39;00m \u001b[39m__subclasscheck__\u001b[39m(\u001b[39mcls\u001b[39m, subclass):\n\u001b[1;32m    122\u001b[0m \u001b[39m    \u001b[39m\u001b[39m\"\"\"Override for issubclass(subclass, cls).\"\"\"\u001b[39;00m\n\u001b[1;32m    123\u001b[0m     \u001b[39mreturn\u001b[39;00m _abc_subclasscheck(\u001b[39mcls\u001b[39m, subclass)\n",
      "\u001b[0;31mKeyboardInterrupt\u001b[0m: "
     ]
    }
   ],
   "source": [
    "M = Model(standard=True, space_dimensionality='3D', min_nucleation=1)\n",
    "M.setparams(zipping=7.7e7, sliding=0)\n",
    "M.alpha = 2.2e5\n",
    "M.gamma = 0\n",
    "M.kappa = 1/3.8\n",
    "a1 = Strand(M, 'GTTCGGTCTA')\n",
    "b1 = Strand(M, 'ACACACACAC')\n",
    "a2 = Strand(M, 'GCTGTTCGGTCTAT')\n",
    "b2 = Strand(M, 'CACACACACACACA')\n",
    "OPT = Options(Nsim=5000)\n",
    "\n",
    "SA1 = Simulator(M, a1, a1.complementary(), OPT)\n",
    "_, ma1 = SA1.directsimulation()\n",
    "print('{:.3e}'.format('mod:',ma1))\n",
    "print('{:.3e}'.format('exp:',1145949.98))\n",
    "print()\n",
    "SB1 = Simulator(M, b1, b1.complementary(), OPT)\n",
    "_, mb1 = SB1.directsimulation()\n",
    "print('{:.3e}'.format('mod:',mb1))\n",
    "print('{:.3e}'.format('exp:',4818114.36)) \n",
    "print()\n",
    "SA2 = Simulator(M, a2, a2.complementary(), OPT)\n",
    "_, ma2 = SA2.directsimulation()\n",
    "print('{:.3e}'.format('mod:',ma2))\n",
    "print('{:.3e}'.format('exp:',1042172.8))\n",
    "print()\n",
    "SB2 = Simulator(M, b2, b2.complementary(), OPT)\n",
    "_, mb2 = SB2.directsimulation()\n",
    "print('{:.3e}'.format('mod:',mb2))\n",
    "print('{:.3e}'.format('exp:',4818114.36))"
   ]
  },
  {
   "cell_type": "code",
   "execution_count": null,
   "metadata": {},
   "outputs": [
    {
     "name": "stdout",
     "output_type": "stream",
     "text": [
      "..((......+..))...... fwd: 0.000e+00 gm: 4.179e+05 dg: -1.907\n",
      "((........+...))..... fwd: 0.000e+00 gm: 4.383e+05 dg: -2.049\n",
      ".....((...+........)) fwd: 0.000e+00 gm: 4.383e+05 dg: -2.049\n",
      "......((..+......)).. fwd: 0.000e+00 gm: 4.179e+05 dg: -1.907\n"
     ]
    },
    {
     "name": "stderr",
     "output_type": "stream",
     "text": [
      "                                                                \r"
     ]
    },
    {
     "name": "stdout",
     "output_type": "stream",
     "text": [
      "117 simulations didn't produce a duplex.\n",
      "That's 5.85% of simulations\n",
      "mod: 1.071e+06\n",
      "exp: 1.146e+06\n",
      "\n",
      "((((((((..+)))))))).. fwd: 0.000e+00 gm: 1.338e+07 dg: -12.209\n",
      "((((((....+)))))).... fwd: 0.000e+00 gm: 4.282e+06 dg: -8.823\n",
      "((((......+))))...... fwd: 0.000e+00 gm: 1.370e+06 dg: -5.436\n",
      "((........+))........ fwd: 0.000e+00 gm: 4.383e+05 dg: -2.049\n",
      "........((+........)) fwd: 0.000e+00 gm: 4.383e+05 dg: -2.049\n",
      "......((((+......)))) fwd: 0.000e+00 gm: 1.370e+06 dg: -5.436\n",
      "....((((((+....)))))) fwd: 0.000e+00 gm: 4.282e+06 dg: -8.823\n",
      "..((((((((+..)))))))) fwd: 0.000e+00 gm: 1.338e+07 dg: -12.209\n"
     ]
    },
    {
     "name": "stderr",
     "output_type": "stream",
     "text": [
      "                                                                \r"
     ]
    },
    {
     "name": "stdout",
     "output_type": "stream",
     "text": [
      "8 simulations didn't produce a duplex.\n",
      "That's 0.4% of simulations\n",
      "mod: 2.882e+06\n",
      "exp: 4.818e+06\n",
      "\n",
      ".....((.......+...))......... fwd: 0.000e+00 gm: 4.179e+05 dg: -1.907\n",
      "...((.........+....))........ fwd: 0.000e+00 gm: 4.383e+05 dg: -2.049\n",
      ".((...........+..)).......... fwd: 0.000e+00 gm: 4.132e+05 dg: -1.873\n",
      "..........((..+...........)). fwd: 0.000e+00 gm: 4.132e+05 dg: -1.873\n",
      "........((....+.........))... fwd: 0.000e+00 gm: 4.383e+05 dg: -2.049\n",
      ".........((...+.......))..... fwd: 0.000e+00 gm: 4.179e+05 dg: -1.907\n"
     ]
    },
    {
     "name": "stderr",
     "output_type": "stream",
     "text": [
      "                                                                \r"
     ]
    },
    {
     "name": "stdout",
     "output_type": "stream",
     "text": [
      "141 simulations didn't produce a duplex.\n",
      "That's 7.05% of simulations\n",
      "mod: 8.904e+05\n",
      "exp: 1.042e+06\n",
      "\n",
      "((((((((((((..+)))))))))))).. fwd: 0.000e+00 gm: 1.313e+08 dg: -18.996\n",
      "((((((((((....+)))))))))).... fwd: 0.000e+00 gm: 4.201e+07 dg: -15.610\n",
      "((((((((......+))))))))...... fwd: 0.000e+00 gm: 1.344e+07 dg: -12.223\n",
      "((((((........+))))))........ fwd: 0.000e+00 gm: 4.301e+06 dg: -8.836\n",
      "((((..........+)))).......... fwd: 0.000e+00 gm: 1.376e+06 dg: -5.449\n",
      "((............+))............ fwd: 0.000e+00 gm: 4.403e+05 dg: -2.062\n",
      "............((+............)) fwd: 0.000e+00 gm: 4.403e+05 dg: -2.062\n",
      "..........((((+..........)))) fwd: 0.000e+00 gm: 1.376e+06 dg: -5.449\n",
      "........((((((+........)))))) fwd: 0.000e+00 gm: 4.301e+06 dg: -8.836\n",
      "......((((((((+......)))))))) fwd: 0.000e+00 gm: 1.344e+07 dg: -12.223\n",
      "....((((((((((+....)))))))))) fwd: 0.000e+00 gm: 4.201e+07 dg: -15.610\n",
      "..((((((((((((+..)))))))))))) fwd: 0.000e+00 gm: 1.313e+08 dg: -18.996\n"
     ]
    },
    {
     "name": "stderr",
     "output_type": "stream",
     "text": [
      "                                                                "
     ]
    },
    {
     "name": "stdout",
     "output_type": "stream",
     "text": [
      "4 simulations didn't produce a duplex.\n",
      "That's 0.2% of simulations\n",
      "mod: 4.698e+06\n",
      "exp: 4.818e+06\n"
     ]
    },
    {
     "name": "stderr",
     "output_type": "stream",
     "text": [
      "\r"
     ]
    }
   ],
   "source": [
    "M = Model(standard=True, space_dimensionality='3D', min_nucleation=1)\n",
    "M.setparams(zipping=7.7e7, sliding=0)\n",
    "M.alpha = 2.2e5\n",
    "M.gamma = 0\n",
    "M.kappa = 1/5\n",
    "a1 = Strand(M, 'GTTCGGTCTA')\n",
    "b1 = Strand(M, 'ACACACACAC')\n",
    "a2 = Strand(M, 'GCTGTTCGGTCTAT')\n",
    "b2 = Strand(M, 'CACACACACACACA')\n",
    "OPT = Options(Nsim=2000)\n",
    "\n",
    "SA1 = Simulator(M, a1, a1.complementary(), OPT)\n",
    "_, ma1 = SA1.directsimulation()\n",
    "print('mod:','{:.3e}'.format(ma1))\n",
    "print('exp:','{:.3e}'.format(1145949.98))\n",
    "print()\n",
    "SB1 = Simulator(M, b1, b1.complementary(), OPT)\n",
    "_, mb1 = SB1.directsimulation()\n",
    "print('mod:','{:.3e}'.format(mb1))\n",
    "print('exp:','{:.3e}'.format(4818114.36)) \n",
    "print()\n",
    "SA2 = Simulator(M, a2, a2.complementary(), OPT)\n",
    "_, ma2 = SA2.directsimulation()\n",
    "print('mod:','{:.3e}'.format(ma2))\n",
    "print('exp:','{:.3e}'.format(1042172.8))\n",
    "print()\n",
    "SB2 = Simulator(M, b2, b2.complementary(), OPT)\n",
    "_, mb2 = SB2.directsimulation()\n",
    "print('mod:','{:.3e}'.format(mb2))\n",
    "print('exp:','{:.3e}'.format(4818114.36))"
   ]
  },
  {
   "cell_type": "code",
   "execution_count": null,
   "metadata": {},
   "outputs": [
    {
     "name": "stdout",
     "output_type": "stream",
     "text": [
      "..((......+..))...... fwd: 1.094e+06 gm: 4.179e+05 dg: -1.907\n",
      "((........+...))..... fwd: 1.233e+06 gm: 4.383e+05 dg: -2.049\n",
      ".....((...+........)) fwd: 1.233e+06 gm: 4.383e+05 dg: -2.049\n",
      "......((..+......)).. fwd: 1.094e+06 gm: 4.179e+05 dg: -1.907\n"
     ]
    },
    {
     "name": "stderr",
     "output_type": "stream",
     "text": [
      "                                                                \r"
     ]
    },
    {
     "name": "stdout",
     "output_type": "stream",
     "text": [
      "131 simulations didn't produce a duplex.\n",
      "That's 6.55% of simulations\n",
      "mod: 1.045e+06\n",
      "exp: 1.146e+06\n",
      "\n",
      "((((((((..+)))))))).. fwd: 6.349e+09 gm: 1.338e+07 dg: -12.209\n",
      "((((((....+)))))).... fwd: 3.677e+08 gm: 4.282e+06 dg: -8.823\n",
      "((((......+))))...... fwd: 2.129e+07 gm: 1.370e+06 dg: -5.436\n",
      "((........+))........ fwd: 1.233e+06 gm: 4.383e+05 dg: -2.049\n",
      "........((+........)) fwd: 1.233e+06 gm: 4.383e+05 dg: -2.049\n",
      "......((((+......)))) fwd: 2.129e+07 gm: 1.370e+06 dg: -5.436\n",
      "....((((((+....)))))) fwd: 3.677e+08 gm: 4.282e+06 dg: -8.823\n",
      "..((((((((+..)))))))) fwd: 6.349e+09 gm: 1.338e+07 dg: -12.209\n"
     ]
    },
    {
     "name": "stderr",
     "output_type": "stream",
     "text": [
      "                                                                \r"
     ]
    },
    {
     "name": "stdout",
     "output_type": "stream",
     "text": [
      "13 simulations didn't produce a duplex.\n",
      "That's 0.65% of simulations\n",
      "mod: 2.957e+06\n",
      "exp: 4.818e+06\n",
      "\n",
      ".....((.......+...))......... fwd: 7.813e+05 gm: 2.985e+05 dg: -1.907\n",
      "...((.........+....))........ fwd: 8.805e+05 gm: 3.131e+05 dg: -2.049\n",
      ".((...........+..)).......... fwd: 7.596e+05 gm: 2.951e+05 dg: -1.873\n",
      "..........((..+...........)). fwd: 7.596e+05 gm: 2.951e+05 dg: -1.873\n",
      "........((....+.........))... fwd: 8.805e+05 gm: 3.131e+05 dg: -2.049\n",
      ".........((...+.......))..... fwd: 7.813e+05 gm: 2.985e+05 dg: -1.907\n"
     ]
    },
    {
     "name": "stderr",
     "output_type": "stream",
     "text": [
      "                                                                \r"
     ]
    },
    {
     "name": "stdout",
     "output_type": "stream",
     "text": [
      "204 simulations didn't produce a duplex.\n",
      "That's 10.2% of simulations\n",
      "mod: 7.945e+05\n",
      "exp: 1.042e+06\n",
      "\n",
      "((((((((((((..+)))))))))))).. fwd: 1.368e+12 gm: 9.379e+07 dg: -18.996\n",
      "((((((((((....+)))))))))).... fwd: 7.919e+10 gm: 3.001e+07 dg: -15.610\n",
      "((((((((......+))))))))...... fwd: 4.586e+09 gm: 9.602e+06 dg: -12.223\n",
      "((((((........+))))))........ fwd: 2.655e+08 gm: 3.072e+06 dg: -8.836\n",
      "((((..........+)))).......... fwd: 1.538e+07 gm: 9.829e+05 dg: -5.449\n",
      "((............+))............ fwd: 8.904e+05 gm: 3.145e+05 dg: -2.062\n",
      "............((+............)) fwd: 8.904e+05 gm: 3.145e+05 dg: -2.062\n",
      "..........((((+..........)))) fwd: 1.538e+07 gm: 9.829e+05 dg: -5.449\n",
      "........((((((+........)))))) fwd: 2.655e+08 gm: 3.072e+06 dg: -8.836\n",
      "......((((((((+......)))))))) fwd: 4.586e+09 gm: 9.602e+06 dg: -12.223\n",
      "....((((((((((+....)))))))))) fwd: 7.919e+10 gm: 3.001e+07 dg: -15.610\n",
      "..((((((((((((+..)))))))))))) fwd: 1.368e+12 gm: 9.379e+07 dg: -18.996\n"
     ]
    },
    {
     "name": "stderr",
     "output_type": "stream",
     "text": [
      "                                                                "
     ]
    },
    {
     "name": "stdout",
     "output_type": "stream",
     "text": [
      "12 simulations didn't produce a duplex.\n",
      "That's 0.6% of simulations\n",
      "mod: 4.023e+06\n",
      "exp: 4.818e+06\n"
     ]
    },
    {
     "name": "stderr",
     "output_type": "stream",
     "text": [
      "\r"
     ]
    }
   ],
   "source": [
    "M = Model(standard=True, space_dimensionality='3D', min_nucleation=1)\n",
    "M.setparams(zipping=7.7e7, sliding=2.2e6)\n",
    "M.alpha = 0\n",
    "M.gamma = 0\n",
    "M.kappa = 1/5\n",
    "a1 = Strand(M, 'GTTCGGTCTA')\n",
    "b1 = Strand(M, 'ACACACACAC')\n",
    "a2 = Strand(M, 'GCTGTTCGGTCTAT')\n",
    "b2 = Strand(M, 'CACACACACACACA')\n",
    "OPT = Options(Nsim=2000)\n",
    "\n",
    "SA1 = Simulator(M, a1, a1.complementary(), OPT)\n",
    "_, ma1 = SA1.directsimulation()\n",
    "print('mod:','{:.3e}'.format(ma1))\n",
    "print('exp:','{:.3e}'.format(1145949.98))\n",
    "print()\n",
    "SB1 = Simulator(M, b1, b1.complementary(), OPT)\n",
    "_, mb1 = SB1.directsimulation()\n",
    "print('mod:','{:.3e}'.format(mb1))\n",
    "print('exp:','{:.3e}'.format(4818114.36)) \n",
    "print()\n",
    "SA2 = Simulator(M, a2, a2.complementary(), OPT)\n",
    "_, ma2 = SA2.directsimulation()\n",
    "print('mod:','{:.3e}'.format(ma2))\n",
    "print('exp:','{:.3e}'.format(1042172.8))\n",
    "print()\n",
    "SB2 = Simulator(M, b2, b2.complementary(), OPT)\n",
    "_, mb2 = SB2.directsimulation()\n",
    "print('mod:','{:.3e}'.format(mb2))\n",
    "print('exp:','{:.3e}'.format(4818114.36))"
   ]
  },
  {
   "cell_type": "code",
   "execution_count": null,
   "metadata": {},
   "outputs": [
    {
     "name": "stdout",
     "output_type": "stream",
     "text": [
      "..((......+..))...... fwd: 1.094e+06 gm: 4.906e+05 dg: -1.907\n",
      "((........+...))..... fwd: 1.233e+06 gm: 5.208e+05 dg: -2.049\n",
      ".....((...+........)) fwd: 1.233e+06 gm: 5.208e+05 dg: -2.049\n",
      "......((..+......)).. fwd: 1.094e+06 gm: 4.906e+05 dg: -1.907\n"
     ]
    },
    {
     "name": "stderr",
     "output_type": "stream",
     "text": [
      "                                                                \r"
     ]
    },
    {
     "name": "stdout",
     "output_type": "stream",
     "text": [
      "79 simulations didn't produce a duplex.\n",
      "That's 3.95% of simulations\n",
      "mod: 1.154e+06\n",
      "exp: 1.146e+06\n",
      "\n",
      "((((((((..+)))))))).. fwd: 6.349e+09 gm: 3.737e+07 dg: -12.209\n",
      "((((((....+)))))).... fwd: 3.677e+08 gm: 8.994e+06 dg: -8.823\n",
      "((((......+))))...... fwd: 2.129e+07 gm: 2.164e+06 dg: -5.436\n",
      "((........+))........ fwd: 1.233e+06 gm: 5.208e+05 dg: -2.049\n",
      "........((+........)) fwd: 1.233e+06 gm: 5.208e+05 dg: -2.049\n",
      "......((((+......)))) fwd: 2.129e+07 gm: 2.164e+06 dg: -5.436\n",
      "....((((((+....)))))) fwd: 3.677e+08 gm: 8.994e+06 dg: -8.823\n",
      "..((((((((+..)))))))) fwd: 6.349e+09 gm: 3.737e+07 dg: -12.209\n"
     ]
    },
    {
     "name": "stderr",
     "output_type": "stream",
     "text": [
      "                                                                \r"
     ]
    },
    {
     "name": "stdout",
     "output_type": "stream",
     "text": [
      "3 simulations didn't produce a duplex.\n",
      "That's 0.15% of simulations\n",
      "mod: 4.268e+06\n",
      "exp: 4.818e+06\n",
      "\n",
      ".....((.......+...))......... fwd: 7.813e+05 gm: 3.504e+05 dg: -1.907\n",
      "...((.........+....))........ fwd: 8.805e+05 gm: 3.720e+05 dg: -2.049\n",
      ".((...........+..)).......... fwd: 7.596e+05 gm: 3.455e+05 dg: -1.873\n",
      "..........((..+...........)). fwd: 7.596e+05 gm: 3.455e+05 dg: -1.873\n",
      "........((....+.........))... fwd: 8.805e+05 gm: 3.720e+05 dg: -2.049\n",
      ".........((...+.......))..... fwd: 7.813e+05 gm: 3.504e+05 dg: -1.907\n"
     ]
    },
    {
     "name": "stderr",
     "output_type": "stream",
     "text": [
      "                                                                \r"
     ]
    },
    {
     "name": "stdout",
     "output_type": "stream",
     "text": [
      "188 simulations didn't produce a duplex.\n",
      "That's 9.4% of simulations\n",
      "mod: 8.002e+05\n",
      "exp: 1.042e+06\n",
      "\n",
      "((((((((((((..+)))))))))))).. fwd: 1.368e+12 gm: 4.636e+08 dg: -18.996\n",
      "((((((((((....+)))))))))).... fwd: 7.919e+10 gm: 1.116e+08 dg: -15.610\n",
      "((((((((......+))))))))...... fwd: 4.586e+09 gm: 2.684e+07 dg: -12.223\n",
      "((((((........+))))))........ fwd: 2.655e+08 gm: 6.460e+06 dg: -8.836\n",
      "((((..........+)))).......... fwd: 1.538e+07 gm: 1.554e+06 dg: -5.449\n",
      "((............+))............ fwd: 8.904e+05 gm: 3.740e+05 dg: -2.062\n",
      "............((+............)) fwd: 8.904e+05 gm: 3.740e+05 dg: -2.062\n",
      "..........((((+..........)))) fwd: 1.538e+07 gm: 1.554e+06 dg: -5.449\n",
      "........((((((+........)))))) fwd: 2.655e+08 gm: 6.460e+06 dg: -8.836\n",
      "......((((((((+......)))))))) fwd: 4.586e+09 gm: 2.684e+07 dg: -12.223\n",
      "....((((((((((+....)))))))))) fwd: 7.919e+10 gm: 1.116e+08 dg: -15.610\n",
      "..((((((((((((+..)))))))))))) fwd: 1.368e+12 gm: 4.636e+08 dg: -18.996\n"
     ]
    },
    {
     "name": "stderr",
     "output_type": "stream",
     "text": [
      "                                                                "
     ]
    },
    {
     "name": "stdout",
     "output_type": "stream",
     "text": [
      "10 simulations didn't produce a duplex.\n",
      "That's 0.5% of simulations\n",
      "mod: 5.757e+06\n",
      "exp: 4.818e+06\n"
     ]
    },
    {
     "name": "stderr",
     "output_type": "stream",
     "text": [
      "\r"
     ]
    }
   ],
   "source": [
    "M = Model(standard=True, space_dimensionality='3D', min_nucleation=1)\n",
    "M.setparams(zipping=7.7e7, sliding=2.2e6)\n",
    "M.alpha = 0\n",
    "M.gamma = 0\n",
    "M.kappa = 1/4\n",
    "a1 = Strand(M, 'GTTCGGTCTA')\n",
    "b1 = Strand(M, 'ACACACACAC')\n",
    "a2 = Strand(M, 'GCTGTTCGGTCTAT')\n",
    "b2 = Strand(M, 'CACACACACACACA')\n",
    "OPT = Options(Nsim=2000)\n",
    "\n",
    "SA1 = Simulator(M, a1, a1.complementary(), OPT)\n",
    "_, ma1 = SA1.directsimulation()\n",
    "print('mod:','{:.3e}'.format(ma1))\n",
    "print('exp:','{:.3e}'.format(1145949.98))\n",
    "print()\n",
    "SB1 = Simulator(M, b1, b1.complementary(), OPT)\n",
    "_, mb1 = SB1.directsimulation()\n",
    "print('mod:','{:.3e}'.format(mb1))\n",
    "print('exp:','{:.3e}'.format(4818114.36)) \n",
    "print()\n",
    "SA2 = Simulator(M, a2, a2.complementary(), OPT)\n",
    "_, ma2 = SA2.directsimulation()\n",
    "print('mod:','{:.3e}'.format(ma2))\n",
    "print('exp:','{:.3e}'.format(1042172.8))\n",
    "print()\n",
    "SB2 = Simulator(M, b2, b2.complementary(), OPT)\n",
    "_, mb2 = SB2.directsimulation()\n",
    "print('mod:','{:.3e}'.format(mb2))\n",
    "print('exp:','{:.3e}'.format(4818114.36))"
   ]
  },
  {
   "cell_type": "code",
   "execution_count": null,
   "metadata": {},
   "outputs": [
    {
     "name": "stdout",
     "output_type": "stream",
     "text": [
      "..((......+..))...... fwd: 1.094e+06 gm: 6.409e+05 dg: -1.907\n",
      "((........+...))..... fwd: 1.233e+06 gm: 6.940e+05 dg: -2.049\n",
      ".....((...+........)) fwd: 1.233e+06 gm: 6.940e+05 dg: -2.049\n",
      "......((..+......)).. fwd: 1.094e+06 gm: 6.409e+05 dg: -1.907\n"
     ]
    },
    {
     "name": "stderr",
     "output_type": "stream",
     "text": [
      "                                                                \r"
     ]
    },
    {
     "name": "stdout",
     "output_type": "stream",
     "text": [
      "61 simulations didn't produce a duplex.\n",
      "That's 3.05% of simulations\n",
      "mod: 1.355e+06\n",
      "exp: 1.146e+06\n",
      "\n",
      "((((((((..+)))))))).. fwd: 6.349e+09 gm: 2.070e+08 dg: -12.209\n",
      "((((((....+)))))).... fwd: 3.677e+08 gm: 3.098e+07 dg: -8.823\n",
      "((((......+))))...... fwd: 2.129e+07 gm: 4.637e+06 dg: -5.436\n",
      "((........+))........ fwd: 1.233e+06 gm: 6.940e+05 dg: -2.049\n",
      "........((+........)) fwd: 1.233e+06 gm: 6.940e+05 dg: -2.049\n",
      "......((((+......)))) fwd: 2.129e+07 gm: 4.637e+06 dg: -5.436\n",
      "....((((((+....)))))) fwd: 3.677e+08 gm: 3.098e+07 dg: -8.823\n",
      "..((((((((+..)))))))) fwd: 6.349e+09 gm: 2.070e+08 dg: -12.209\n"
     ]
    },
    {
     "name": "stderr",
     "output_type": "stream",
     "text": [
      "                                                                \r"
     ]
    },
    {
     "name": "stdout",
     "output_type": "stream",
     "text": [
      "3 simulations didn't produce a duplex.\n",
      "That's 0.15% of simulations\n",
      "mod: 6.656e+06\n",
      "exp: 4.818e+06\n",
      "\n",
      ".....((.......+...))......... fwd: 7.813e+05 gm: 4.578e+05 dg: -1.907\n",
      "...((.........+....))........ fwd: 8.805e+05 gm: 4.957e+05 dg: -2.049\n",
      ".((...........+..)).......... fwd: 7.596e+05 gm: 4.493e+05 dg: -1.873\n",
      "..........((..+...........)). fwd: 7.596e+05 gm: 4.493e+05 dg: -1.873\n",
      "........((....+.........))... fwd: 8.805e+05 gm: 4.957e+05 dg: -2.049\n",
      ".........((...+.......))..... fwd: 7.813e+05 gm: 4.578e+05 dg: -1.907\n"
     ]
    },
    {
     "name": "stderr",
     "output_type": "stream",
     "text": [
      "                                                                \r"
     ]
    },
    {
     "name": "stdout",
     "output_type": "stream",
     "text": [
      "138 simulations didn't produce a duplex.\n",
      "That's 6.9% of simulations\n",
      "mod: 8.713e+05\n",
      "exp: 1.042e+06\n",
      "\n",
      "((((((((((((..+)))))))))))).. fwd: 1.368e+12 gm: 6.649e+09 dg: -18.996\n",
      "((((((((((....+)))))))))).... fwd: 7.919e+10 gm: 9.952e+08 dg: -15.610\n",
      "((((((((......+))))))))...... fwd: 4.586e+09 gm: 1.489e+08 dg: -12.223\n",
      "((((((........+))))))........ fwd: 2.655e+08 gm: 2.229e+07 dg: -8.836\n",
      "((((..........+)))).......... fwd: 1.538e+07 gm: 3.337e+06 dg: -5.449\n",
      "((............+))............ fwd: 8.904e+05 gm: 4.994e+05 dg: -2.062\n",
      "............((+............)) fwd: 8.904e+05 gm: 4.994e+05 dg: -2.062\n",
      "..........((((+..........)))) fwd: 1.538e+07 gm: 3.337e+06 dg: -5.449\n",
      "........((((((+........)))))) fwd: 2.655e+08 gm: 2.229e+07 dg: -8.836\n",
      "......((((((((+......)))))))) fwd: 4.586e+09 gm: 1.489e+08 dg: -12.223\n",
      "....((((((((((+....)))))))))) fwd: 7.919e+10 gm: 9.952e+08 dg: -15.610\n",
      "..((((((((((((+..)))))))))))) fwd: 1.368e+12 gm: 6.649e+09 dg: -18.996\n"
     ]
    },
    {
     "name": "stderr",
     "output_type": "stream",
     "text": [
      "                                                                "
     ]
    },
    {
     "name": "stdout",
     "output_type": "stream",
     "text": [
      "4 simulations didn't produce a duplex.\n",
      "That's 0.2% of simulations\n",
      "mod: 8.933e+06\n",
      "exp: 4.818e+06\n"
     ]
    },
    {
     "name": "stderr",
     "output_type": "stream",
     "text": [
      "\r"
     ]
    }
   ],
   "source": [
    "M = Model(standard=True, space_dimensionality='3D', min_nucleation=1)\n",
    "M.setparams(zipping=8e7, sliding=2.2e6)\n",
    "M.alpha = 0\n",
    "M.gamma = 0\n",
    "M.kappa = 1/3\n",
    "a1 = Strand(M, 'GTTCGGTCTA')\n",
    "b1 = Strand(M, 'ACACACACAC')\n",
    "a2 = Strand(M, 'GCTGTTCGGTCTAT')\n",
    "b2 = Strand(M, 'CACACACACACACA')\n",
    "OPT = Options(Nsim=2000)\n",
    "\n",
    "SA1 = Simulator(M, a1, a1.complementary(), OPT)\n",
    "_, ma1 = SA1.directsimulation()\n",
    "print('mod:','{:.3e}'.format(ma1))\n",
    "print('exp:','{:.3e}'.format(1145949.98))\n",
    "print()\n",
    "SB1 = Simulator(M, b1, b1.complementary(), OPT)\n",
    "_, mb1 = SB1.directsimulation()\n",
    "print('mod:','{:.3e}'.format(mb1))\n",
    "print('exp:','{:.3e}'.format(4818114.36)) \n",
    "print()\n",
    "SA2 = Simulator(M, a2, a2.complementary(), OPT)\n",
    "_, ma2 = SA2.directsimulation()\n",
    "print('mod:','{:.3e}'.format(ma2))\n",
    "print('exp:','{:.3e}'.format(1042172.8))\n",
    "print()\n",
    "SB2 = Simulator(M, b2, b2.complementary(), OPT)\n",
    "_, mb2 = SB2.directsimulation()\n",
    "print('mod:','{:.3e}'.format(mb2))\n",
    "print('exp:','{:.3e}'.format(4818114.36))"
   ]
  },
  {
   "cell_type": "code",
   "execution_count": null,
   "metadata": {},
   "outputs": [
    {
     "name": "stdout",
     "output_type": "stream",
     "text": [
      "..((......+..))...... fwd: 2.486e+06 gm: 8.534e+05 dg: -1.907\n",
      "((........+...))..... fwd: 2.802e+06 gm: 8.881e+05 dg: -2.049\n",
      ".....((...+........)) fwd: 2.802e+06 gm: 8.881e+05 dg: -2.049\n",
      "......((..+......)).. fwd: 2.486e+06 gm: 8.534e+05 dg: -1.907\n"
     ]
    },
    {
     "name": "stderr",
     "output_type": "stream",
     "text": [
      "                                                                \r"
     ]
    },
    {
     "name": "stdout",
     "output_type": "stream",
     "text": [
      "26 simulations didn't produce a duplex.\n",
      "That's 1.3% of simulations\n",
      "mod: 1.500e+06\n",
      "exp: 1.146e+06\n",
      "\n",
      "((((((((..+)))))))).. fwd: 1.443e+10 gm: 1.534e+07 dg: -12.209\n",
      "((((((....+)))))).... fwd: 8.356e+08 gm: 5.933e+06 dg: -8.823\n",
      "((((......+))))...... fwd: 4.838e+07 gm: 2.296e+06 dg: -5.436\n",
      "((........+))........ fwd: 2.802e+06 gm: 8.881e+05 dg: -2.049\n",
      "........((+........)) fwd: 2.802e+06 gm: 8.881e+05 dg: -2.049\n",
      "......((((+......)))) fwd: 4.838e+07 gm: 2.296e+06 dg: -5.436\n",
      "....((((((+....)))))) fwd: 8.356e+08 gm: 5.933e+06 dg: -8.823\n",
      "..((((((((+..)))))))) fwd: 1.443e+10 gm: 1.534e+07 dg: -12.209\n"
     ]
    },
    {
     "name": "stderr",
     "output_type": "stream",
     "text": [
      "                                                                \r"
     ]
    },
    {
     "name": "stdout",
     "output_type": "stream",
     "text": [
      "1 simulations didn't produce a duplex.\n",
      "That's 0.05% of simulations\n",
      "mod: 4.130e+06\n",
      "exp: 4.818e+06\n",
      "\n",
      ".....((.......+...))......... fwd: 1.776e+06 gm: 6.096e+05 dg: -1.907\n",
      "...((.........+....))........ fwd: 2.001e+06 gm: 6.343e+05 dg: -2.049\n",
      ".((...........+..)).......... fwd: 1.726e+06 gm: 6.039e+05 dg: -1.873\n",
      "..........((..+...........)). fwd: 1.726e+06 gm: 6.039e+05 dg: -1.873\n",
      "........((....+.........))... fwd: 2.001e+06 gm: 6.343e+05 dg: -2.049\n",
      ".........((...+.......))..... fwd: 1.776e+06 gm: 6.096e+05 dg: -1.907\n"
     ]
    },
    {
     "name": "stderr",
     "output_type": "stream",
     "text": [
      "                                                                \r"
     ]
    },
    {
     "name": "stdout",
     "output_type": "stream",
     "text": [
      "116 simulations didn't produce a duplex.\n",
      "That's 5.8% of simulations\n",
      "mod: 9.303e+05\n",
      "exp: 1.042e+06\n",
      "\n",
      "((((((((((((..+)))))))))))).. fwd: 3.108e+12 gm: 7.346e+07 dg: -18.996\n",
      "((((((((((....+)))))))))).... fwd: 1.800e+11 gm: 2.842e+07 dg: -15.610\n",
      "((((((((......+))))))))...... fwd: 1.042e+10 gm: 1.100e+07 dg: -12.223\n",
      "((((((........+))))))........ fwd: 6.035e+08 gm: 4.254e+06 dg: -8.836\n",
      "((((..........+)))).......... fwd: 3.495e+07 gm: 1.646e+06 dg: -5.449\n",
      "((............+))............ fwd: 2.024e+06 gm: 6.367e+05 dg: -2.062\n",
      "............((+............)) fwd: 2.024e+06 gm: 6.367e+05 dg: -2.062\n",
      "..........((((+..........)))) fwd: 3.495e+07 gm: 1.646e+06 dg: -5.449\n",
      "........((((((+........)))))) fwd: 6.035e+08 gm: 4.254e+06 dg: -8.836\n",
      "......((((((((+......)))))))) fwd: 1.042e+10 gm: 1.100e+07 dg: -12.223\n",
      "....((((((((((+....)))))))))) fwd: 1.800e+11 gm: 2.842e+07 dg: -15.610\n",
      "..((((((((((((+..)))))))))))) fwd: 3.108e+12 gm: 7.346e+07 dg: -18.996\n"
     ]
    },
    {
     "name": "stderr",
     "output_type": "stream",
     "text": [
      "                                                                "
     ]
    },
    {
     "name": "stdout",
     "output_type": "stream",
     "text": [
      "3 simulations didn't produce a duplex.\n",
      "That's 0.15% of simulations\n",
      "mod: 5.127e+06\n",
      "exp: 4.818e+06\n"
     ]
    },
    {
     "name": "stderr",
     "output_type": "stream",
     "text": [
      "\r"
     ]
    }
   ],
   "source": [
    "M = Model(standard=True, space_dimensionality='3D', min_nucleation=1)\n",
    "M.setparams(zipping=7.5e7, sliding=5e6)\n",
    "M.alpha = 0\n",
    "M.gamma = 0\n",
    "M.kappa = 1/6\n",
    "a1 = Strand(M, 'GTTCGGTCTA')\n",
    "b1 = Strand(M, 'ACACACACAC')\n",
    "a2 = Strand(M, 'GCTGTTCGGTCTAT')\n",
    "b2 = Strand(M, 'CACACACACACACA')\n",
    "OPT = Options(Nsim=2000)\n",
    "\n",
    "SA1 = Simulator(M, a1, a1.complementary(), OPT)\n",
    "_, ma1 = SA1.directsimulation()\n",
    "print('mod:','{:.3e}'.format(ma1))\n",
    "print('exp:','{:.3e}'.format(1145949.98))\n",
    "print()\n",
    "SB1 = Simulator(M, b1, b1.complementary(), OPT)\n",
    "_, mb1 = SB1.directsimulation()\n",
    "print('mod:','{:.3e}'.format(mb1))\n",
    "print('exp:','{:.3e}'.format(4818114.36)) \n",
    "print()\n",
    "SA2 = Simulator(M, a2, a2.complementary(), OPT)\n",
    "_, ma2 = SA2.directsimulation()\n",
    "print('mod:','{:.3e}'.format(ma2))\n",
    "print('exp:','{:.3e}'.format(1042172.8))\n",
    "print()\n",
    "SB2 = Simulator(M, b2, b2.complementary(), OPT)\n",
    "_, mb2 = SB2.directsimulation()\n",
    "print('mod:','{:.3e}'.format(mb2))\n",
    "print('exp:','{:.3e}'.format(4818114.36))"
   ]
  },
  {
   "cell_type": "code",
   "execution_count": 9,
   "metadata": {},
   "outputs": [
    {
     "name": "stdout",
     "output_type": "stream",
     "text": [
      "..((......+..))...... fwd: 2.486e+05 gm: 1.457e+05 dg: -1.907\n",
      "((........+...))..... fwd: 2.802e+05 gm: 1.577e+05 dg: -2.049\n",
      ".....((...+........)) fwd: 2.802e+05 gm: 1.577e+05 dg: -2.049\n",
      "......((..+......)).. fwd: 2.486e+05 gm: 1.457e+05 dg: -1.907\n"
     ]
    },
    {
     "name": "stderr",
     "output_type": "stream",
     "text": [
      "                                                                \r"
     ]
    },
    {
     "name": "stdout",
     "output_type": "stream",
     "text": [
      "0 simulations didn't produce a duplex.\n",
      "That's 0.0% of simulations\n",
      "mod: 6.011e+06\n",
      "exp: 1.146e+06\n",
      "\n",
      "((((((((..+)))))))).. fwd: 1.443e+09 gm: 4.704e+07 dg: -12.209\n",
      "((((((....+)))))).... fwd: 8.356e+07 gm: 7.041e+06 dg: -8.823\n",
      "((((......+))))...... fwd: 4.838e+06 gm: 1.054e+06 dg: -5.436\n",
      "((........+))........ fwd: 2.802e+05 gm: 1.577e+05 dg: -2.049\n",
      "........((+........)) fwd: 2.802e+05 gm: 1.577e+05 dg: -2.049\n",
      "......((((+......)))) fwd: 4.838e+06 gm: 1.054e+06 dg: -5.436\n",
      "....((((((+....)))))) fwd: 8.356e+07 gm: 7.041e+06 dg: -8.823\n",
      "..((((((((+..)))))))) fwd: 1.443e+09 gm: 4.704e+07 dg: -12.209\n"
     ]
    },
    {
     "name": "stderr",
     "output_type": "stream",
     "text": [
      "                                                                \r"
     ]
    },
    {
     "name": "stdout",
     "output_type": "stream",
     "text": [
      "0 simulations didn't produce a duplex.\n",
      "That's 0.0% of simulations\n",
      "mod: 1.413e+07\n",
      "exp: 4.818e+06\n",
      "\n",
      ".....((.......+...))......... fwd: 1.776e+05 gm: 1.040e+05 dg: -1.907\n",
      "...((.........+....))........ fwd: 2.001e+05 gm: 1.127e+05 dg: -2.049\n",
      ".((...........+..)).......... fwd: 1.726e+05 gm: 1.021e+05 dg: -1.873\n",
      "..........((..+...........)). fwd: 1.726e+05 gm: 1.021e+05 dg: -1.873\n",
      "........((....+.........))... fwd: 2.001e+05 gm: 1.127e+05 dg: -2.049\n",
      ".........((...+.......))..... fwd: 1.776e+05 gm: 1.040e+05 dg: -1.907\n"
     ]
    },
    {
     "name": "stderr",
     "output_type": "stream",
     "text": [
      "                                                                \r"
     ]
    },
    {
     "name": "stdout",
     "output_type": "stream",
     "text": [
      "0 simulations didn't produce a duplex.\n",
      "That's 0.0% of simulations\n",
      "mod: 5.024e+06\n",
      "exp: 1.042e+06\n",
      "\n",
      "((((((((((((..+)))))))))))).. fwd: 3.108e+11 gm: 1.511e+09 dg: -18.996\n",
      "((((((((((....+)))))))))).... fwd: 1.800e+10 gm: 2.262e+08 dg: -15.610\n",
      "((((((((......+))))))))...... fwd: 1.042e+09 gm: 3.385e+07 dg: -12.223\n",
      "((((((........+))))))........ fwd: 6.035e+07 gm: 5.067e+06 dg: -8.836\n",
      "((((..........+)))).......... fwd: 3.495e+06 gm: 7.584e+05 dg: -5.449\n",
      "((............+))............ fwd: 2.024e+05 gm: 1.135e+05 dg: -2.062\n",
      "............((+............)) fwd: 2.024e+05 gm: 1.135e+05 dg: -2.062\n",
      "..........((((+..........)))) fwd: 3.495e+06 gm: 7.584e+05 dg: -5.449\n",
      "........((((((+........)))))) fwd: 6.035e+07 gm: 5.067e+06 dg: -8.836\n",
      "......((((((((+......)))))))) fwd: 1.042e+09 gm: 3.385e+07 dg: -12.223\n",
      "....((((((((((+....)))))))))) fwd: 1.800e+10 gm: 2.262e+08 dg: -15.610\n",
      "..((((((((((((+..)))))))))))) fwd: 3.108e+11 gm: 1.511e+09 dg: -18.996\n"
     ]
    },
    {
     "name": "stderr",
     "output_type": "stream",
     "text": [
      "                                                                "
     ]
    },
    {
     "name": "stdout",
     "output_type": "stream",
     "text": [
      "0 simulations didn't produce a duplex.\n",
      "That's 0.0% of simulations\n",
      "mod: 1.739e+07\n",
      "exp: 4.818e+06\n"
     ]
    },
    {
     "name": "stderr",
     "output_type": "stream",
     "text": [
      "\r"
     ]
    }
   ],
   "source": [
    "M = Model(standard=True, space_dimensionality='3D', min_nucleation=1, stacking='nostacking')\n",
    "M.setparams(zipping=8.5e7, sliding=5e5)\n",
    "M.alpha = 0\n",
    "M.gamma = 0\n",
    "M.kappa = 1/3\n",
    "a1 = Strand(M, 'GTTCGGTCTA')\n",
    "b1 = Strand(M, 'ACACACACAC')\n",
    "a2 = Strand(M, 'GCTGTTCGGTCTAT')\n",
    "b2 = Strand(M, 'CACACACACACACA')\n",
    "OPT = Options(Nsim=2000)\n",
    "\n",
    "SA1 = Simulator(M, a1, a1.complementary(), OPT)\n",
    "\n",
    "_, ma1 = SA1.directsimulation()\n",
    "SA1.save_graph('.')\n",
    "print('mod:','{:.3e}'.format(ma1))\n",
    "print('exp:','{:.3e}'.format(1145949.98))\n",
    "print()\n",
    "SB1 = Simulator(M, b1, b1.complementary(), OPT)\n",
    "_, mb1 = SB1.directsimulation()\n",
    "print('mod:','{:.3e}'.format(mb1))\n",
    "print('exp:','{:.3e}'.format(4818114.36)) \n",
    "print()\n",
    "SA2 = Simulator(M, a2, a2.complementary(), OPT)\n",
    "_, ma2 = SA2.directsimulation()\n",
    "print('mod:','{:.3e}'.format(ma2))\n",
    "print('exp:','{:.3e}'.format(1042172.8))\n",
    "print()\n",
    "SB2 = Simulator(M, b2, b2.complementary(), OPT)\n",
    "_, mb2 = SB2.directsimulation()\n",
    "print('mod:','{:.3e}'.format(mb2))\n",
    "print('exp:','{:.3e}'.format(4818114.36))"
   ]
  },
  {
   "cell_type": "code",
   "execution_count": null,
   "metadata": {},
   "outputs": [
    {
     "name": "stdout",
     "output_type": "stream",
     "text": [
      "..((......+..))...... fwd: 2.983e+05 gm: 1.500e+05 dg: -1.907\n",
      "((........+...))..... fwd: 3.362e+05 gm: 1.606e+05 dg: -2.049\n",
      ".....((...+........)) fwd: 3.362e+05 gm: 1.606e+05 dg: -2.049\n",
      "......((..+......)).. fwd: 2.983e+05 gm: 1.500e+05 dg: -1.907\n"
     ]
    },
    {
     "name": "stderr",
     "output_type": "stream",
     "text": [
      "                                                                \r"
     ]
    },
    {
     "name": "stdout",
     "output_type": "stream",
     "text": [
      "228 simulations didn't produce a duplex.\n",
      "That's 11.4% of simulations\n",
      "mod: 9.026e+05\n",
      "exp: 1.146e+06\n",
      "\n",
      "((((((((..+)))))))).. fwd: 1.732e+09 gm: 2.123e+07 dg: -12.209\n",
      "((((((....+)))))).... fwd: 1.003e+08 gm: 4.167e+06 dg: -8.823\n",
      "((((......+))))...... fwd: 5.806e+06 gm: 8.182e+05 dg: -5.436\n",
      "((........+))........ fwd: 3.362e+05 gm: 1.606e+05 dg: -2.049\n",
      "........((+........)) fwd: 3.362e+05 gm: 1.606e+05 dg: -2.049\n",
      "......((((+......)))) fwd: 5.806e+06 gm: 8.182e+05 dg: -5.436\n",
      "....((((((+....)))))) fwd: 1.003e+08 gm: 4.167e+06 dg: -8.823\n",
      "..((((((((+..)))))))) fwd: 1.732e+09 gm: 2.123e+07 dg: -12.209\n"
     ]
    },
    {
     "name": "stderr",
     "output_type": "stream",
     "text": [
      "                                                                \r"
     ]
    },
    {
     "name": "stdout",
     "output_type": "stream",
     "text": [
      "44 simulations didn't produce a duplex.\n",
      "That's 2.2% of simulations\n",
      "mod: 2.201e+06\n",
      "exp: 4.818e+06\n",
      "\n",
      "..(((.....+...))).... fwd: 1.263e+06 gm: 3.423e+05 dg: -3.623\n",
      "((........+.....))... fwd: 3.400e+05 gm: 1.617e+05 dg: -2.062\n",
      "....((....+.))....... fwd: 3.362e+05 gm: 1.606e+05 dg: -2.049\n",
      "((((......+.))))..... fwd: 4.451e+06 gm: 7.029e+05 dg: -5.120\n",
      ".....((((.+......)))) fwd: 4.451e+06 gm: 7.029e+05 dg: -5.120\n",
      "...((.....+........)) fwd: 3.400e+05 gm: 1.617e+05 dg: -2.062\n",
      ".......((.+....)).... fwd: 3.362e+05 gm: 1.606e+05 dg: -2.049\n",
      "....(((...+.....))).. fwd: 1.263e+06 gm: 3.423e+05 dg: -3.623\n"
     ]
    },
    {
     "name": "stderr",
     "output_type": "stream",
     "text": [
      "                                                                \r"
     ]
    },
    {
     "name": "stdout",
     "output_type": "stream",
     "text": [
      "44 simulations didn't produce a duplex.\n",
      "That's 2.2% of simulations\n",
      "mod: 2.212e+06\n",
      "exp: 2.696e+06\n",
      "\n",
      ".....((.......+...))......... fwd: 2.131e+05 gm: 1.072e+05 dg: -1.907\n",
      "...((.........+....))........ fwd: 2.401e+05 gm: 1.147e+05 dg: -2.049\n",
      ".((...........+..)).......... fwd: 2.072e+05 gm: 1.055e+05 dg: -1.873\n",
      "..........((..+...........)). fwd: 2.072e+05 gm: 1.055e+05 dg: -1.873\n",
      "........((....+.........))... fwd: 2.401e+05 gm: 1.147e+05 dg: -2.049\n",
      ".........((...+.......))..... fwd: 2.131e+05 gm: 1.072e+05 dg: -1.907\n"
     ]
    },
    {
     "name": "stderr",
     "output_type": "stream",
     "text": [
      "                                                                \r"
     ]
    },
    {
     "name": "stdout",
     "output_type": "stream",
     "text": [
      "308 simulations didn't produce a duplex.\n",
      "That's 15.4% of simulations\n",
      "mod: 7.111e+05\n",
      "exp: 1.042e+06\n",
      "\n",
      ".....((.......+.....))....... fwd: 2.401e+05 gm: 1.147e+05 dg: -2.049\n",
      "...((.........+......))...... fwd: 2.428e+05 gm: 1.155e+05 dg: -2.062\n",
      "......(((((...+)))))......... fwd: 2.369e+07 gm: 1.582e+06 dg: -7.507\n",
      "(((...........+.......))).... fwd: 6.842e+05 gm: 2.087e+05 dg: -3.294\n",
      ".....((.......+..)).......... fwd: 2.401e+05 gm: 1.147e+05 dg: -2.049\n",
      ".((((.........+...))))....... fwd: 5.098e+06 gm: 6.576e+05 dg: -5.681\n",
      "......((......+))............ fwd: 2.428e+05 gm: 1.155e+05 dg: -2.062\n",
      ".((((.........+)))).......... fwd: 5.098e+06 gm: 6.576e+05 dg: -5.681\n",
      "..........((((+.........)))). fwd: 5.098e+06 gm: 6.576e+05 dg: -5.681\n",
      ".......((((...+.........)))). fwd: 5.098e+06 gm: 6.576e+05 dg: -5.681\n",
      "............((+......))...... fwd: 2.428e+05 gm: 1.155e+05 dg: -2.062\n",
      "..........((..+.......))..... fwd: 2.401e+05 gm: 1.147e+05 dg: -2.049\n",
      "....(((.......+...........))) fwd: 6.842e+05 gm: 2.087e+05 dg: -3.294\n",
      "......((......+.........))... fwd: 2.428e+05 gm: 1.155e+05 dg: -2.062\n",
      ".........(((((+...)))))...... fwd: 2.369e+07 gm: 1.582e+06 dg: -7.507\n",
      ".......((.....+.......))..... fwd: 2.401e+05 gm: 1.147e+05 dg: -2.049\n"
     ]
    },
    {
     "name": "stderr",
     "output_type": "stream",
     "text": [
      "                                                                \r"
     ]
    },
    {
     "name": "stdout",
     "output_type": "stream",
     "text": [
      "314 simulations didn't produce a duplex.\n",
      "That's 15.7% of simulations\n",
      "mod: 7.024e+05\n",
      "exp: 3.630e+06\n",
      "\n",
      "((((((((((((..+)))))))))))).. fwd: 3.730e+11 gm: 3.959e+08 dg: -18.996\n",
      "((((((((((....+)))))))))).... fwd: 2.160e+10 gm: 7.772e+07 dg: -15.610\n",
      "((((((((......+))))))))...... fwd: 1.251e+09 gm: 1.526e+07 dg: -12.223\n",
      "((((((........+))))))........ fwd: 7.242e+07 gm: 2.996e+06 dg: -8.836\n",
      "((((..........+)))).......... fwd: 4.193e+06 gm: 5.881e+05 dg: -5.449\n",
      "((............+))............ fwd: 2.428e+05 gm: 1.155e+05 dg: -2.062\n",
      "............((+............)) fwd: 2.428e+05 gm: 1.155e+05 dg: -2.062\n",
      "..........((((+..........)))) fwd: 4.193e+06 gm: 5.881e+05 dg: -5.449\n",
      "........((((((+........)))))) fwd: 7.242e+07 gm: 2.996e+06 dg: -8.836\n",
      "......((((((((+......)))))))) fwd: 1.251e+09 gm: 1.526e+07 dg: -12.223\n",
      "....((((((((((+....)))))))))) fwd: 2.160e+10 gm: 7.772e+07 dg: -15.610\n",
      "..((((((((((((+..)))))))))))) fwd: 3.730e+11 gm: 3.959e+08 dg: -18.996\n"
     ]
    },
    {
     "name": "stderr",
     "output_type": "stream",
     "text": [
      "                                                                "
     ]
    },
    {
     "name": "stdout",
     "output_type": "stream",
     "text": [
      "41 simulations didn't produce a duplex.\n",
      "That's 2.05% of simulations\n",
      "mod: 3.377e+06\n",
      "exp: 4.818e+06\n"
     ]
    },
    {
     "name": "stderr",
     "output_type": "stream",
     "text": [
      "\r"
     ]
    }
   ],
   "source": [
    "M = Model(standard=True, space_dimensionality='3D', min_nucleation=1)\n",
    "M.setparams(zipping=8.5e7, sliding=6e5)\n",
    "M.alpha = 0\n",
    "M.gamma = 0\n",
    "M.kappa = 1/3.5\n",
    "a1 = Strand(M, 'GTTCGGTCTA')\n",
    "b1 = Strand(M, 'ACACACACAC')\n",
    "n1 = Strand(M, 'CAACACAACC')\n",
    "a2 = Strand(M, 'GCTGTTCGGTCTAT')\n",
    "n2 = Strand(M, 'AACCAACACCACCA')\n",
    "b2 = Strand(M, 'CACACACACACACA')\n",
    "OPT = Options(Nsim=2000)\n",
    "\n",
    "SA1 = Simulator(M, a1, a1.complementary(), OPT)\n",
    "_, ma1 = SA1.directsimulation()\n",
    "print('mod:','{:.3e}'.format(ma1))\n",
    "print('exp:','{:.3e}'.format(1145949.98))\n",
    "print()\n",
    "SB1 = Simulator(M, b1, b1.complementary(), OPT)\n",
    "_, mb1 = SB1.directsimulation()\n",
    "print('mod:','{:.3e}'.format(mb1))\n",
    "print('exp:','{:.3e}'.format(4818114.36)) \n",
    "print()\n",
    "SN1 = Simulator(M, n1, n1.complementary(), OPT)\n",
    "_, mn1 = SB1.directsimulation()\n",
    "print('mod:','{:.3e}'.format(mn1))\n",
    "print('exp:','{:.3e}'.format(2.695608e+06)) \n",
    "print()\n",
    "SA2 = Simulator(M, a2, a2.complementary(), OPT)\n",
    "_, ma2 = SA2.directsimulation()\n",
    "print('mod:','{:.3e}'.format(ma2))\n",
    "print('exp:','{:.3e}'.format(1042172.8))\n",
    "print()\n",
    "SN2 = Simulator(M, n2, n2.complementary(), OPT)\n",
    "_, mn2 = SA2.directsimulation()\n",
    "print('mod:','{:.3e}'.format(mn2))\n",
    "print('exp:','{:.3e}'.format(3629903.36))\n",
    "print()\n",
    "SB2 = Simulator(M, b2, b2.complementary(), OPT)\n",
    "_, mb2 = SB2.directsimulation()\n",
    "print('mod:','{:.3e}'.format(mb2))\n",
    "print('exp:','{:.3e}'.format(4818114.36))"
   ]
  }
 ],
 "metadata": {
  "kernelspec": {
   "display_name": "hdna",
   "language": "python",
   "name": "python3"
  },
  "language_info": {
   "codemirror_mode": {
    "name": "ipython",
    "version": 3
   },
   "file_extension": ".py",
   "mimetype": "text/x-python",
   "name": "python",
   "nbconvert_exporter": "python",
   "pygments_lexer": "ipython3",
   "version": "3.10.9"
  },
  "orig_nbformat": 4,
  "vscode": {
   "interpreter": {
    "hash": "13f02c433cbffcd00bbcbbfeff349f4b7c28e9023d8fb9f65ab93bb104997abd"
   }
  }
 },
 "nbformat": 4,
 "nbformat_minor": 2
}
