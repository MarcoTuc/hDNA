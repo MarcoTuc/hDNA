{
 "cells": [
  {
   "cell_type": "code",
   "execution_count": 1,
   "metadata": {},
   "outputs": [],
   "source": [
    "%load_ext autoreload\n",
    "%autoreload 2"
   ]
  },
  {
   "cell_type": "code",
   "execution_count": 2,
   "metadata": {},
   "outputs": [],
   "source": [
    "import sys \n",
    "sys.path.append('..')\n",
    "import numpy as np \n",
    "import networkx as nx \n",
    "from hdna import * "
   ]
  },
  {
   "cell_type": "code",
   "execution_count": 153,
   "metadata": {},
   "outputs": [],
   "source": [
    "M = Model(standard=True, space_dimensionality='3D', min_nucleation=3)\n",
    "s1 = Strand(M, 'GTTCGGTCTA')#Strand.random(M, 10)\n",
    "s2 = s1.complementary()\n",
    "N = Kinetwork(M, s1, s2)\n",
    "OPT = Options(Nsim=50)\n",
    "S = Simulator(M, s1, s2, OPT)"
   ]
  },
  {
   "cell_type": "code",
   "execution_count": 150,
   "metadata": {},
   "outputs": [
    {
     "data": {
      "text/plain": [
       "2500000.0"
      ]
     },
     "execution_count": 150,
     "metadata": {},
     "output_type": "execute_result"
    }
   ],
   "source": [
    "zr = N.kinetics.zippingrate\n",
    "sh = N.kinetics.bulksteric()\n",
    "zr*sh"
   ]
  },
  {
   "cell_type": "code",
   "execution_count": 151,
   "metadata": {},
   "outputs": [
    {
     "data": {
      "text/plain": [
       "2500000.0"
      ]
     },
     "execution_count": 151,
     "metadata": {},
     "output_type": "execute_result"
    }
   ],
   "source": [
    "N.kinetics.geozipping"
   ]
  },
  {
   "cell_type": "code",
   "execution_count": 155,
   "metadata": {},
   "outputs": [
    {
     "name": "stderr",
     "output_type": "stream",
     "text": [
      "                                                          "
     ]
    },
    {
     "name": "stdout",
     "output_type": "stream",
     "text": [
      "0 simulations didn't produce a duplex.\n",
      "That's 0.0% of simulations\n"
     ]
    },
    {
     "name": "stderr",
     "output_type": "stream",
     "text": [
      "\r"
     ]
    },
    {
     "data": {
      "text/plain": [
       "([1.8592312370167864e-07,\n",
       "  1.3082264938097163e-07,\n",
       "  1.7127214342987262e-07,\n",
       "  1.1471798883739838e-07,\n",
       "  8.905735905461627e-08,\n",
       "  4.539623375625138e-08,\n",
       "  2.7959717760311495e-07,\n",
       "  1.1443050498580728e-07,\n",
       "  1.2344749854743606e-07,\n",
       "  1.3625948743405962e-07,\n",
       "  4.454821907407586e-08,\n",
       "  1.2850681385984425e-07,\n",
       "  1.4390247206835678e-07,\n",
       "  1.6372751342438924e-07,\n",
       "  8.041374905849535e-08,\n",
       "  1.408831882456553e-07,\n",
       "  3.8962955196517243e-07,\n",
       "  1.7435014259282132e-07,\n",
       "  1.5394505437282807e-07,\n",
       "  1.5654820064910508e-07,\n",
       "  1.1117856866198187e-07,\n",
       "  1.4434420781785276e-07,\n",
       "  1.1363076694077933e-07,\n",
       "  2.622571985302237e-07,\n",
       "  1.8598211155423765e-07,\n",
       "  7.794266600064765e-08,\n",
       "  8.363206075207396e-08,\n",
       "  7.905871379706368e-08,\n",
       "  1.9756514095372534e-07,\n",
       "  2.3520135881481961e-07,\n",
       "  1.1801684468360368e-07,\n",
       "  2.0036071313264072e-07,\n",
       "  1.479819517425691e-07,\n",
       "  1.3863402026707448e-07,\n",
       "  1.3608315181130892e-07,\n",
       "  5.4902225243093526e-08,\n",
       "  1.2699325220941332e-07,\n",
       "  1.0702336585889684e-07,\n",
       "  1.0477872904819506e-07,\n",
       "  1.8769578901831062e-07,\n",
       "  1.7753440377929777e-07,\n",
       "  1.1299221057479122e-07,\n",
       "  9.697748458277117e-08,\n",
       "  1.4418522192533206e-07,\n",
       "  1.6598425116676858e-07,\n",
       "  3.083012570181929e-08,\n",
       "  1.352962197128901e-07,\n",
       "  1.2325884950446372e-07,\n",
       "  2.4387513883423876e-07,\n",
       "  9.763016674713551e-08],\n",
       " 7033134.239005898)"
      ]
     },
     "execution_count": 155,
     "metadata": {},
     "output_type": "execute_result"
    }
   ],
   "source": [
    "S.directsimulation()"
   ]
  },
  {
   "cell_type": "code",
   "execution_count": 4,
   "metadata": {},
   "outputs": [],
   "source": [
    "from scipy.stats import expon"
   ]
  },
  {
   "cell_type": "code",
   "execution_count": 132,
   "metadata": {},
   "outputs": [
    {
     "name": "stdout",
     "output_type": "stream",
     "text": [
      "3.9204515471500907e-13\n"
     ]
    },
    {
     "data": {
      "text/plain": [
       "'1.556e-13'"
      ]
     },
     "execution_count": 132,
     "metadata": {},
     "output_type": "execute_result"
    }
   ],
   "source": [
    "print(1/N.kinetics.dlrate)\n",
    "'{:.3e}'.format(expon(scale=1/N.kinetics.dlrate).rvs())"
   ]
  },
  {
   "cell_type": "code",
   "execution_count": null,
   "metadata": {},
   "outputs": [
    {
     "data": {
      "text/plain": [
       "3.8258826898524275e-11"
      ]
     },
     "execution_count": 80,
     "metadata": {},
     "output_type": "execute_result"
    }
   ],
   "source": [
    "tau.rvs()"
   ]
  }
 ],
 "metadata": {
  "kernelspec": {
   "display_name": "hdna",
   "language": "python",
   "name": "python3"
  },
  "language_info": {
   "codemirror_mode": {
    "name": "ipython",
    "version": 3
   },
   "file_extension": ".py",
   "mimetype": "text/x-python",
   "name": "python",
   "nbconvert_exporter": "python",
   "pygments_lexer": "ipython3",
   "version": "3.10.9"
  },
  "orig_nbformat": 4,
  "vscode": {
   "interpreter": {
    "hash": "13f02c433cbffcd00bbcbbfeff349f4b7c28e9023d8fb9f65ab93bb104997abd"
   }
  }
 },
 "nbformat": 4,
 "nbformat_minor": 2
}
