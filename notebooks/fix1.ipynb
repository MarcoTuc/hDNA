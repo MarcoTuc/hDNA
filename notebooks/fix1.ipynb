{
 "cells": [
  {
   "cell_type": "code",
   "execution_count": 4,
   "metadata": {},
   "outputs": [],
   "source": [
    "%load_ext autoreload\n",
    "%autoreload 2"
   ]
  },
  {
   "cell_type": "code",
   "execution_count": 31,
   "metadata": {},
   "outputs": [],
   "source": [
    "import sys\n",
    "sys.path.append('..')\n",
    "\n",
    "import numpy as np\n",
    "\n",
    "from hdna import *"
   ]
  },
  {
   "cell_type": "code",
   "execution_count": 35,
   "metadata": {},
   "outputs": [],
   "source": [
    "def bulksteric(theta, phi):\n",
    "    return (np.power((theta/360),2))*(np.power((phi/360),2))"
   ]
  },
  {
   "cell_type": "code",
   "execution_count": 95,
   "metadata": {},
   "outputs": [
    {
     "name": "stdout",
     "output_type": "stream",
     "text": [
      "0.40787484806139596\n",
      "3.110e+09\n",
      "7.624e+09\n",
      "checkitpoly 1.0271382990917476e-06\n",
      "3.110e+09\n",
      "3.374e+05\n",
      "3.374e+05\n",
      "144\n",
      "576\n"
     ]
    }
   ],
   "source": [
    "mod = Model()\n",
    "mod.setgeometry(theta=120, phi=270)\n",
    "a = Strand(mod, 'GTTGACGGTCAT')\n",
    "kin = Kinetics(mod, a, a.complementary())\n",
    "print(kin.smoluchowski('vanilla')/kin.smoluchowski('ppi'))\n",
    "print(f\"{(kin.smoluchowski('vanilla')):.3e}\")\n",
    "print(f\"{(kin.smoluchowski('ppi')):.3e}\")\n",
    "\n",
    "print('checkitpoly',kin.pD1)\n",
    "\n",
    "print(f'{kin.collisionrate:.3e}')\n",
    "print(f'{((kin.collisionrate * bulksteric(90,180))  / kin.nucnorm):.3e}')\n",
    "print(f'{((kin.collisionrate * bulksteric(120,270)) / kin.hertelnorm):.3e}')\n",
    "\n",
    "print(kin.nucnorm)\n",
    "print(kin.hertelnorm)"
   ]
  },
  {
   "cell_type": "code",
   "execution_count": 22,
   "metadata": {},
   "outputs": [
    {
     "name": "stdout",
     "output_type": "stream",
     "text": [
      "0.0625\n",
      "0.015625\n",
      "4.0\n"
     ]
    }
   ],
   "source": [
    "a = bulksteric(120,270)\n",
    "b = bulksteric(90, 180)\n",
    "print(a)\n",
    "print(b)\n",
    "print(a/b)"
   ]
  },
  {
   "cell_type": "code",
   "execution_count": 93,
   "metadata": {},
   "outputs": [
    {
     "name": "stdout",
     "output_type": "stream",
     "text": [
      "10.0\n",
      "hertel:    400.0\n",
      "corrected: 100.0\n",
      "ratio:     4.0\n",
      "\n",
      "11.0\n",
      "hertel:    484.0\n",
      "corrected: 121.0\n",
      "ratio:     4.0\n",
      "\n",
      "12.0\n",
      "hertel:    576.0\n",
      "corrected: 144.0\n",
      "ratio:     4.0\n",
      "\n",
      "13.0\n",
      "hertel:    676.0\n",
      "corrected: 169.0\n",
      "ratio:     4.0\n",
      "\n",
      "14.0\n",
      "hertel:    784.0\n",
      "corrected: 196.0\n",
      "ratio:     4.0\n",
      "\n",
      "15.0\n",
      "hertel:    900.0\n",
      "corrected: 225.0\n",
      "ratio:     4.0\n",
      "\n",
      "16.0\n",
      "hertel:    1024.0\n",
      "corrected: 256.0\n",
      "ratio:     4.0\n",
      "\n",
      "17.0\n",
      "hertel:    1156.0\n",
      "corrected: 289.0\n",
      "ratio:     4.0\n",
      "\n",
      "18.0\n",
      "hertel:    1296.0\n",
      "corrected: 324.0\n",
      "ratio:     4.0\n",
      "\n",
      "19.0\n",
      "hertel:    1444.0\n",
      "corrected: 361.0\n",
      "ratio:     4.0\n",
      "\n",
      "20.0\n",
      "hertel:    1600.0\n",
      "corrected: 400.0\n",
      "ratio:     4.0\n",
      "\n"
     ]
    }
   ],
   "source": [
    "l = np.linspace(10,20,11)\n",
    "n = 1\n",
    "for len in l:\n",
    "    hertel = np.power(2*len-n+1, 2)\n",
    "    nucnor = (len-n+1)*(len-n+1)\n",
    "    print(len)\n",
    "    print('hertel:   ',hertel)\n",
    "    print('corrected:',nucnor)\n",
    "    print('ratio:    ',hertel/nucnor)\n",
    "    print()"
   ]
  },
  {
   "cell_type": "code",
   "execution_count": null,
   "metadata": {},
   "outputs": [],
   "source": []
  }
 ],
 "metadata": {
  "kernelspec": {
   "display_name": "hdna",
   "language": "python",
   "name": "python3"
  },
  "language_info": {
   "codemirror_mode": {
    "name": "ipython",
    "version": 3
   },
   "file_extension": ".py",
   "mimetype": "text/x-python",
   "name": "python",
   "nbconvert_exporter": "python",
   "pygments_lexer": "ipython3",
   "version": "3.10.9 (main, Jan 11 2023, 15:21:40) [GCC 11.2.0]"
  },
  "orig_nbformat": 4,
  "vscode": {
   "interpreter": {
    "hash": "13f02c433cbffcd00bbcbbfeff349f4b7c28e9023d8fb9f65ab93bb104997abd"
   }
  }
 },
 "nbformat": 4,
 "nbformat_minor": 2
}
