{
 "cells": [
  {
   "cell_type": "code",
   "execution_count": 104,
   "metadata": {},
   "outputs": [
    {
     "name": "stdout",
     "output_type": "stream",
     "text": [
      "The autoreload extension is already loaded. To reload it, use:\n",
      "  %reload_ext autoreload\n"
     ]
    }
   ],
   "source": [
    "%load_ext autoreload\n",
    "%autoreload 2"
   ]
  },
  {
   "cell_type": "code",
   "execution_count": 105,
   "metadata": {},
   "outputs": [],
   "source": [
    "import sys \n",
    "sys.path.append('..')\n",
    "import numpy as np \n",
    "from hdna import * "
   ]
  },
  {
   "cell_type": "code",
   "execution_count": 106,
   "metadata": {},
   "outputs": [],
   "source": [
    "M = Model(standard=True)\n",
    "s1 = Strand.random(M, 10)\n",
    "s2 = s1.complementary()\n",
    "K = Kinetics(M, s1, s2)"
   ]
  },
  {
   "cell_type": "code",
   "execution_count": 107,
   "metadata": {},
   "outputs": [],
   "source": [
    "dtsd = K.tdiff_saffdelb()"
   ]
  },
  {
   "cell_type": "code",
   "execution_count": 108,
   "metadata": {},
   "outputs": [],
   "source": [
    "Ksano = K.ksphere_sano()\n",
    "Kchew = K.kc_chew2019(1)\n",
    "Knoy  = K.kc_noyes(1)\n",
    "Kthor = K.kc_torney(1)\n"
   ]
  },
  {
   "cell_type": "code",
   "execution_count": 109,
   "metadata": {},
   "outputs": [
    {
     "name": "stdout",
     "output_type": "stream",
     "text": [
      "1.404e+14\n",
      "5.562e+13\n",
      "6.237e+13\n",
      "2.064e+14\n"
     ]
    }
   ],
   "source": [
    "for e in [Ksano, Kchew, Knoy, Kthor]:\n",
    "    print('{:.3e}'.format(e))"
   ]
  },
  {
   "cell_type": "code",
   "execution_count": 110,
   "metadata": {},
   "outputs": [],
   "source": [
    "MOD3 = Model(\n",
    "    space_dimensionality='3D',\n",
    "    stacking='nostacking',\n",
    "    min_nucleation=1)\n",
    "MOD3.setgeometry(theta=120, phi = 270)\n",
    "\n",
    "K = Kinetics(MOD3, s1, s2)\n",
    "# S = Simulator(MOD, s1, s2)\n",
    "\n",
    "'{:.3e}'.format(K.georate)\n",
    "\n",
    "kf3d = K.georate"
   ]
  },
  {
   "cell_type": "code",
   "execution_count": 111,
   "metadata": {},
   "outputs": [],
   "source": [
    "MOD2 = Model(\n",
    "    space_dimensionality='2D',\n",
    "    stacking='nostacking',\n",
    "    min_nucleation=1)\n",
    "MOD2.setgeometry(theta=120, phi = 270)\n",
    "\n",
    "K2D = Kinetics(MOD2, s1, s2)\n",
    "K2D.set_zippingrate(2e7)\n",
    "K2D.set_slidingrate(2e7)\n",
    "\n",
    "'{:.3e}'.format(K2D.georate)\n",
    "\n",
    "kf2d = K2D.georate"
   ]
  },
  {
   "cell_type": "code",
   "execution_count": 112,
   "metadata": {},
   "outputs": [
    {
     "name": "stdout",
     "output_type": "stream",
     "text": [
      "476502006.7639831\n",
      "15596209239512.252\n"
     ]
    }
   ],
   "source": [
    "print(kf3d)\n",
    "print(kf2d)"
   ]
  },
  {
   "cell_type": "code",
   "execution_count": 113,
   "metadata": {},
   "outputs": [],
   "source": [
    "DG23 = - CONST.R * MOD.kelvin * np.log(kf3d/kf2d)"
   ]
  },
  {
   "cell_type": "code",
   "execution_count": 114,
   "metadata": {},
   "outputs": [
    {
     "data": {
      "text/plain": [
       "6.179536810478162"
      ]
     },
     "execution_count": 114,
     "metadata": {},
     "output_type": "execute_result"
    }
   ],
   "source": [
    "DG23"
   ]
  },
  {
   "cell_type": "code",
   "execution_count": 126,
   "metadata": {},
   "outputs": [
    {
     "name": "stdout",
     "output_type": "stream",
     "text": [
      "1.944e+07\n",
      "2.913e+13\n",
      "8.351e+11\n",
      "2.000e+07\n"
     ]
    }
   ],
   "source": [
    "k1, k2 = K2D.kawasaki('on_nucleation', 0, -3.48)\n",
    "k3     = 2e7\n",
    "k1     = k1 / 10\n",
    "\n",
    "keffac = (k1 * k3) / (k1 + k2 + k3)\n",
    "print('{:.3e}'.format(keffac))\n",
    "print('{:.3e}'.format(k1))\n",
    "print('{:.3e}'.format(k2))\n",
    "print('{:.3e}'.format(k3))"
   ]
  }
 ],
 "metadata": {
  "kernelspec": {
   "display_name": "hdna",
   "language": "python",
   "name": "python3"
  },
  "language_info": {
   "codemirror_mode": {
    "name": "ipython",
    "version": 3
   },
   "file_extension": ".py",
   "mimetype": "text/x-python",
   "name": "python",
   "nbconvert_exporter": "python",
   "pygments_lexer": "ipython3",
   "version": "3.10.9"
  },
  "orig_nbformat": 4,
  "vscode": {
   "interpreter": {
    "hash": "13f02c433cbffcd00bbcbbfeff349f4b7c28e9023d8fb9f65ab93bb104997abd"
   }
  }
 },
 "nbformat": 4,
 "nbformat_minor": 2
}
