{
 "cells": [
  {
   "cell_type": "code",
   "execution_count": 1,
   "metadata": {},
   "outputs": [],
   "source": [
    "%load_ext autoreload\n",
    "%autoreload 2"
   ]
  },
  {
   "cell_type": "code",
   "execution_count": 3,
   "metadata": {},
   "outputs": [],
   "source": [
    "import sys\n",
    "sys.path.append('..')\n",
    "\n",
    "import numpy as np\n",
    "\n",
    "from hdna import *"
   ]
  },
  {
   "cell_type": "code",
   "execution_count": 70,
   "metadata": {},
   "outputs": [],
   "source": [
    "M = Model(standard=True)\n",
    "M.setgeometry(theta=90, phi=180)\n",
    "A = Strand.random(M, 10)\n",
    "B = A.complementary(bottom='3')\n",
    "K = Kinetics(M, A, B)"
   ]
  },
  {
   "cell_type": "code",
   "execution_count": 71,
   "metadata": {},
   "outputs": [
    {
     "name": "stdout",
     "output_type": "stream",
     "text": [
      ".((.......+.....))... 4.972e+07 0.000e+00 -1.907\n",
      "((........+...))..... 1.203e+08 0.000e+00 -2.957\n",
      "...((.....+))........ 4.972e+07 0.000e+00 -1.907\n",
      ".((.......+))........ 4.972e+07 0.000e+00 -1.907\n",
      "........((+.......)). 4.972e+07 0.000e+00 -1.907\n",
      ".....((...+........)) 1.203e+08 0.000e+00 -2.957\n",
      "........((+.....))... 4.972e+07 0.000e+00 -1.907\n",
      "...((.....+.......)). 4.972e+07 0.000e+00 -1.907\n"
     ]
    }
   ],
   "source": [
    "N = Kinetwork(M, A, B)    "
   ]
  },
  {
   "cell_type": "code",
   "execution_count": 76,
   "metadata": {},
   "outputs": [],
   "source": [
    "nodz = list(N.filternodes('state', lambda x: x == 'on_nucleation', N.DG).nodes())\n",
    "\n",
    "objs = [N.DG.nodes[node]['obj'] for node in nodz]"
   ]
  },
  {
   "cell_type": "code",
   "execution_count": 80,
   "metadata": {},
   "outputs": [
    {
     "name": "stdout",
     "output_type": "stream",
     "text": [
      "(.........+.........)\n",
      ".(........+........).\n",
      "..(.......+.......)..\n",
      "...(......+......)...\n",
      "....(.....+.....)....\n",
      ".....(....+....).....\n",
      "......(...+...)......\n",
      ".......(..+..).......\n",
      "........(.+.)........\n",
      ".........(+).........\n"
     ]
    }
   ],
   "source": [
    "for ob in objs:\n",
    "    print(ob.structure)"
   ]
  },
  {
   "cell_type": "code",
   "execution_count": 86,
   "metadata": {},
   "outputs": [],
   "source": [
    "def get_ix(string, char):\n",
    "    indices = []\n",
    "    for i, e in enumerate(list(string)):\n",
    "        if e == char:\n",
    "            indices.append(i)\n",
    "    return indices "
   ]
  },
  {
   "cell_type": "code",
   "execution_count": 131,
   "metadata": {},
   "outputs": [
    {
     "name": "stdout",
     "output_type": "stream",
     "text": [
      "(.........+.........)\n",
      "0\n"
     ]
    },
    {
     "data": {
      "text/plain": [
       "True"
      ]
     },
     "execution_count": 131,
     "metadata": {},
     "output_type": "execute_result"
    }
   ],
   "source": [
    "on = 0\n",
    "print(objs[on].structure)\n",
    "l = objs[on].structure.split('+')[0]\n",
    "r = objs[on].structure.split('+')[1][::-1]\n",
    "ixl = get_ix(l,'(')[0]\n",
    "ixr = get_ix(r,')')[0]\n",
    "\n",
    "print(objs[on].s1.sdist[ixl])\n",
    "objs[on].s1.sdist[ixl] == objs[on].s1.sdist[ixr]\n"
   ]
  },
  {
   "cell_type": "code",
   "execution_count": null,
   "metadata": {},
   "outputs": [
    {
     "data": {
      "text/plain": [
       "7.0"
      ]
     },
     "execution_count": 4,
     "metadata": {},
     "output_type": "execute_result"
    }
   ],
   "source": [
    "np.ceil(2*SXGEO.PERSISTENCE/SXGEO.MONODIST)"
   ]
  },
  {
   "cell_type": "code",
   "execution_count": null,
   "metadata": {},
   "outputs": [
    {
     "name": "stdout",
     "output_type": "stream",
     "text": [
      "7.198e+14\n"
     ]
    }
   ],
   "source": [
    "print(f'{K.ksphere_sano():.3e}')"
   ]
  },
  {
   "cell_type": "code",
   "execution_count": null,
   "metadata": {},
   "outputs": [
    {
     "name": "stdout",
     "output_type": "stream",
     "text": [
      "6.385e+14\n",
      "6.024e+14\n",
      "\n",
      "1e-07\n",
      "2.1376996982738245e-07\n"
     ]
    }
   ],
   "source": [
    "bottomheignt = 2*SXGEO.PERSISTENCE\n",
    "topgyradius  = K.gyradiuses(N=4)\n",
    "kc = K.ksphere_sano(a=topgyradius, badd=(bottomheignt))\n",
    "print(f'{kc:.3e}')\n",
    "kc = K.ksphere_sano(SXGEO.CY_RADIUS)\n",
    "print(f'{kc:.3e}')\n",
    "print()\n",
    "print(SXGEO.CY_RADIUS)\n",
    "print(K.gr1)"
   ]
  }
 ],
 "metadata": {
  "kernelspec": {
   "display_name": "hdna",
   "language": "python",
   "name": "python3"
  },
  "language_info": {
   "codemirror_mode": {
    "name": "ipython",
    "version": 3
   },
   "file_extension": ".py",
   "mimetype": "text/x-python",
   "name": "python",
   "nbconvert_exporter": "python",
   "pygments_lexer": "ipython3",
   "version": "3.10.9 (main, Jan 11 2023, 15:21:40) [GCC 11.2.0]"
  },
  "orig_nbformat": 4,
  "vscode": {
   "interpreter": {
    "hash": "13f02c433cbffcd00bbcbbfeff349f4b7c28e9023d8fb9f65ab93bb104997abd"
   }
  }
 },
 "nbformat": 4,
 "nbformat_minor": 2
}
