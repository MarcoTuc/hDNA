{
 "cells": [
  {
   "cell_type": "code",
   "execution_count": 2,
   "metadata": {},
   "outputs": [],
   "source": [
    "%load_ext autoreload\n",
    "%autoreload 2"
   ]
  },
  {
   "cell_type": "code",
   "execution_count": 3,
   "metadata": {},
   "outputs": [
    {
     "name": "stdout",
     "output_type": "stream",
     "text": [
      "ì..ìì...................\n",
      "...................ì..ìì\n",
      "...................ì..ìì\n",
      "wall\n",
      "..................ì..ìì.\n",
      ".................ì..ìì..\n",
      "................ì..ìì...\n",
      "...............ì..ìì....\n",
      "..............ì..ìì.....\n",
      ".............ì..ìì......\n",
      "............ì..ìì.......\n",
      "...........ì..ìì........\n",
      "..........ì..ìì.........\n",
      ".........ì..ìì..........\n",
      "........ì..ìì...........\n",
      ".......ì..ìì............\n",
      "......ì..ìì.............\n",
      ".....ì..ìì..............\n",
      "....ì..ìì...............\n",
      "...ì..ìì................\n",
      "..ì..ìì.................\n",
      ".ì..ìì..................\n",
      "ì..ìì...................\n",
      "None 19\n",
      "register 19\n",
      "ì..ìì...................+ìì..ì...................\n"
     ]
    }
   ],
   "source": [
    "from itertools import cycle \n",
    "a = 'ì..ìì...................'\n",
    "b = '...................ì..ìì'\n",
    "print(a)\n",
    "print(b)\n",
    "\n",
    "\n",
    "\n",
    "def shift(s, d):\n",
    "    if d == +1:\n",
    "        if s[-1] == 'ì':\n",
    "            return s\n",
    "        else:\n",
    "            shf = s[len(s)-1:] + s[:len(s)-1]\n",
    "            return shf\n",
    "    if d == -1:\n",
    "        if s[0] == 'ì':\n",
    "            return s\n",
    "        else:\n",
    "            shf = s[1:] + s[:1] \n",
    "            return shf\n",
    "il = 0\n",
    "ir = 0\n",
    "dl = None\n",
    "dr = None\n",
    "bb1 = b\n",
    "bb2 = b\n",
    "while bb1 != a:\n",
    "    il += 1\n",
    "    nbb1 = shift(bb1, 1)\n",
    "    print(nbb1)\n",
    "    if nbb1 == a: \n",
    "        dl = il\n",
    "        break\n",
    "    if bb1 == nbb1: \n",
    "        print('wall')\n",
    "        break\n",
    "    else: bb1 = nbb1\n",
    "     \n",
    "while bb2 != a:\n",
    "    ir += 1\n",
    "    nbb2 = shift(bb2, -1)\n",
    "    print(nbb2)\n",
    "    if nbb2 == a:\n",
    "        dr = ir \n",
    "        break\n",
    "    if bb2 == nbb2: \n",
    "        print('wall')\n",
    "        break\n",
    "    else: bb2 = nbb2\n",
    "    \n",
    "print(dl, dr)\n",
    "\n",
    "dist = dl if dl != None else dr \n",
    "\n",
    "print('register', dist)\n",
    "print(a+'+'+b[::-1])"
   ]
  },
  {
   "cell_type": "code",
   "execution_count": 4,
   "metadata": {},
   "outputs": [],
   "source": [
    "import sys\n",
    "sys.path.append('..')\n",
    "\n",
    "import numpy as np\n",
    "\n",
    "from hdna import *"
   ]
  },
  {
   "cell_type": "code",
   "execution_count": 5,
   "metadata": {},
   "outputs": [
    {
     "data": {
      "text/plain": [
       "0"
      ]
     },
     "execution_count": 5,
     "metadata": {},
     "output_type": "execute_result"
    }
   ],
   "source": [
    "stru = Structure('(((((((((+)))))))))')\n",
    "stru.register"
   ]
  },
  {
   "cell_type": "code",
   "execution_count": 6,
   "metadata": {},
   "outputs": [],
   "source": [
    "M = Model(standard=True)\n",
    "M.setgeometry(theta=90, phi=180)\n",
    "A = Strand(M, 'ACACACACACAC')\n",
    "B = A.complementary()\n",
    "K = Kinetics(M, A, B)"
   ]
  },
  {
   "cell_type": "code",
   "execution_count": 32,
   "metadata": {},
   "outputs": [
    {
     "name": "stdout",
     "output_type": "stream",
     "text": [
      "((((((((((..+)))))))))).. --> ((((((((((((+)))))))))))) inchworming duplex 2\n",
      "((((((((....+)))))))).... --> ((((((((((((+)))))))))))) inchworming duplex 4\n",
      "((((((......+))))))...... --> ((((((((((((+)))))))))))) inchworming duplex 6\n",
      "((((........+))))........ --> ((((((((((((+)))))))))))) inchworming duplex 8\n",
      "((..........+)).......... --> ((((((((((((+)))))))))))) inchworming duplex 10\n",
      "..........((+..........)) --> ((((((((((((+)))))))))))) inchworming duplex 10\n",
      "........((((+........)))) --> ((((((((((((+)))))))))))) inchworming duplex 8\n",
      "......((((((+......)))))) --> ((((((((((((+)))))))))))) inchworming duplex 6\n",
      "....((((((((+....)))))))) --> ((((((((((((+)))))))))))) inchworming duplex 4\n",
      "..((((((((((+..)))))))))) --> ((((((((((((+)))))))))))) inchworming duplex 2\n",
      "((((((((((..+)))))))))).. --> ((((((((....+)))))))).... inchworming 2\n",
      "((((((((((..+)))))))))).. --> ((((((......+))))))...... inchworming 4\n",
      "((((((((((..+)))))))))).. --> ((((........+))))........ inchworming 6\n",
      "((((((((((..+)))))))))).. --> ((..........+)).......... inchworming 8\n",
      "..........((+..........)) --> ((((((((((..+)))))))))).. pseudoknotting back 8\n",
      "........((((+........)))) --> ((((((((((..+)))))))))).. pseudoknotting back 8\n",
      "((((((((....+)))))))).... --> ((((((......+))))))...... inchworming 2\n",
      "((((((((....+)))))))).... --> ((((........+))))........ inchworming 4\n",
      "((((((((....+)))))))).... --> ((..........+)).......... inchworming 6\n",
      "..........((+..........)) --> ((((((((....+)))))))).... pseudoknotting back 6\n",
      "........((((+........)))) --> ((((((((....+)))))))).... pseudoknotting back 6\n",
      "((((((......+))))))...... --> ((((........+))))........ inchworming 2\n",
      "((((((......+))))))...... --> ((..........+)).......... inchworming 4\n",
      "..........((+..........)) --> ((((((......+))))))...... pseudoknotting back 4\n",
      "........((((+........)))) --> ((((((......+))))))...... pseudoknotting back 4\n",
      "((((........+))))........ --> ((..........+)).......... inchworming 2\n",
      "..........((+..........)) --> ((((........+))))........ pseudoknotting back 2\n",
      "((((........+))))........ --> ........((((+........)))) pseudoknotting 2\n",
      "........((((+........)))) --> ((((........+))))........ pseudoknotting back 2\n",
      "((((........+))))........ --> ......((((((+......)))))) pseudoknotting 2\n",
      "((((........+))))........ --> ....((((((((+....)))))))) pseudoknotting 2\n",
      "((((........+))))........ --> ..((((((((((+..)))))))))) pseudoknotting 2\n",
      "((..........+)).......... --> ..........((+..........)) pseudoknotting 2\n",
      "..........((+..........)) --> ((..........+)).......... pseudoknotting back 2\n",
      "((..........+)).......... --> ........((((+........)))) pseudoknotting 2\n",
      "((..........+)).......... --> ......((((((+......)))))) pseudoknotting 2\n",
      "((..........+)).......... --> ....((((((((+....)))))))) pseudoknotting 2\n",
      "((..........+)).......... --> ..((((((((((+..)))))))))) pseudoknotting 2\n",
      "..........((+..........)) --> ........((((+........)))) inchworming 2\n",
      "..........((+..........)) --> ......((((((+......)))))) inchworming 4\n",
      "..........((+..........)) --> ....((((((((+....)))))))) inchworming 6\n",
      "..........((+..........)) --> ..((((((((((+..)))))))))) inchworming 8\n",
      "........((((+........)))) --> ......((((((+......)))))) inchworming 2\n",
      "........((((+........)))) --> ....((((((((+....)))))))) inchworming 4\n",
      "........((((+........)))) --> ..((((((((((+..)))))))))) inchworming 6\n",
      "......((((((+......)))))) --> ....((((((((+....)))))))) inchworming 2\n",
      "......((((((+......)))))) --> ..((((((((((+..)))))))))) inchworming 4\n",
      "....((((((((+....)))))))) --> ..((((((((((+..)))))))))) inchworming 2\n"
     ]
    }
   ],
   "source": [
    "N = Kinetwork(M, A, B)    \n",
    "N.save_graph('.')"
   ]
  },
  {
   "cell_type": "code",
   "execution_count": 8,
   "metadata": {},
   "outputs": [
    {
     "name": "stdout",
     "output_type": "stream",
     "text": [
      "((((((((((((+)))))))))))) ((((((((((..+)))))))))).. inchworming duplex 2\n",
      "((((((((((((+)))))))))))) ((((((((....+)))))))).... inchworming duplex 4\n",
      "((((((((((((+)))))))))))) ((((((......+))))))...... inchworming duplex 6\n",
      "((((((((((((+)))))))))))) ((((........+))))........ inchworming duplex 8\n",
      "((((((((((((+)))))))))))) ((..........+)).......... inchworming duplex 10\n",
      "((((((((((((+)))))))))))) ..........((+..........)) inchworming duplex 10\n",
      "((((((((((((+)))))))))))) ........((((+........)))) inchworming duplex 8\n",
      "((((((((((((+)))))))))))) ......((((((+......)))))) inchworming duplex 6\n",
      "((((((((((((+)))))))))))) ....((((((((+....)))))))) inchworming duplex 4\n",
      "((((((((((((+)))))))))))) ..((((((((((+..)))))))))) inchworming duplex 2\n",
      "((((((((((..+)))))))))).. ((((((((....+)))))))).... inchworming 2\n",
      "((((((((((..+)))))))))).. ((((((......+))))))...... inchworming 4\n",
      "((((((((((..+)))))))))).. ((((........+))))........ inchworming 6\n",
      "((((((((((..+)))))))))).. ((..........+)).......... inchworming 8\n",
      "((((((((....+)))))))).... ((((((......+))))))...... inchworming 2\n",
      "((((((((....+)))))))).... ((((........+))))........ inchworming 4\n",
      "((((((((....+)))))))).... ((..........+)).......... inchworming 6\n",
      "((((((......+))))))...... ((((........+))))........ inchworming 2\n",
      "((((((......+))))))...... ((..........+)).......... inchworming 4\n",
      "((((........+))))........ ((..........+)).......... inchworming 2\n",
      "..........((+..........)) ........((((+........)))) inchworming 2\n",
      "..........((+..........)) ......((((((+......)))))) inchworming 4\n",
      "..........((+..........)) ....((((((((+....)))))))) inchworming 6\n",
      "..........((+..........)) ..((((((((((+..)))))))))) inchworming 8\n",
      "........((((+........)))) ......((((((+......)))))) inchworming 2\n",
      "........((((+........)))) ....((((((((+....)))))))) inchworming 4\n",
      "........((((+........)))) ..((((((((((+..)))))))))) inchworming 6\n",
      "......((((((+......)))))) ....((((((((+....)))))))) inchworming 2\n",
      "......((((((+......)))))) ..((((((((((+..)))))))))) inchworming 4\n",
      "....((((((((+....)))))))) ..((((((((((+..)))))))))) inchworming 2\n"
     ]
    }
   ],
   "source": [
    "N.connect_slidings()"
   ]
  },
  {
   "cell_type": "code",
   "execution_count": 9,
   "metadata": {},
   "outputs": [],
   "source": [
    "nodz = list(N.filternodes('state', lambda x: x == 'on_nucleation', N.DG).nodes())\n",
    "\n",
    "objs = [N.DG.nodes[node]['obj'] for node in nodz]"
   ]
  },
  {
   "cell_type": "code",
   "execution_count": 10,
   "metadata": {},
   "outputs": [
    {
     "name": "stdout",
     "output_type": "stream",
     "text": [
      "(...........+...........)\n",
      ".(..........+..........).\n",
      "..(.........+.........)..\n",
      "...(........+........)...\n",
      "....(.......+.......)....\n",
      ".....(......+......).....\n",
      "......(.....+.....)......\n",
      ".......(....+....).......\n",
      "........(...+...)........\n",
      ".........(..+..).........\n",
      "..........(.+.)..........\n",
      "...........(+)...........\n"
     ]
    }
   ],
   "source": [
    "for ob in objs:\n",
    "    print(ob.structure)"
   ]
  },
  {
   "cell_type": "code",
   "execution_count": 11,
   "metadata": {},
   "outputs": [],
   "source": [
    "def get_ix(string, char):\n",
    "    indices = []\n",
    "    for i, e in enumerate(list(string)):\n",
    "        if e == char:\n",
    "            indices.append(i)\n",
    "    return indices "
   ]
  },
  {
   "cell_type": "code",
   "execution_count": 12,
   "metadata": {},
   "outputs": [
    {
     "name": "stdout",
     "output_type": "stream",
     "text": [
      "(...........+...........)\n",
      "0\n"
     ]
    },
    {
     "data": {
      "text/plain": [
       "True"
      ]
     },
     "execution_count": 12,
     "metadata": {},
     "output_type": "execute_result"
    }
   ],
   "source": [
    "on = 0\n",
    "print(objs[on].structure)\n",
    "l = objs[on].structure.split('+')[0]\n",
    "r = objs[on].structure.split('+')[1][::-1]\n",
    "ixl = get_ix(l,'(')[0]\n",
    "ixr = get_ix(r,')')[0]\n",
    "\n",
    "print(objs[on].s1.sdist[ixl])\n",
    "objs[on].s1.sdist[ixl] == objs[on].s1.sdist[ixr]\n"
   ]
  },
  {
   "cell_type": "code",
   "execution_count": 13,
   "metadata": {},
   "outputs": [
    {
     "data": {
      "text/plain": [
       "7.0"
      ]
     },
     "execution_count": 13,
     "metadata": {},
     "output_type": "execute_result"
    }
   ],
   "source": [
    "np.ceil(2*SXGEO.PERSISTENCE/SXGEO.MONODIST)"
   ]
  },
  {
   "cell_type": "code",
   "execution_count": 14,
   "metadata": {},
   "outputs": [
    {
     "name": "stdout",
     "output_type": "stream",
     "text": [
      "-6.350e+14\n"
     ]
    }
   ],
   "source": [
    "print(f'{K.ksphere_sano():.3e}')"
   ]
  },
  {
   "cell_type": "code",
   "execution_count": 15,
   "metadata": {},
   "outputs": [
    {
     "name": "stdout",
     "output_type": "stream",
     "text": [
      "-5.373e+14\n",
      "-5.091e+14\n",
      "\n",
      "1e-07\n",
      "2.3417326918331218e-07\n"
     ]
    }
   ],
   "source": [
    "bottomheignt = 2*SXGEO.PERSISTENCE\n",
    "topgyradius  = K.gyradiuses(N=4)\n",
    "kc = K.ksphere_sano(a=topgyradius, badd=(bottomheignt))\n",
    "print(f'{kc:.3e}')\n",
    "kc = K.ksphere_sano(SXGEO.CY_RADIUS)\n",
    "print(f'{kc:.3e}')\n",
    "print()\n",
    "print(SXGEO.CY_RADIUS)\n",
    "print(K.gr1)"
   ]
  }
 ],
 "metadata": {
  "kernelspec": {
   "display_name": "hdna",
   "language": "python",
   "name": "python3"
  },
  "language_info": {
   "codemirror_mode": {
    "name": "ipython",
    "version": 3
   },
   "file_extension": ".py",
   "mimetype": "text/x-python",
   "name": "python",
   "nbconvert_exporter": "python",
   "pygments_lexer": "ipython3",
   "version": "3.10.9"
  },
  "orig_nbformat": 4,
  "vscode": {
   "interpreter": {
    "hash": "13f02c433cbffcd00bbcbbfeff349f4b7c28e9023d8fb9f65ab93bb104997abd"
   }
  }
 },
 "nbformat": 4,
 "nbformat_minor": 2
}
