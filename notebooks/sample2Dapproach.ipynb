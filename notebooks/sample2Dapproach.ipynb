{
 "cells": [
  {
   "cell_type": "code",
   "execution_count": 1,
   "metadata": {},
   "outputs": [],
   "source": [
    "%load_ext autoreload\n",
    "%autoreload 2"
   ]
  },
  {
   "cell_type": "code",
   "execution_count": 2,
   "metadata": {},
   "outputs": [
    {
     "name": "stdout",
     "output_type": "stream",
     "text": [
      "ì..ìì...................\n",
      "...................ì..ìì\n",
      "...................ì..ìì\n",
      "wall\n",
      "..................ì..ìì.\n",
      ".................ì..ìì..\n",
      "................ì..ìì...\n",
      "...............ì..ìì....\n",
      "..............ì..ìì.....\n",
      ".............ì..ìì......\n",
      "............ì..ìì.......\n",
      "...........ì..ìì........\n",
      "..........ì..ìì.........\n",
      ".........ì..ìì..........\n",
      "........ì..ìì...........\n",
      ".......ì..ìì............\n",
      "......ì..ìì.............\n",
      ".....ì..ìì..............\n",
      "....ì..ìì...............\n",
      "...ì..ìì................\n",
      "..ì..ìì.................\n",
      ".ì..ìì..................\n",
      "ì..ìì...................\n",
      "None 19\n",
      "register 19\n",
      "ì..ìì...................+ìì..ì...................\n"
     ]
    }
   ],
   "source": [
    "from itertools import cycle \n",
    "a = 'ì..ìì...................'\n",
    "b = '...................ì..ìì'\n",
    "print(a)\n",
    "print(b)\n",
    "\n",
    "\n",
    "\n",
    "def shift(s, d):\n",
    "    if d == +1:\n",
    "        if s[-1] == 'ì':\n",
    "            return s\n",
    "        else:\n",
    "            shf = s[len(s)-1:] + s[:len(s)-1]\n",
    "            return shf\n",
    "    if d == -1:\n",
    "        if s[0] == 'ì':\n",
    "            return s\n",
    "        else:\n",
    "            shf = s[1:] + s[:1] \n",
    "            return shf\n",
    "il = 0\n",
    "ir = 0\n",
    "dl = None\n",
    "dr = None\n",
    "bb1 = b\n",
    "bb2 = b\n",
    "while bb1 != a:\n",
    "    il += 1\n",
    "    nbb1 = shift(bb1, 1)\n",
    "    print(nbb1)\n",
    "    if nbb1 == a: \n",
    "        dl = il\n",
    "        break\n",
    "    if bb1 == nbb1: \n",
    "        print('wall')\n",
    "        break\n",
    "    else: bb1 = nbb1\n",
    "     \n",
    "while bb2 != a:\n",
    "    ir += 1\n",
    "    nbb2 = shift(bb2, -1)\n",
    "    print(nbb2)\n",
    "    if nbb2 == a:\n",
    "        dr = ir \n",
    "        break\n",
    "    if bb2 == nbb2: \n",
    "        print('wall')\n",
    "        break\n",
    "    else: bb2 = nbb2\n",
    "    \n",
    "print(dl, dr)\n",
    "\n",
    "dist = dl if dl != None else dr \n",
    "\n",
    "print('register', dist)\n",
    "print(a+'+'+b[::-1])"
   ]
  },
  {
   "cell_type": "code",
   "execution_count": 3,
   "metadata": {},
   "outputs": [],
   "source": [
    "import sys\n",
    "sys.path.append('..')\n",
    "\n",
    "import numpy as np\n",
    "\n",
    "from hdna import *"
   ]
  },
  {
   "cell_type": "code",
   "execution_count": 4,
   "metadata": {},
   "outputs": [
    {
     "name": "stdout",
     "output_type": "stream",
     "text": [
      "-2\n"
     ]
    },
    {
     "data": {
      "text/plain": [
       "False"
      ]
     },
     "execution_count": 4,
     "metadata": {},
     "output_type": "execute_result"
    }
   ],
   "source": [
    "stru = Structure('...(..(((.(....+......).)))..).')\n",
    "print(stru.register)\n",
    "stru.tails_l,stru.tails_r,stru.bulk\n",
    "\n",
    "True ^ True"
   ]
  },
  {
   "cell_type": "code",
   "execution_count": 5,
   "metadata": {},
   "outputs": [
    {
     "name": "stdout",
     "output_type": "stream",
     "text": [
      "True\n",
      "True\n",
      "True\n"
     ]
    }
   ],
   "source": [
    "struta = Structure(stru.table, fromtable=True)\n",
    "print(struta.str == stru.str)\n",
    "print(struta.left == stru.left)\n",
    "print(struta.right == stru.right)\n"
   ]
  },
  {
   "cell_type": "code",
   "execution_count": 43,
   "metadata": {},
   "outputs": [
    {
     "name": "stdout",
     "output_type": "stream",
     "text": [
      "............((......+....)).............. --> ((((((((((((((((((((+)))))))))))))))))))) pk duplex\n",
      "........((..........+.......))........... --> ((((((((((((((((((((+)))))))))))))))))))) pk duplex\n",
      "....((..............+........)).......... --> ((((((((((((((((((((+)))))))))))))))))))) pk duplex\n",
      "(((.................+..........)))....... --> ((((((((((((((((((((+)))))))))))))))))))) pk duplex\n",
      ".((.................+.......))........... --> ((((((((((((((((((((+)))))))))))))))))))) pk duplex\n",
      "...........((.......+.................)). --> ((((((((((((((((((((+)))))))))))))))))))) pk duplex\n",
      ".......(((..........+.................))) --> ((((((((((((((((((((+)))))))))))))))))))) pk duplex\n",
      "..........((........+..............)).... --> ((((((((((((((((((((+)))))))))))))))))))) pk duplex\n",
      "...........((.......+..........))........ --> ((((((((((((((((((((+)))))))))))))))))))) pk duplex\n",
      "..............((....+......))............ --> ((((((((((((((((((((+)))))))))))))))))))) pk duplex\n",
      "............((......+....)).............. --> .......(((..........+.................))) pseudoknotting 8\n",
      "....((..............+........)).......... --> .......(((..........+.................))) pseudoknotting 4\n",
      "...........((.......+.................)). --> (((.................+..........)))....... pseudoknotting back 3\n",
      "..........((........+..............)).... --> (((.................+..........)))....... pseudoknotting back 3\n",
      "..............((....+......))............ --> (((.................+..........)))....... pseudoknotting back 3\n",
      ".((.................+.......))........... --> .......(((..........+.................))) pseudoknotting 3\n",
      "GTAGATGGTAATACACTTCG\n"
     ]
    }
   ],
   "source": [
    "import networkx as nx \n",
    "M = Model(standard=True)\n",
    "M.setgeometry(theta=90, phi=180)\n",
    "A = Strand.random(M, 20)\n",
    "# A = Strand(M, 'GACAAATTCGGCCTGGGA')\n",
    "B = A.complementary()\n",
    "K = Kinetics(M, A, B)\n",
    "N = Kinetwork(M, A, B)    \n",
    "print(A.sequence)\n",
    "N.save_graph('.')"
   ]
  },
  {
   "cell_type": "code",
   "execution_count": 8,
   "metadata": {},
   "outputs": [
    {
     "ename": "TypeError",
     "evalue": "Kinetwork.filternodes() missing 3 required positional arguments: 'property', 'function', and 'graph'",
     "output_type": "error",
     "traceback": [
      "\u001b[0;31m---------------------------------------------------------------------------\u001b[0m",
      "\u001b[0;31mTypeError\u001b[0m                                 Traceback (most recent call last)",
      "Cell \u001b[0;32mIn[8], line 1\u001b[0m\n\u001b[0;32m----> 1\u001b[0m N\u001b[39m.\u001b[39;49mfilternodes()\n",
      "\u001b[0;31mTypeError\u001b[0m: Kinetwork.filternodes() missing 3 required positional arguments: 'property', 'function', and 'graph'"
     ]
    }
   ],
   "source": [
    "N.filternodes()"
   ]
  },
  {
   "cell_type": "code",
   "execution_count": null,
   "metadata": {},
   "outputs": [],
   "source": [
    "from itertools import permutations, combinations, pairwise\n",
    "\n",
    "nodes = list(   N.filternodes('pairs', lambda x: x == 1, \n",
    "                N.filternodes('dpxdist', lambda x: x == -1, N.DG)).nodes())\n",
    "nodes = [Structure(node) for node in nodes]\n",
    "classifica = []\n",
    "for packs in range(len(nodes)):\n",
    "    for combo in combinations(nodes,packs):\n",
    "        empty = Structure.empty(18)\n",
    "        for node in combo:\n",
    "            empty = [e1 or e2 for e1, e2 in zip(node.table, empty.table)]\n",
    "            empty = Structure(empty, fromtable=True)\n",
    "            compx = Complex(M, A, B.invert, state='backfray', structure=empty.str)\n",
    "            classifica.append((empty.str, compx.G))"
   ]
  },
  {
   "cell_type": "code",
   "execution_count": null,
   "metadata": {},
   "outputs": [
    {
     "data": {
      "text/html": [
       "<div>\n",
       "<style scoped>\n",
       "    .dataframe tbody tr th:only-of-type {\n",
       "        vertical-align: middle;\n",
       "    }\n",
       "\n",
       "    .dataframe tbody tr th {\n",
       "        vertical-align: top;\n",
       "    }\n",
       "\n",
       "    .dataframe thead th {\n",
       "        text-align: right;\n",
       "    }\n",
       "</style>\n",
       "<table border=\"1\" class=\"dataframe\">\n",
       "  <thead>\n",
       "    <tr style=\"text-align: right;\">\n",
       "      <th></th>\n",
       "      <th>0</th>\n",
       "      <th>1</th>\n",
       "    </tr>\n",
       "  </thead>\n",
       "  <tbody>\n",
       "    <tr>\n",
       "      <th>48</th>\n",
       "      <td>...............((.+..))..............</td>\n",
       "      <td>-2.546662</td>\n",
       "    </tr>\n",
       "    <tr>\n",
       "      <th>8</th>\n",
       "      <td>....((............+.............))...</td>\n",
       "      <td>-1.480401</td>\n",
       "    </tr>\n",
       "    <tr>\n",
       "      <th>153</th>\n",
       "      <td>............(..((.+..))..)...........</td>\n",
       "      <td>-1.051676</td>\n",
       "    </tr>\n",
       "    <tr>\n",
       "      <th>3</th>\n",
       "      <td>..........(.......+........).........</td>\n",
       "      <td>-0.488187</td>\n",
       "    </tr>\n",
       "    <tr>\n",
       "      <th>4</th>\n",
       "      <td>............(.....+......)...........</td>\n",
       "      <td>-0.488187</td>\n",
       "    </tr>\n",
       "    <tr>\n",
       "      <th>...</th>\n",
       "      <td>...</td>\n",
       "      <td>...</td>\n",
       "    </tr>\n",
       "    <tr>\n",
       "      <th>84</th>\n",
       "      <td>....(.....(.....(.+..).....).....)...</td>\n",
       "      <td>7.452172</td>\n",
       "    </tr>\n",
       "    <tr>\n",
       "      <th>265</th>\n",
       "      <td>.....(....(.(...(.+..)...).)....)....</td>\n",
       "      <td>7.768348</td>\n",
       "    </tr>\n",
       "    <tr>\n",
       "      <th>353</th>\n",
       "      <td>....(..(..(.(...(.+..)...).)..)..)...</td>\n",
       "      <td>8.067574</td>\n",
       "    </tr>\n",
       "    <tr>\n",
       "      <th>213</th>\n",
       "      <td>....(..(....(...(.+..)...)....)..)...</td>\n",
       "      <td>8.252785</td>\n",
       "    </tr>\n",
       "    <tr>\n",
       "      <th>225</th>\n",
       "      <td>....(.....(.(...(.+..)...).).....)...</td>\n",
       "      <td>8.335735</td>\n",
       "    </tr>\n",
       "  </tbody>\n",
       "</table>\n",
       "<p>126 rows × 2 columns</p>\n",
       "</div>"
      ],
      "text/plain": [
       "                                         0         1\n",
       "48   ...............((.+..)).............. -2.546662\n",
       "8    ....((............+.............))... -1.480401\n",
       "153  ............(..((.+..))..)........... -1.051676\n",
       "3    ..........(.......+........)......... -0.488187\n",
       "4    ............(.....+......)........... -0.488187\n",
       "..                                     ...       ...\n",
       "84   ....(.....(.....(.+..).....).....)...  7.452172\n",
       "265  .....(....(.(...(.+..)...).)....)....  7.768348\n",
       "353  ....(..(..(.(...(.+..)...).)..)..)...  8.067574\n",
       "213  ....(..(....(...(.+..)...)....)..)...  8.252785\n",
       "225  ....(.....(.(...(.+..)...).).....)...  8.335735\n",
       "\n",
       "[126 rows x 2 columns]"
      ]
     },
     "execution_count": 27,
     "metadata": {},
     "output_type": "execute_result"
    }
   ],
   "source": [
    "import pandas as pd \n",
    "\n",
    "pd.DataFrame(classifica).drop_duplicates().sort_values(1)"
   ]
  },
  {
   "cell_type": "code",
   "execution_count": null,
   "metadata": {},
   "outputs": [
    {
     "data": {
      "text/plain": [
       "1.7395180139262645"
      ]
     },
     "execution_count": 7,
     "metadata": {},
     "output_type": "execute_result"
    }
   ],
   "source": [
    "from itertools import combinations\n",
    "edges = N.filteredges('state', lambda x: x in ['zipping', 'backfray'], N.DG)\n",
    "fres = []\n",
    "for e in edges.edges():\n",
    "    fres.append(abs(N.DG.nodes[e[0]]['fre'] - N.DG.nodes[e[1]]['fre']))\n",
    "np.mean(fres)"
   ]
  },
  {
   "cell_type": "code",
   "execution_count": null,
   "metadata": {},
   "outputs": [
    {
     "name": "stdout",
     "output_type": "stream",
     "text": [
      "........((...+.)).......... 3 10 --> ..........((.+......))..... 10 6 pseudoknotting 7\n",
      "..........((.+......))..... 10 6 --> ........((...+.)).......... 3 10 pseudoknotting back 7\n",
      "........((...+.)).......... 3 10 --> .....((......+..........)). 5 10 pseudoknotting 7\n",
      ".....((......+..........)). 5 10 --> ........((...+.)).......... 3 10 pseudoknotting back 7\n",
      "........((...+.)).......... 3 10 --> ..........((.+...))........ 10 3 pseudoknotting 7\n",
      "..........((.+...))........ 10 3 --> ........((...+.)).......... 3 10 pseudoknotting back 7\n",
      "....(((......+...)))....... 6 7 --> .........((((+.........)))) 9 9 pseudoknotting 6\n",
      ".........((((+.........)))) 9 9 --> ....(((......+...)))....... 6 7 pseudoknotting back 6\n",
      "....(((......+...)))....... 6 7 --> ........((...+..........)). 8 10 pseudoknotting 6\n",
      "........((...+..........)). 8 10 --> ....(((......+...)))....... 6 7 pseudoknotting back 6\n",
      "....(((......+...)))....... 6 7 --> ..........((.+......))..... 10 6 pseudoknotting 6\n",
      "..........((.+......))..... 10 6 --> ....(((......+...)))....... 6 7 pseudoknotting back 6\n",
      "....(((......+...)))....... 6 7 --> .......(((...+......))).... 7 6 pseudoknotting 6\n",
      ".......(((...+......))).... 7 6 --> ....(((......+...)))....... 6 7 pseudoknotting back 6\n",
      ".((..........+......))..... 10 5 --> .........((((+.........)))) 9 9 pseudoknotting 5\n",
      ".........((((+.........)))) 9 9 --> .((..........+......))..... 10 5 pseudoknotting back 5\n",
      ".((..........+......))..... 10 5 --> ........((...+..........)). 8 10 pseudoknotting 5\n",
      "........((...+..........)). 8 10 --> .((..........+......))..... 10 5 pseudoknotting back 5\n",
      ".((..........+......))..... 10 5 --> .....((......+..........)). 5 10 pseudoknotting 5\n",
      ".....((......+..........)). 5 10 --> .((..........+......))..... 10 5 pseudoknotting back 5\n",
      ".((..........+......))..... 10 5 --> ..........((.+...))........ 10 3 pseudoknotting 5\n",
      "..........((.+...))........ 10 3 --> .((..........+......))..... 10 5 pseudoknotting back 5\n",
      ".....((......+.)).......... 6 10 --> .........((((+.........)))) 9 9 pseudoknotting 4\n",
      ".........((((+.........)))) 9 9 --> .....((......+.)).......... 6 10 pseudoknotting back 4\n",
      ".....((......+.)).......... 6 10 --> ........((...+..........)). 8 10 pseudoknotting 4\n",
      "........((...+..........)). 8 10 --> .....((......+.)).......... 6 10 pseudoknotting back 4\n",
      ".....((......+.)).......... 6 10 --> ..........((.+......))..... 10 6 pseudoknotting 4\n",
      "..........((.+......))..... 10 6 --> .....((......+.)).......... 6 10 pseudoknotting back 4\n",
      ".....((......+.)).......... 6 10 --> .......(((...+......))).... 7 6 pseudoknotting 4\n",
      ".......(((...+......))).... 7 6 --> .....((......+.)).......... 6 10 pseudoknotting back 4\n",
      ".....((......+.)).......... 6 10 --> ..........((.+...))........ 10 3 pseudoknotting 4\n",
      "..........((.+...))........ 10 3 --> .....((......+.)).......... 6 10 pseudoknotting back 4\n",
      ".((..........+...))........ 10 8 --> .........((((+.........)))) 9 9 pseudoknotting 2\n",
      ".........((((+.........)))) 9 9 --> .((..........+...))........ 10 8 pseudoknotting back 2\n",
      ".((..........+...))........ 10 8 --> ........((...+..........)). 8 10 pseudoknotting 2\n",
      "........((...+..........)). 8 10 --> .((..........+...))........ 10 8 pseudoknotting back 2\n",
      ".((..........+...))........ 10 8 --> ..........((.+......))..... 10 6 pseudoknotting 2\n",
      "..........((.+......))..... 10 6 --> .((..........+...))........ 10 8 pseudoknotting back 2\n",
      ".((..........+...))........ 10 8 --> .....((......+..........)). 5 10 pseudoknotting 2\n",
      ".....((......+..........)). 5 10 --> .((..........+...))........ 10 8 pseudoknotting back 2\n",
      ".((..........+...))........ 10 8 --> .......(((...+......))).... 7 6 pseudoknotting 2\n",
      ".......(((...+......))).... 7 6 --> .((..........+...))........ 10 8 pseudoknotting back 2\n",
      "((((.........+))))......... 9 9 --> .........((((+.........)))) 9 9 pseudoknotting 2\n",
      ".........((((+.........)))) 9 9 --> ((((.........+))))......... 9 9 pseudoknotting back 2\n",
      "((((.........+))))......... 9 9 --> ........((...+..........)). 8 10 pseudoknotting 2\n",
      "........((...+..........)). 8 10 --> ((((.........+))))......... 9 9 pseudoknotting back 2\n",
      "((((.........+))))......... 9 9 --> ..........((.+......))..... 10 6 pseudoknotting 2\n",
      "..........((.+......))..... 10 6 --> ((((.........+))))......... 9 9 pseudoknotting back 2\n",
      "((((.........+))))......... 9 9 --> .....((......+..........)). 5 10 pseudoknotting 2\n",
      ".....((......+..........)). 5 10 --> ((((.........+))))......... 9 9 pseudoknotting back 2\n",
      "((((.........+))))......... 9 9 --> .......(((...+......))).... 7 6 pseudoknotting 2\n",
      ".......(((...+......))).... 7 6 --> ((((.........+))))......... 9 9 pseudoknotting back 2\n"
     ]
    }
   ],
   "source": [
    "N.connect_slidings()"
   ]
  },
  {
   "cell_type": "code",
   "execution_count": null,
   "metadata": {},
   "outputs": [],
   "source": [
    "nodz = list(N.filternodes('state', lambda x: x == 'on_nucleation', N.DG).nodes())\n",
    "\n",
    "objs = [N.DG.nodes[node]['obj'] for node in nodz]"
   ]
  },
  {
   "cell_type": "code",
   "execution_count": null,
   "metadata": {},
   "outputs": [
    {
     "name": "stdout",
     "output_type": "stream",
     "text": [
      "(............+............)\n",
      ".(...........+...........).\n",
      "..(..........+..........)..\n",
      "...(.........+.........)...\n",
      "....(........+........)....\n",
      ".....(.......+.......).....\n",
      "......(......+......)......\n",
      ".......(.....+.....).......\n",
      "........(....+....)........\n",
      ".........(...+...).........\n",
      "..........(..+..)..........\n",
      "...........(.+.)...........\n",
      "............(+)............\n"
     ]
    }
   ],
   "source": [
    "for ob in objs:\n",
    "    print(ob.structure)"
   ]
  },
  {
   "cell_type": "code",
   "execution_count": null,
   "metadata": {},
   "outputs": [],
   "source": [
    "def get_ix(string, char):\n",
    "    indices = []\n",
    "    for i, e in enumerate(list(string)):\n",
    "        if e == char:\n",
    "            indices.append(i)\n",
    "    return indices "
   ]
  },
  {
   "cell_type": "code",
   "execution_count": null,
   "metadata": {},
   "outputs": [
    {
     "name": "stdout",
     "output_type": "stream",
     "text": [
      "(............+............)\n",
      "0\n"
     ]
    },
    {
     "data": {
      "text/plain": [
       "True"
      ]
     },
     "execution_count": 12,
     "metadata": {},
     "output_type": "execute_result"
    }
   ],
   "source": [
    "on = 0\n",
    "print(objs[on].structure)\n",
    "l = objs[on].structure.split('+')[0]\n",
    "r = objs[on].structure.split('+')[1][::-1]\n",
    "ixl = get_ix(l,'(')[0]\n",
    "ixr = get_ix(r,')')[0]\n",
    "\n",
    "print(objs[on].s1.sdist[ixl])\n",
    "objs[on].s1.sdist[ixl] == objs[on].s1.sdist[ixr]\n"
   ]
  },
  {
   "cell_type": "code",
   "execution_count": null,
   "metadata": {},
   "outputs": [
    {
     "data": {
      "text/plain": [
       "7.0"
      ]
     },
     "execution_count": 13,
     "metadata": {},
     "output_type": "execute_result"
    }
   ],
   "source": [
    "np.ceil(2*SXGEO.PERSISTENCE/SXGEO.MONODIST)"
   ]
  },
  {
   "cell_type": "code",
   "execution_count": null,
   "metadata": {},
   "outputs": [
    {
     "name": "stdout",
     "output_type": "stream",
     "text": [
      "-6.350e+14\n"
     ]
    }
   ],
   "source": [
    "print(f'{K.ksphere_sano():.3e}')"
   ]
  },
  {
   "cell_type": "code",
   "execution_count": null,
   "metadata": {},
   "outputs": [
    {
     "name": "stdout",
     "output_type": "stream",
     "text": [
      "-5.315e+14\n",
      "-5.035e+14\n",
      "\n",
      "1e-07\n",
      "2.4373526622136567e-07\n"
     ]
    }
   ],
   "source": [
    "bottomheignt = 2*SXGEO.PERSISTENCE\n",
    "topgyradius  = K.gyradiuses(N=4)\n",
    "kc = K.ksphere_sano(a=topgyradius, badd=(bottomheignt))\n",
    "print(f'{kc:.3e}')\n",
    "kc = K.ksphere_sano(SXGEO.CY_RADIUS)\n",
    "print(f'{kc:.3e}')\n",
    "print()\n",
    "print(SXGEO.CY_RADIUS)\n",
    "print(K.gr1)"
   ]
  }
 ],
 "metadata": {
  "kernelspec": {
   "display_name": "hdna",
   "language": "python",
   "name": "python3"
  },
  "language_info": {
   "codemirror_mode": {
    "name": "ipython",
    "version": 3
   },
   "file_extension": ".py",
   "mimetype": "text/x-python",
   "name": "python",
   "nbconvert_exporter": "python",
   "pygments_lexer": "ipython3",
   "version": "3.10.9"
  },
  "orig_nbformat": 4,
  "vscode": {
   "interpreter": {
    "hash": "13f02c433cbffcd00bbcbbfeff349f4b7c28e9023d8fb9f65ab93bb104997abd"
   }
  }
 },
 "nbformat": 4,
 "nbformat_minor": 2
}
